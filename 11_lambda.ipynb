{
 "cells": [
  {
   "cell_type": "markdown",
   "id": "542dac8d-5d61-49ff-ad41-59b7f9e563f1",
   "metadata": {},
   "source": [
    "# $\\lambda$ calculations for $w_{g,1}(\\lambda)$ and $\\Delta H(p)$\n",
    "For the models of relative populations, we use $p_0=37$.\n",
    "The parameter\n",
    "$$\\lambda(p_k) = \\prod_{p=41}^{p_k} \\frac{p-3}{p-2} $$\n",
    "So we create an array of values of $\\lambda$ associated with the primes covered by \n",
    "$\\mathcal{G}(23^\\#)$ for $p_0 = 37$.  The minimum value under this range is\n",
    "$$ \\lambda(p_k=223092827) = 0.19416057 $$\n",
    "However, the range of these primes is almost covered by the horizon of survival $H(p_k)= [p_{k+1},p_{k+1}^2]$\n",
    "$$ H(p=14929) \\; {\\rm with} \\; \\lambda=0.3880218443549397$$\n",
    "\n",
    "There are three sections to building up these results:  calculation of values of $\\lambda$ across the \n",
    "range of primes; importing the curves $w_{g,1}(\\lambda)$ from the previous notebook for estimates; and enumerating\n",
    "the gaps across consecutive intervals of survival $\\Delta H(p)$."
   ]
  },
  {
   "cell_type": "code",
   "execution_count": 1,
   "id": "4535b620-aea8-4270-b810-76a2288702fb",
   "metadata": {},
   "outputs": [
    {
     "data": {
      "text/plain": [
       "<function matplotlib.pyplot.ion() -> 'AbstractContextManager'>"
      ]
     },
     "execution_count": 1,
     "metadata": {},
     "output_type": "execute_result"
    }
   ],
   "source": [
    "%reset -f\n",
    "\n",
    "import pandas as pd\n",
    "import numpy as np\n",
    "from numpy.polynomial.polynomial import polyval\n",
    "import array\n",
    "import matplotlib\n",
    "%matplotlib inline\n",
    "import matplotlib.pyplot as plt\n",
    "\n",
    "import gc\n",
    "import psutil\n",
    "import sys\n",
    "\n",
    "import itertools\n",
    "from ipywidgets import interact\n",
    "import ipywidgets as widgets\n",
    "from IPython.display import display\n",
    "plt.ion\n"
   ]
  },
  {
   "cell_type": "code",
   "execution_count": 2,
   "id": "acb9e104-3ec4-4e29-8346-517d22c30174",
   "metadata": {},
   "outputs": [],
   "source": [
    "# we use primes23 as the range for pk\n",
    "primes23 = np.load('primes23.npy')\n"
   ]
  },
  {
   "cell_type": "code",
   "execution_count": 3,
   "id": "13f5ddeb-b7dc-479d-89aa-cc1c5a55096e",
   "metadata": {},
   "outputs": [
    {
     "name": "stdout",
     "output_type": "stream",
     "text": [
      "Available memory: 3193.20 MB\n"
     ]
    }
   ],
   "source": [
    "# block to check the available system memory\n",
    "gc.collect()\n",
    "memory = psutil.virtual_memory()\n",
    "available_memory = memory.available\n",
    "del memory\n",
    "print(f\"Available memory: {available_memory / (1024 ** 2):.2f} MB\")"
   ]
  },
  {
   "cell_type": "code",
   "execution_count": 4,
   "id": "7600f947-bbc0-4e2c-924b-3b0dec7b67e7",
   "metadata": {},
   "outputs": [
    {
     "name": "stdout",
     "output_type": "stream",
     "text": [
      "Length primes 12283522 maxp 223092827\n"
     ]
    }
   ],
   "source": [
    "lenp23 = len(primes23)\n",
    "maxp23 = primes23[-1]\n",
    "print(f\"Length primes {lenp23} maxp {maxp23}\")\n",
    "# These lengths= primes 12283522 maxp 223092827"
   ]
  },
  {
   "cell_type": "code",
   "execution_count": 5,
   "id": "69a04828-fb58-4d24-9d64-37d6003441c3",
   "metadata": {},
   "outputs": [],
   "source": [
    "lambda23 = np.zeros(lenp23)"
   ]
  },
  {
   "cell_type": "code",
   "execution_count": 6,
   "id": "c4c144d3-759c-4cf8-afe3-1377de130256",
   "metadata": {},
   "outputs": [],
   "source": [
    "# primes23[2:5] are 37, 41, 43\n",
    "lambda23[0] = 1\n",
    "ilam = 0\n",
    "ip = 2 # the offset from lambda23 into primes23 for p0=37\n",
    "while (ip < (lenp23-1)):\n",
    "    ilam += 1\n",
    "    ip += 1\n",
    "    lambda23[ilam] = lambda23[ilam-1]*(primes23[ip]-3)/(primes23[ip]-2)"
   ]
  },
  {
   "cell_type": "code",
   "execution_count": 7,
   "id": "f236580c-110e-4c76-a184-2b42bc24db0f",
   "metadata": {},
   "outputs": [
    {
     "name": "stdout",
     "output_type": "stream",
     "text": [
      "550545 p 8172013 lambda 0.2345\n"
     ]
    },
    {
     "data": {
      "text/plain": [
       "array([0.19416066, 0.19416066, 0.19416065, 0.19416065, 0.19416065,\n",
       "       0.19416065, 0.19416065, 0.19416065, 0.19416065, 0.19416065,\n",
       "       0.19416065, 0.19416065, 0.19416065, 0.19416064, 0.19416064,\n",
       "       0.19416064, 0.19416064, 0.19416064, 0.19416064, 0.19416064,\n",
       "       0.19416064, 0.19416064, 0.19416064, 0.19416064, 0.19416064,\n",
       "       0.19416063, 0.19416063, 0.19416063, 0.19416063, 0.19416063,\n",
       "       0.19416063, 0.19416063, 0.19416063, 0.19416063, 0.19416063,\n",
       "       0.19416063, 0.19416062, 0.19416062, 0.19416062, 0.19416062,\n",
       "       0.19416062, 0.19416062, 0.19416062, 0.19416062, 0.19416062,\n",
       "       0.19416062, 0.19416062, 0.19416062, 0.19416061, 0.19416061,\n",
       "       0.19416061, 0.19416061, 0.19416061, 0.19416061, 0.19416061,\n",
       "       0.19416061, 0.19416061, 0.19416061, 0.19416061, 0.1941606 ,\n",
       "       0.1941606 , 0.1941606 , 0.1941606 , 0.1941606 , 0.1941606 ,\n",
       "       0.1941606 , 0.1941606 , 0.1941606 , 0.1941606 , 0.1941606 ,\n",
       "       0.1941606 , 0.19416059, 0.19416059, 0.19416059, 0.19416059,\n",
       "       0.19416059, 0.19416059, 0.19416059, 0.19416059, 0.19416059,\n",
       "       0.19416059, 0.19416059, 0.19416058, 0.19416058, 0.19416058,\n",
       "       0.19416058, 0.19416058, 0.19416058, 0.19416058, 0.19416058,\n",
       "       0.19416058, 0.19416058, 0.19416058, 0.19416058, 0.19416057,\n",
       "       0.19416057, 0.19416057, 0.19416057, 0.        ])"
      ]
     },
     "execution_count": 7,
     "metadata": {},
     "output_type": "execute_result"
    }
   ],
   "source": [
    "# finding the index for a prime near the max for p^2 near 66 trillion\n",
    "i=500000\n",
    "while (primes23[i] < 8172000):\n",
    "    i += 1\n",
    "print(f\"{i} p {primes23[i]} lambda {lambda23[i]:.4f}\")\n",
    "lambda23[-100:-1]"
   ]
  },
  {
   "cell_type": "code",
   "execution_count": 1,
   "id": "b271a0b6-6ed9-46d6-ac41-d0a714603d65",
   "metadata": {},
   "outputs": [],
   "source": [
    "# SAVE this data for use in other modules\n",
    "# we comment out this command to prevent accidental clobbering of existing files\n",
    "# np.save('lambda37_8M.npy', lambda23)"
   ]
  },
  {
   "cell_type": "code",
   "execution_count": null,
   "id": "134cce4f-8032-4cdf-b312-7bb8e696181c",
   "metadata": {},
   "outputs": [],
   "source": []
  },
  {
   "cell_type": "code",
   "execution_count": null,
   "id": "6f17e9cf-68bf-4c05-ba98-8fc821af8a1d",
   "metadata": {},
   "outputs": [],
   "source": []
  },
  {
   "cell_type": "code",
   "execution_count": null,
   "id": "e57b505f-9286-42ff-807d-a26a79662a2a",
   "metadata": {},
   "outputs": [],
   "source": []
  }
 ],
 "metadata": {
  "kernelspec": {
   "display_name": "Python 3 (ipykernel)",
   "language": "python",
   "name": "python3"
  },
  "language_info": {
   "codemirror_mode": {
    "name": "ipython",
    "version": 3
   },
   "file_extension": ".py",
   "mimetype": "text/x-python",
   "name": "python",
   "nbconvert_exporter": "python",
   "pygments_lexer": "ipython3",
   "version": "3.11.5"
  }
 },
 "nbformat": 4,
 "nbformat_minor": 5
}
