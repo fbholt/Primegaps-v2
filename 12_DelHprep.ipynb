{
 "cells": [
  {
   "cell_type": "markdown",
   "id": "542dac8d-5d61-49ff-ad41-59b7f9e563f1",
   "metadata": {},
   "source": [
    "# $\\Delta H(p)$ calculations\n",
    "\n",
    "In this notebook we compare the relative populations of gaps $w_{g,1}(\\lambda)$ to samples of the populations\n",
    "of gaps across the intervals of survival \n",
    "$$\\Delta H(p_k) = [p_k^2, p_{k+1}^2]$$\n",
    "We compare these actual counts to estimates made from the $w_{g,1}(\\lambda)$.\n",
    "\n",
    "For the models $w_{g,1}(p_k^\\#)=w_{g,1}(\\lambda)$ of relative populations, we use $p_0=37$.\n",
    "The parameter\n",
    "$$\\lambda(p_k) = \\prod_{p=41}^{p_k} \\frac{p-3}{p-2} $$\n",
    "So we create an array of values of $\\lambda$ associated with the primes covered by the array <i>smallprimes[]</i>\n",
    "for $p_0 = 37$.  The minimum value for $\\lambda$ under this range is\n",
    "$$ \\lambda(p_k=1023101273) = 0.17990711 $$\n",
    "There is an offset of 10 between the array of small primes and the array of the corresponding $\\lambda$\n",
    "\n",
    "This notebook prepares the data for comparing the actual populations of gaps between primes with the estimated populations\n",
    "from the $w_{g,1}(\\lambda)$.\n",
    "\n",
    "This code includes \n",
    "* a function for identifying the primes and prime gaps in long intervals among large primes.\n",
    "* code for summarizing the populations of these gaps by interval of survival.\n",
    "\n"
   ]
  },
  {
   "cell_type": "code",
   "execution_count": 1,
   "id": "4535b620-aea8-4270-b810-76a2288702fb",
   "metadata": {},
   "outputs": [],
   "source": [
    "%reset -f\n",
    "\n",
    "import numpy as np\n",
    "import array\n",
    "import pickle\n",
    "\n",
    "import gc\n",
    "import psutil\n",
    "import sys\n",
    "\n",
    "import itertools\n"
   ]
  },
  {
   "cell_type": "markdown",
   "id": "368c7066-a284-4dba-98f2-762ba6449f6d",
   "metadata": {},
   "source": [
    "## Loading the array of primes and the array for $\\lambda$\n",
    "We will be comparing actual counts $N_\\Delta$ of gaps in the intervals of survival\n",
    "$$\\Delta H(p_k) \\; = \\; [p_k^2,\\; p_{k+1}^2],$$\n",
    "across several sampled intervals of survival, to the estimated populations from the relative population models\n",
    "$w_{g,1}(\\lambda)$.\n",
    "\n",
    "We load the small primes to track $p_k$, and to lookup the $\\lambda$ corresponding to $p_k$ we load the array <i>lambdaE9[]</i>.\n",
    "For our relative population models $w_{g,1}(\\lambda)=w_{g,1}(p_k^\\#)$ we start at $p_0=37$.  So $\\lambda=1$ for $p_0=37$\n",
    "and then\n",
    "$$ \\lambda(p_k) \\; = \\; \\prod_{41}^{p_k} \\frac{p-3}{p-2}$$"
   ]
  },
  {
   "cell_type": "code",
   "execution_count": 2,
   "id": "acb9e104-3ec4-4e29-8346-517d22c30174",
   "metadata": {},
   "outputs": [],
   "source": [
    "# we use primesE9 as the range for pk\n",
    "# The interval of survival Delta-H(pk) goes from (pk)^2 to (p{k+1})^2\n",
    "smallprimes = np.load('primesE9.npy')\n"
   ]
  },
  {
   "cell_type": "code",
   "execution_count": 3,
   "id": "13f5ddeb-b7dc-479d-89aa-cc1c5a55096e",
   "metadata": {},
   "outputs": [
    {
     "name": "stdout",
     "output_type": "stream",
     "text": [
      "Available memory: 2754.77 MB\n"
     ]
    }
   ],
   "source": [
    "# block to check the available system memory\n",
    "gc.collect()\n",
    "memory = psutil.virtual_memory()\n",
    "available_memory = memory.available\n",
    "del memory\n",
    "print(f\"Available memory: {available_memory / (1024 ** 2):.2f} MB\")"
   ]
  },
  {
   "cell_type": "code",
   "execution_count": 4,
   "id": "7600f947-bbc0-4e2c-924b-3b0dec7b67e7",
   "metadata": {},
   "outputs": [
    {
     "name": "stdout",
     "output_type": "stream",
     "text": [
      "Length primes 51961884  maxp 1023101273=1.0231e+09 maxhorizon 1046736214814220529 or 1.0467e+18\n"
     ]
    }
   ],
   "source": [
    "lensmallprimes = len(smallprimes)\n",
    "maxsmallprime = smallprimes[-1]\n",
    "print(f\"Length primes {lensmallprimes}  maxp {maxsmallprime}={maxsmallprime:.4e} maxhorizon {maxsmallprime**2} or {(maxsmallprime**2):.4e}\")\n",
    "# These values= primes 51961553  maxp 1023094327 maxhorizon 1046722001939582929"
   ]
  },
  {
   "cell_type": "code",
   "execution_count": 5,
   "id": "bae7871d-210f-48b6-9943-5c19d4d1052a",
   "metadata": {},
   "outputs": [
    {
     "data": {
      "text/plain": [
       "array([37, 41, 43, 47, 53])"
      ]
     },
     "execution_count": 5,
     "metadata": {},
     "output_type": "execute_result"
    }
   ],
   "source": [
    "# displaying the offset between smallprimes[] and lambdaE9[]\n",
    "smallprimes[10:15]"
   ]
  },
  {
   "cell_type": "code",
   "execution_count": 6,
   "id": "b0999692-36d2-4135-bbb5-8e8a158c5e61",
   "metadata": {},
   "outputs": [],
   "source": [
    "try:\n",
    "    lambdaE9 = np.load('lambdaE9.npy')\n",
    "except FileNotFoundError:\n",
    "    i=10 # offset for p=37\n",
    "    j=0\n",
    "    lambdaE9 = np.zeros(lensmallprimes-10)\n",
    "    lambdaE9[0] = 1\n",
    "    while (i < (lensmallprimes-1)):\n",
    "        j += 1\n",
    "        i += 1\n",
    "        lambdaE9[j] = lambdaE9[j-1] * (smallprimes[i]-3)/(smallprimes[i]-2)\n",
    "    np.save('lambdaE9.npy', lambdaE9)"
   ]
  },
  {
   "cell_type": "code",
   "execution_count": 7,
   "id": "81d82f7c-8a35-4567-9af1-13d5d21c020c",
   "metadata": {},
   "outputs": [
    {
     "name": "stdout",
     "output_type": "stream",
     "text": [
      "lenp 51961884 maxp 1023101273 lenlam 51961874 minlam 0.17990704950441305\n"
     ]
    }
   ],
   "source": [
    "print(f\"lenp {lensmallprimes} maxp {smallprimes[-1]} lenlam {len(lambdaE9)} minlam {lambdaE9[-1]}\")"
   ]
  },
  {
   "cell_type": "code",
   "execution_count": null,
   "id": "712f22b5-7ffc-49f9-a950-42d515c0d007",
   "metadata": {},
   "outputs": [],
   "source": []
  },
  {
   "cell_type": "code",
   "execution_count": 8,
   "id": "f236580c-110e-4c76-a184-2b42bc24db0f",
   "metadata": {},
   "outputs": [
    {
     "name": "stdout",
     "output_type": "stream",
     "text": [
      "550553 p 8172013 lambda 0.2345\n",
      "last 51961883 p 1023101273 lambda 0.1799\n"
     ]
    },
    {
     "data": {
      "text/plain": [
       "array([0.17990707, 0.17990707, 0.17990707, 0.17990707, 0.17990707,\n",
       "       0.17990707, 0.17990707, 0.17990707, 0.17990707, 0.17990707,\n",
       "       0.17990707, 0.17990706, 0.17990706, 0.17990706, 0.17990706,\n",
       "       0.17990706, 0.17990706, 0.17990706, 0.17990706, 0.17990706,\n",
       "       0.17990706, 0.17990706, 0.17990706, 0.17990706, 0.17990706,\n",
       "       0.17990706, 0.17990706, 0.17990706, 0.17990706, 0.17990706,\n",
       "       0.17990706, 0.17990706, 0.17990706, 0.17990706, 0.17990706,\n",
       "       0.17990706, 0.17990706, 0.17990706, 0.17990706, 0.17990706,\n",
       "       0.17990706, 0.17990706, 0.17990706, 0.17990706, 0.17990706,\n",
       "       0.17990706, 0.17990706, 0.17990706, 0.17990706, 0.17990706,\n",
       "       0.17990706, 0.17990706, 0.17990706, 0.17990706, 0.17990706,\n",
       "       0.17990706, 0.17990706, 0.17990706, 0.17990706, 0.17990706,\n",
       "       0.17990706, 0.17990706, 0.17990706, 0.17990706, 0.17990706,\n",
       "       0.17990706, 0.17990706, 0.17990706, 0.17990705, 0.17990705,\n",
       "       0.17990705, 0.17990705, 0.17990705, 0.17990705, 0.17990705,\n",
       "       0.17990705, 0.17990705, 0.17990705, 0.17990705, 0.17990705,\n",
       "       0.17990705, 0.17990705, 0.17990705, 0.17990705, 0.17990705,\n",
       "       0.17990705, 0.17990705, 0.17990705, 0.17990705, 0.17990705,\n",
       "       0.17990705, 0.17990705, 0.17990705, 0.17990705, 0.17990705,\n",
       "       0.17990705, 0.17990705, 0.17990705, 0.17990705])"
      ]
     },
     "execution_count": 8,
     "metadata": {},
     "output_type": "execute_result"
    }
   ],
   "source": [
    "# finding the index for a prime near the max for p^2 near 66 trillion\n",
    "# for indexing, lambda37[i] corresponds to smallprimes[i+12]\n",
    "i=500000\n",
    "while (smallprimes[i] < 8172000):\n",
    "    i += 1\n",
    "print(f\"{i} p {smallprimes[i]} lambda {lambdaE9[i-12]:.4f}\")\n",
    "i = len(smallprimes)-1\n",
    "print(f\"last {i} p {smallprimes[i]} lambda {lambdaE9[i-12]:.4f}\")\n",
    "lambdaE9[-100:-1]"
   ]
  },
  {
   "cell_type": "code",
   "execution_count": null,
   "id": "f62ec3e6-3a61-4d75-bc22-d07aee999a6f",
   "metadata": {},
   "outputs": [],
   "source": []
  },
  {
   "cell_type": "code",
   "execution_count": 8,
   "id": "529d4ce4-d0f2-4810-ab18-db5ab3cf8c58",
   "metadata": {
    "scrolled": true
   },
   "outputs": [
    {
     "data": {
      "text/plain": [
       "(np.float64(3.7323131692898377), np.float64(3.7323704160415))"
      ]
     },
     "execution_count": 8,
     "metadata": {},
     "output_type": "execute_result"
    }
   ],
   "source": [
    "# calculate MertensC, the ratio between parameter lambdaE9 and ln(pk)\n",
    "MertensC0 = lambdaE9[550541]*np.log(smallprimes[550551])\n",
    "MertensC1 = lambdaE9[-1]*np.log(smallprimes[-1])\n",
    "MertensC0, MertensC1"
   ]
  },
  {
   "cell_type": "code",
   "execution_count": null,
   "id": "d43ad4f9-0bf2-4ddf-ba69-be9de55da4db",
   "metadata": {},
   "outputs": [],
   "source": []
  },
  {
   "cell_type": "markdown",
   "id": "664668bb-0607-4ec4-bf09-3ca74698fbab",
   "metadata": {},
   "source": [
    "## Preparing for the comparison of sampled populations to estimates\n",
    "The following code provides code for aggregating the populations of gaps from these samples, within intervals of survival $\\Delta H(p)$\n",
    "\n",
    "We save the data as a list for easy saving and loading.\n"
   ]
  },
  {
   "cell_type": "code",
   "execution_count": 9,
   "id": "688a6219-acdb-46e2-b90e-b27c7c732b54",
   "metadata": {},
   "outputs": [],
   "source": [
    "# global variables describing the data for the figures\n",
    "min_samp =3\n",
    "max_samp = 101\n",
    "len_samp = 1\n",
    "num_DH = 0\n"
   ]
  },
  {
   "cell_type": "code",
   "execution_count": 10,
   "id": "e24f4877-f1e0-40d0-914b-409a398c117e",
   "metadata": {},
   "outputs": [],
   "source": [
    "\n",
    "# function for a light characterization of the data in a data-sample file of primes\n",
    "def blockcheck(filename):\n",
    "    global min_samp\n",
    "    global max_samp\n",
    "    global len_samp\n",
    "    global num_DH\n",
    "\n",
    "    testsample = np.load(filename)\n",
    "    min_samp = testsample[0]\n",
    "    max_samp = testsample[-1]\n",
    "    len_samp = len(testsample)\n",
    "\n",
    "    i = 0\n",
    "    minp = smallprimes[i]\n",
    "    while (minp**2 < min_samp):\n",
    "        i += 1\n",
    "        minp = smallprimes[i]\n",
    "    iminp = i\n",
    "    minp = smallprimes[iminp]  # minp has the smallest p^2 above min_samp\n",
    "\n",
    "    maxp = smallprimes[i]\n",
    "    while (maxp**2 < max_samp):\n",
    "        i += 1\n",
    "        maxp = smallprimes[i]\n",
    "    imaxp1 = i-1\n",
    "    maxp1 = smallprimes[imaxp1] # maxp1 has the largest p^2 below max_samp\n",
    "\n",
    "    # pick up marginal cases, where sample is a fragment of a DH\n",
    "    if (imaxp1 <= iminp):  # sample is a fragment of a single DH\n",
    "        # FRAGMENT - \n",
    "        # for now, terminate here.  This case is outside of the design for the interactive display\n",
    "        num_DH = 0\n",
    "        print(f\"FRAGMENT: data sample is an incomplete fragment of $\\Delta H$({minp})\")\n",
    "        return\n",
    "        \n",
    "    imaxp = imaxp1-1   # the start of the last interval [p^2,q^2] that fits inside the sample\n",
    "    maxp = smallprimes[imaxp]\n",
    "\n",
    "    # iminp, minp, imaxp, maxp, imaxp1, maxp1 are all associated with the array smallprimes[]\n",
    "    # minp: the start of the first DH(p) in the sample\n",
    "    # maxp: the start of the last DH(p) in the sample\n",
    "    # maxp1: the end of the last DH(p) in the sample\n",
    "    print(f\"sample of {len_samp} primes from {min_samp} to {max_samp}\")\n",
    "    print(f\"contains DeltaH from smallp[{iminp}]={minp} to smallp[{imaxp}]={maxp}\")\n",
    "\n",
    "    # the indices iDH0, iDH1, and iDH2 are associated with the array testsample[]\n",
    "    iDH0 = 0\n",
    "    while (testsample[iDH0] < minp**2):\n",
    "        iDH0 += 1   # iDH0 marks the first prime beyond minp^2\n",
    "    iDH1 = iDH0\n",
    "    if (maxp > minp):\n",
    "        while (testsample[iDH1] < maxp**2):\n",
    "            iDH1 += 1       # iDH1 marks the first prime inside the last DH(p)\n",
    "        iDH1 -= 1 \n",
    "    iDH2 = iDH1\n",
    "    while (testsample[iDH2] < (smallprimes[imaxp+1]**2)):\n",
    "        iDH2 += 1           # iDH2 marks the last prime inside the last DH(p)\n",
    "    iDH2 -= 1\n",
    "\n",
    "    print(f\"{imaxp-iminp+1} DeltaH cover sample[{iDH0}]={testsample[iDH0]} to sample[{iDH1}]={testsample[iDH1]} ending at sample[{iDH2}]={testsample[iDH2]}\")\n",
    "    print(f\" vs minp^2 {minp**2} and maxp^2 {maxp**2} and {(smallprimes[imaxp+1]**2)}\")\n",
    "    \n"
   ]
  },
  {
   "cell_type": "code",
   "execution_count": 11,
   "id": "96da181c-18fc-4f4e-aa83-88a695fae505",
   "metadata": {},
   "outputs": [
    {
     "name": "stdout",
     "output_type": "stream",
     "text": [
      "sample of 66214780 primes from 640001599543 to 641801599973\n",
      "contains DeltaH from smallp[63950]=800011 to smallp[64043]=801103\n",
      "94 DeltaH cover sample[588758]=640017600137 to sample[64906115]=641766016583 ending at sample[65141728]=641772425447\n",
      " vs minp^2 640017600121 and maxp^2 641766016609 and 641772425449\n"
     ]
    }
   ],
   "source": [
    "# [31 May 2025] - these blocks contain approximately 50M primes each\n",
    "# blockcheck('primeblockE18_1046twin.npy') # 1 DH around E18, at twin prime - this file contains over 130M primes\n",
    "# blockcheck('primeblockE18_1046.npy') # fragment of one DH\n",
    "# blockcheck('primeblockE17_200.npy')  # 2 DH\n",
    "# blockcheck('primeblockE15_169.npy')  # one DH\n",
    "# blockcheck('primeblockE14_568.npy')    # 7 DH\n",
    "# blockcheck('primeblockE13_668.npy')    # 7 DH\n",
    "# blockcheck('primeblockE12_742.npy')    # 18 DH\n",
    "blockcheck('primeblockE11_640.npy')    #  DH\n",
    "# blockcheck('primeblockE10_108.npy')    # 506 DH\n",
    "# blockcheck('primeblockE09_900.npy')    # 881 DH\n",
    "# blockcheck('primeblockE09_360.npy')    # 1021 DH"
   ]
  },
  {
   "cell_type": "markdown",
   "id": "054b5987-ed78-40b2-8101-2611547494bb",
   "metadata": {},
   "source": [
    "## Notes on samples of primes\n",
    "\n",
    "| filename | num primes | $\\min P$ | $\\max P$ | $\\# \\Delta H$ | $\\Delta H(p_0)$ | $\\min P$ | $\\Delta H(q_k)$ | $\\max P$ |\n",
    "| :--- | ---: | ---: | ---: | :---: | ---: | ---: | ---: | ---: |\n",
    "| primeblockE09_360.npy | $55008596$ | $2400255059$ |$3600255031$ | $1021$ | $49003$ | $2401294057$ | $59981$ | $3599879993$ |\n",
    "| primeblockE09_900.npy | $78902338$ | $7200254309$ |$9000254779$ | $881$ | $84857$ | $7200710471$ | $94847$ | $8996332747$ |\n",
    "| primeblockE09_960.npy | $52355884$ | $8400254153$ |$9600254149$ | $557$ | $91673$ | $8403938941$ | $97967$ | $9598708711$ |\n",
    "| primeblockE10_108.npy | $52072153$ | $9600254077$ | $10800254051$ | $506$ |$97987$ | $9601452193$|  $103913$ | $10799158553$ |\n",
    "| primeblockE11_640.npy | $66214780$ | $6.400E11$ | $6.400E11$ | $94$ |$800011$ | $640017600137$|  $801103$ | $641772425447$ |\n",
    "| primeblockE12_742.npy | $50612312$ | $7.421E12$ |$7.422E12$ | $18$ | $2724109$ | $7420769843911$ | $2724367$ | $7422230038127$ |\n",
    "| primeblockE13_668.npy | $50267204$ | $6.679E13$ |$6.679E13$ | $7$ | $8172391$ | $66787974656917$ | $8172487$ | $66789543765101$ |\n",
    "| primeblockE14_568.npy | $105954508$ | $5.677E14$ |$5.677E14$ | $7$ | $23826527$ | $567703388881771$ | $23826587$ | $567706819906781$ |\n",
    "| primeblockE15_169.npy | $51337046$ | $1.694E15$ |$1.694E15$ | $1$ | $41161829$ | $1694296166625301$ | $41161829$ | $1694297813098769$ |\n",
    "| primeblockE17_200.npy | $135549263$ | $2.00E17$ |$2.00E17$ | $2$ | $447216097$ | $200002237415913437$ | $447216101$ | $200002242782506531$ |\n",
    "| primeblockE18_1046twin.npy | $130135262$ | $1.046E18$ | $1.046E18$ | $1$ |$1023094199$ | $1046721740027451601$|  $1023094201$ | $1046721744119828377$ |\n",
    "\n"
   ]
  },
  {
   "cell_type": "markdown",
   "id": "7becb127-8d15-411f-ba53-ec1b2ece5a9b",
   "metadata": {},
   "source": [
    "## Accumulations over intervals $\\Delta H(p)$\n",
    "For comparison with the relative populations $w_{g,1}(p^\\#)$, we accumulate the counts of gaps within the intervals of survival $\\Delta H(p) = [p^2, q^2]$."
   ]
  },
  {
   "cell_type": "code",
   "execution_count": 12,
   "id": "ef22c346-f4ac-46ef-a134-a82ff7961366",
   "metadata": {},
   "outputs": [],
   "source": [
    "# now the processing function to create the DH(p) data over the data sample from file\n",
    "# createDH returns a list of 3 items:\n",
    "#  [0]: samp0 = the smallest prime inside the first interval of survival for the data sample\n",
    "#  [1]: [iminp, minp] = data for the first smallprime[] associated with the intervals of survival\n",
    "#  [2]: DelH[numintervals,numgaps] = the counts of gaps, indexed j=int(gap/2)-1, across the intervals DH(p)\n",
    "def createDH(filename):\n",
    "    global min_samp\n",
    "    global max_samp\n",
    "    global len_samp\n",
    "    global num_DH\n",
    "\n",
    "    testsample = np.load(filename)\n",
    "    min_samp = testsample[0]\n",
    "    max_samp = testsample[-1]\n",
    "    len_samp = len(testsample)\n",
    "\n",
    "    i = 0\n",
    "    minp = smallprimes[i]\n",
    "    while (minp**2 < min_samp):\n",
    "        i += 1\n",
    "        minp = smallprimes[i]\n",
    "    iminp = i\n",
    "    minp = smallprimes[iminp]  # minp has the smallest p^2 above min_samp\n",
    "\n",
    "    maxp = smallprimes[i]\n",
    "    while (maxp**2 < max_samp):\n",
    "        i += 1\n",
    "        maxp = smallprimes[i]\n",
    "    imaxp1 = i-1\n",
    "    maxp1 = smallprimes[imaxp1] # maxp1 has the largest p^2 below max_samp\n",
    "\n",
    "    # check for degenerate cases:  a single DH or a fragment of a DH\n",
    "    # XXXQHERE === XXXQHERE === [6/3] - pick up marginal cases\n",
    "    if (imaxp1 <= iminp):  # sample is a fragment of a single DH\n",
    "        # what to do what to do\n",
    "        num_DH = 0\n",
    "        # XXXXQHERE\n",
    "        \n",
    "    imaxp = imaxp1-1   # the start of the last interval [p^2,q^2] that fits inside the sample\n",
    "    maxp = smallprimes[imaxp]\n",
    "\n",
    "    # iminp, minp, imaxp, maxp, imaxp1, maxp1 are all associated with the array smallprimes[]\n",
    "    # minp: the start of the first DH(p) in the sample\n",
    "    # maxp: the start of the last DH(p) in the sample\n",
    "    # maxp1: the end of the last DH(p) in the sample\n",
    "    print(f\"sample of {len_samp} primes from {min_samp} to {max_samp}\")\n",
    "    print(f\"contains DeltaH from {iminp}:{minp} to {imaxp}:{maxp}\")\n",
    "\n",
    "    # the indices iDH0, iDH1, and iDH2 are associated with the array testsample[]\n",
    "    iDH0 = 0\n",
    "    while (testsample[iDH0] < minp**2):\n",
    "        iDH0 += 1   # iDH0 marks the first prime beyond minp^2\n",
    "    iDH1 = iDH0\n",
    "    if (maxp > minp):\n",
    "        while (testsample[iDH1] < maxp**2):\n",
    "            iDH1 += 1       # iDH1 marks the first prime inside the last DH(p)\n",
    "        iDH1 -= 1 \n",
    "    iDH2 = iDH1\n",
    "    while (testsample[iDH2] < (smallprimes[imaxp+1]**2)):\n",
    "        iDH2 += 1           # iDH2 marks the last prime inside the last DH(p)\n",
    "    iDH2 -= 1\n",
    "\n",
    "    # We have indices for the array of smallprimes[] and the array of testsample[]\n",
    "    # Record the starting sample-prime and create the array of gaps\n",
    "    samp0 = testsample[iDH0]\n",
    "    if (iDH0 > 0):\n",
    "        gapsample = testsample[iDH0:(iDH2+1)] - testsample[(iDH0-1):iDH2]\n",
    "    # indexing across the arrays is gap[i] = sampleprimes[i+iDH0]-sampleprimes[i-1+iDH0]\n",
    "    len_gaps = len(gapsample)\n",
    "    numintervals = imaxp1 - iminp\n",
    "\n",
    "    # create the DelH 2-d array\n",
    "    maxgap = np.max(gapsample)\n",
    "    numgaps = int(maxgap/2)\n",
    "    DelH = np.zeros((numintervals, numgaps), dtype=int)\n",
    "    \n",
    "    # accumulate counts across gapsample\n",
    "    ipk=iminp+1  # index in smallprimes[] to mark the boundaries for the DH(p)\n",
    "    iDH = 0      # index in DH[] for interval of survival\n",
    "    jg = 0       # index in gapsample[] for counting gaps\n",
    "    jp = iDH0    # index in testsample[] for tracking progress toward the boundary of DH(p)\n",
    "    \n",
    "    while (ipk <= imaxp1):  # outer loop - work across the smallprimes, each DH\n",
    "        bnd = (smallprimes[ipk])**2  # q^2 value marking end of this DH(p)\n",
    "        print(f\"DH({ipk}) toward DH({imaxp}) and jp {jp}:{testsample[jp]} < bnd {bnd}\", end='\\r')\n",
    "        \n",
    "        while (testsample[jp] < bnd):  # for each DH, count the gaps\n",
    "            j = int(gapsample[jg]/2)-1\n",
    "            DelH[iDH][j] += 1\n",
    "            jp += 1\n",
    "            jg += 1\n",
    "    \n",
    "        ipk += 1\n",
    "        iDH += 1\n",
    "\n",
    "    DHlist = [samp0, [iminp, minp], DelH]\n",
    "    return DHlist\n"
   ]
  },
  {
   "cell_type": "code",
   "execution_count": 13,
   "id": "cbf988a2-70fa-48f2-a007-13a2cb1ca9e5",
   "metadata": {},
   "outputs": [
    {
     "name": "stdout",
     "output_type": "stream",
     "text": [
      "sample of 66214780 primes from 640001599543 to 641801599973\n",
      "contains DeltaH from 63950:800011 to 64043:801103\n",
      "DH(64044) toward DH(64043) and jp 64906116:641766016789 < bnd 641772425449"
     ]
    }
   ],
   "source": [
    "DelHlist = createDH('primeblockE11_640.npy')"
   ]
  },
  {
   "cell_type": "code",
   "execution_count": 14,
   "id": "b21b9b89-3cd4-461e-983a-6fbebf0ea0bc",
   "metadata": {},
   "outputs": [
    {
     "data": {
      "text/plain": [
       "np.int64(640017600137)"
      ]
     },
     "execution_count": 14,
     "metadata": {},
     "output_type": "execute_result"
    }
   ],
   "source": [
    "DelHlist[0]"
   ]
  },
  {
   "cell_type": "code",
   "execution_count": 15,
   "id": "dbc0a597-15fa-4de5-bb87-6d5e2c3f950e",
   "metadata": {},
   "outputs": [
    {
     "data": {
      "text/plain": [
       "[63950, np.int64(800011)]"
      ]
     },
     "execution_count": 15,
     "metadata": {},
     "output_type": "execute_result"
    }
   ],
   "source": [
    "DelHlist[1]"
   ]
  },
  {
   "cell_type": "code",
   "execution_count": 16,
   "id": "427d38ea-484d-427a-96e5-1d92db345d18",
   "metadata": {},
   "outputs": [
    {
     "data": {
      "text/plain": [
       "(94, 204)"
      ]
     },
     "execution_count": 16,
     "metadata": {},
     "output_type": "execute_result"
    }
   ],
   "source": [
    "DHsample = DelHlist[2]\n",
    "DHsample.shape"
   ]
  },
  {
   "cell_type": "code",
   "execution_count": 17,
   "id": "6d4957ee-e3dc-4d22-8729-e5ba8b4e359f",
   "metadata": {},
   "outputs": [
    {
     "data": {
      "text/plain": [
       "array([[ 51347,  51343,  94704,  43599,  56875,  76401],\n",
       "       [ 68762,  68363, 126222,  57957,  75308, 102613],\n",
       "       [ 11318,  11502,  21031,   9780,  12510,  17057],\n",
       "       [ 57032,  57141, 105917,  48682,  63117,  84971],\n",
       "       [ 17098,  17003,  31459,  14611,  19033,  25348],\n",
       "       [ 17083,  17159,  31677,  14310,  19231,  25546],\n",
       "       [ 68504,  68465, 126382,  58256,  75898, 101930],\n",
       "       [ 11321,  11573,  21078,   9782,  12531,  16960],\n",
       "       [  5841,   5645,  10391,   4654,   6342,   8478],\n",
       "       [ 11438,  11437,  21114,   9670,  12590,  16876],\n",
       "       [ 22754,  22968,  42158,  19228,  25129,  33964],\n",
       "       [ 34356,  34399,  63072,  28921,  37896,  50836],\n",
       "       [ 45935,  45582,  84303,  38827,  50603,  68026],\n",
       "       [  5616,   5760,  10431,   4767,   6294,   8551],\n",
       "       [ 28529,  28720,  52832,  24450,  31353,  42612],\n",
       "       [108345, 108610, 199561,  92135, 119743, 161089],\n",
       "       [ 11451,  11433,  21091,   9519,  12712,  16847],\n",
       "       [ 22958,  22758,  42220,  19431,  25383,  34062],\n",
       "       [ 28523,  28688,  52452,  24419,  31635,  42469],\n",
       "       [ 17360,  17407,  31741,  14483,  19267,  25508],\n",
       "       [ 17116,  16933,  31427,  14671,  19207,  25566],\n",
       "       [108908, 108389, 199842,  91919, 119663, 161442],\n",
       "       [ 17221,  16950,  31570,  14521,  19040,  25439],\n",
       "       [ 11614,  11502,  20890,   9673,  12591,  16895],\n",
       "       [ 57008,  57024, 105756,  48139,  63038,  84932],\n",
       "       [ 51731,  51517,  95094,  43198,  56979,  76534],\n",
       "       [ 11295,  11421,  21172,   9764,  12630,  16975],\n",
       "       [ 51485,  51187,  94570,  43422,  56839,  76690],\n",
       "       [ 17194,  17239,  31874,  14457,  18910,  25730],\n",
       "       [120656, 120438, 220444, 101381, 132375, 177625],\n",
       "       [ 23136,  22908,  42553,  19407,  25212,  34235],\n",
       "       [ 28245,  28556,  52657,  24344,  31571,  42710],\n",
       "       [  5751,   5737,  10280,   4803,   6308,   8551],\n",
       "       [ 62724,  62994, 115381,  53320,  69312,  93277],\n",
       "       [ 17152,  17214,  31750,  14627,  18983,  25257],\n",
       "       [ 73996,  74498, 137205,  63000,  82034, 110130],\n",
       "       [ 11370,  11446,  21089,   9641,  12790,  17093],\n",
       "       [ 17145,  17295,  31838,  14376,  19079,  25644],\n",
       "       [ 40229,  39394,  73872,  33833,  44504,  59412],\n",
       "       [ 34092,  34285,  63270,  28976,  37720,  50804],\n",
       "       [ 28616,  28783,  52617,  24218,  31590,  42652],\n",
       "       [  5632,   5591,  10516,   4868,   6419,   8575],\n",
       "       [ 34476,  34083,  63050,  29042,  37509,  50652],\n",
       "       [ 11460,  11460,  21084,   9740,  12463,  17087],\n",
       "       [  5670,   5779,  10445,   4827,   6344,   8791],\n",
       "       [ 28570,  28462,  52635,  23854,  31522,  42509],\n",
       "       [ 22738,  22557,  42090,  19171,  25397,  33904],\n",
       "       [ 45871,  45733,  84311,  38551,  50282,  68208],\n",
       "       [ 39725,  40103,  73636,  33790,  44284,  59578],\n",
       "       [ 17254,  17125,  31684,  14661,  18895,  25392],\n",
       "       [ 17176,  16992,  31674,  14443,  19139,  25395],\n",
       "       [ 63173,  62983, 115187,  52935,  69408,  93476],\n",
       "       [  5693,   5670,  10619,   4856,   6355,   8482],\n",
       "       [ 68674,  68718, 126343,  58140,  75700, 102396],\n",
       "       [ 11420,  11401,  20795,   9772,  12649,  17025],\n",
       "       [ 22955,  22836,  41940,  19318,  25343,  34139],\n",
       "       [ 11486,  11368,  21050,   9652,  12672,  16954],\n",
       "       [ 17273,  17300,  31328,  14717,  19090,  25463],\n",
       "       [ 22980,  22791,  41708,  19272,  24906,  34053],\n",
       "       [ 28652,  28557,  52291,  24392,  31626,  42483],\n",
       "       [ 17044,  16922,  31737,  14686,  18972,  25336],\n",
       "       [ 40069,  40205,  73968,  34046,  43987,  59550],\n",
       "       [ 11321,  11440,  21016,   9638,  12584,  16860],\n",
       "       [ 52079,  51420,  95039,  43486,  56963,  76514],\n",
       "       [  5704,   5614,  10445,   4910,   6482,   8387],\n",
       "       [ 28603,  28664,  52431,  24120,  31208,  42215],\n",
       "       [  5737,   5875,  10700,   4825,   6338,   8510],\n",
       "       [ 45558,  45489,  84215,  38231,  50175,  67565],\n",
       "       [ 39907,  40291,  73777,  33946,  43762,  59475],\n",
       "       [ 28303,  28774,  52481,  24158,  31771,  42125],\n",
       "       [ 51471,  51551,  95049,  43951,  56718,  75892],\n",
       "       [171203, 171962, 315634, 144646, 189318, 255250],\n",
       "       [ 34594,  34308,  63291,  28789,  37926,  50342],\n",
       "       [ 17096,  17035,  31310,  14563,  18872,  25404],\n",
       "       [ 51420,  51687,  94342,  43495,  56815,  76875],\n",
       "       [ 17046,  17090,  31646,  14482,  19000,  25397],\n",
       "       [ 17192,  17201,  31680,  14527,  19051,  25750],\n",
       "       [ 40032,  40133,  73668,  33677,  44076,  59245],\n",
       "       [ 86401,  85724, 157721,  72444,  94648, 127912],\n",
       "       [ 17267,  17083,  31505,  14555,  18918,  25628],\n",
       "       [ 34532,  34393,  62824,  28953,  37721,  50883],\n",
       "       [ 17182,  17066,  31688,  14546,  18883,  25371],\n",
       "       [ 45895,  45667,  84316,  38335,  50522,  67771],\n",
       "       [ 17204,  17520,  31778,  14632,  18770,  25244],\n",
       "       [  5665,   5733,  10537,   4884,   6363,   8350],\n",
       "       [ 17261,  17103,  31642,  14564,  18879,  25659],\n",
       "       [ 11441,  11539,  21039,   9841,  12583,  17264],\n",
       "       [ 22960,  23112,  42597,  19355,  25222,  34179],\n",
       "       [ 51174,  51687,  94535,  43527,  57044,  76864],\n",
       "       [ 68648,  68843, 126351,  58044,  75359, 102238],\n",
       "       [ 45674,  46091,  84268,  38884,  50560,  67872],\n",
       "       [  5740,   5509,  10589,   4851,   6443,   8563],\n",
       "       [ 68697,  68560, 126584,  57983,  75773, 101840],\n",
       "       [ 11434,  11432,  21131,   9789,  12645,  17211]])"
      ]
     },
     "execution_count": 17,
     "metadata": {},
     "output_type": "execute_result"
    }
   ],
   "source": [
    "DHsample[:,0:6]"
   ]
  },
  {
   "cell_type": "markdown",
   "id": "031a6b8c-df61-4a61-8822-3ba31d1d969b",
   "metadata": {},
   "source": [
    "## Saving and reading the tabled data\n",
    "Sample code for saving the returned list to file and reading it to file.  We use pickle.dump() and pickle.load()\n",
    "\n",
    "To keep the samples organized we use a naming convention 'DHExx_nnn' where xx is the exponent in scientific notation and nnn is the \n",
    "coefficient, three or more digits written without a decimal."
   ]
  },
  {
   "cell_type": "code",
   "execution_count": 18,
   "id": "fc43f144-3ec2-4bcf-a4f4-bf5f0d8dbac1",
   "metadata": {},
   "outputs": [],
   "source": [
    "# File save - CAUTION - do not clobber existing data files\n",
    "# \n",
    "with open('DHExx_nnn',\"wb\") as fp:\n",
    "    pickle.dump(DelHlist, fp)\n",
    "fp.close()"
   ]
  },
  {
   "cell_type": "code",
   "execution_count": 19,
   "id": "134cce4f-8032-4cdf-b312-7bb8e696181c",
   "metadata": {},
   "outputs": [],
   "source": [
    "# check read from pickled file\n",
    "with open('DHE11_640',\"rb\") as fp2:\n",
    "    DHff = pickle.load(fp2)\n",
    "fp2.close()"
   ]
  },
  {
   "cell_type": "markdown",
   "id": "cb2a1b05-4082-4f4f-9c34-f8c50cdc849c",
   "metadata": {},
   "source": []
  },
  {
   "cell_type": "code",
   "execution_count": 25,
   "id": "8825c029-9a5b-43bd-8d94-927ef77246df",
   "metadata": {},
   "outputs": [
    {
     "data": {
      "text/plain": [
       "(np.int64(640017600137), 63950, np.int64(800011))"
      ]
     },
     "execution_count": 25,
     "metadata": {},
     "output_type": "execute_result"
    }
   ],
   "source": [
    "DHff[0], DHff[1][0], DHff[1][1]\n"
   ]
  },
  {
   "cell_type": "code",
   "execution_count": 21,
   "id": "4d1ce534-479c-4d3b-a5c4-cce4bad1b311",
   "metadata": {},
   "outputs": [
    {
     "data": {
      "text/plain": [
       "array([[ 51347,  51343,  94704,  43599,  56875,  76401],\n",
       "       [ 68762,  68363, 126222,  57957,  75308, 102613],\n",
       "       [ 11318,  11502,  21031,   9780,  12510,  17057],\n",
       "       [ 57032,  57141, 105917,  48682,  63117,  84971],\n",
       "       [ 17098,  17003,  31459,  14611,  19033,  25348],\n",
       "       [ 17083,  17159,  31677,  14310,  19231,  25546],\n",
       "       [ 68504,  68465, 126382,  58256,  75898, 101930],\n",
       "       [ 11321,  11573,  21078,   9782,  12531,  16960],\n",
       "       [  5841,   5645,  10391,   4654,   6342,   8478],\n",
       "       [ 11438,  11437,  21114,   9670,  12590,  16876],\n",
       "       [ 22754,  22968,  42158,  19228,  25129,  33964],\n",
       "       [ 34356,  34399,  63072,  28921,  37896,  50836],\n",
       "       [ 45935,  45582,  84303,  38827,  50603,  68026],\n",
       "       [  5616,   5760,  10431,   4767,   6294,   8551],\n",
       "       [ 28529,  28720,  52832,  24450,  31353,  42612],\n",
       "       [108345, 108610, 199561,  92135, 119743, 161089],\n",
       "       [ 11451,  11433,  21091,   9519,  12712,  16847],\n",
       "       [ 22958,  22758,  42220,  19431,  25383,  34062],\n",
       "       [ 28523,  28688,  52452,  24419,  31635,  42469],\n",
       "       [ 17360,  17407,  31741,  14483,  19267,  25508],\n",
       "       [ 17116,  16933,  31427,  14671,  19207,  25566],\n",
       "       [108908, 108389, 199842,  91919, 119663, 161442],\n",
       "       [ 17221,  16950,  31570,  14521,  19040,  25439],\n",
       "       [ 11614,  11502,  20890,   9673,  12591,  16895],\n",
       "       [ 57008,  57024, 105756,  48139,  63038,  84932],\n",
       "       [ 51731,  51517,  95094,  43198,  56979,  76534],\n",
       "       [ 11295,  11421,  21172,   9764,  12630,  16975],\n",
       "       [ 51485,  51187,  94570,  43422,  56839,  76690],\n",
       "       [ 17194,  17239,  31874,  14457,  18910,  25730],\n",
       "       [120656, 120438, 220444, 101381, 132375, 177625],\n",
       "       [ 23136,  22908,  42553,  19407,  25212,  34235],\n",
       "       [ 28245,  28556,  52657,  24344,  31571,  42710],\n",
       "       [  5751,   5737,  10280,   4803,   6308,   8551],\n",
       "       [ 62724,  62994, 115381,  53320,  69312,  93277],\n",
       "       [ 17152,  17214,  31750,  14627,  18983,  25257],\n",
       "       [ 73996,  74498, 137205,  63000,  82034, 110130],\n",
       "       [ 11370,  11446,  21089,   9641,  12790,  17093],\n",
       "       [ 17145,  17295,  31838,  14376,  19079,  25644],\n",
       "       [ 40229,  39394,  73872,  33833,  44504,  59412],\n",
       "       [ 34092,  34285,  63270,  28976,  37720,  50804],\n",
       "       [ 28616,  28783,  52617,  24218,  31590,  42652],\n",
       "       [  5632,   5591,  10516,   4868,   6419,   8575],\n",
       "       [ 34476,  34083,  63050,  29042,  37509,  50652],\n",
       "       [ 11460,  11460,  21084,   9740,  12463,  17087],\n",
       "       [  5670,   5779,  10445,   4827,   6344,   8791],\n",
       "       [ 28570,  28462,  52635,  23854,  31522,  42509],\n",
       "       [ 22738,  22557,  42090,  19171,  25397,  33904],\n",
       "       [ 45871,  45733,  84311,  38551,  50282,  68208],\n",
       "       [ 39725,  40103,  73636,  33790,  44284,  59578],\n",
       "       [ 17254,  17125,  31684,  14661,  18895,  25392],\n",
       "       [ 17176,  16992,  31674,  14443,  19139,  25395],\n",
       "       [ 63173,  62983, 115187,  52935,  69408,  93476],\n",
       "       [  5693,   5670,  10619,   4856,   6355,   8482],\n",
       "       [ 68674,  68718, 126343,  58140,  75700, 102396],\n",
       "       [ 11420,  11401,  20795,   9772,  12649,  17025],\n",
       "       [ 22955,  22836,  41940,  19318,  25343,  34139],\n",
       "       [ 11486,  11368,  21050,   9652,  12672,  16954],\n",
       "       [ 17273,  17300,  31328,  14717,  19090,  25463],\n",
       "       [ 22980,  22791,  41708,  19272,  24906,  34053],\n",
       "       [ 28652,  28557,  52291,  24392,  31626,  42483],\n",
       "       [ 17044,  16922,  31737,  14686,  18972,  25336],\n",
       "       [ 40069,  40205,  73968,  34046,  43987,  59550],\n",
       "       [ 11321,  11440,  21016,   9638,  12584,  16860],\n",
       "       [ 52079,  51420,  95039,  43486,  56963,  76514],\n",
       "       [  5704,   5614,  10445,   4910,   6482,   8387],\n",
       "       [ 28603,  28664,  52431,  24120,  31208,  42215],\n",
       "       [  5737,   5875,  10700,   4825,   6338,   8510],\n",
       "       [ 45558,  45489,  84215,  38231,  50175,  67565],\n",
       "       [ 39907,  40291,  73777,  33946,  43762,  59475],\n",
       "       [ 28303,  28774,  52481,  24158,  31771,  42125],\n",
       "       [ 51471,  51551,  95049,  43951,  56718,  75892],\n",
       "       [171203, 171962, 315634, 144646, 189318, 255250],\n",
       "       [ 34594,  34308,  63291,  28789,  37926,  50342],\n",
       "       [ 17096,  17035,  31310,  14563,  18872,  25404],\n",
       "       [ 51420,  51687,  94342,  43495,  56815,  76875],\n",
       "       [ 17046,  17090,  31646,  14482,  19000,  25397],\n",
       "       [ 17192,  17201,  31680,  14527,  19051,  25750],\n",
       "       [ 40032,  40133,  73668,  33677,  44076,  59245],\n",
       "       [ 86401,  85724, 157721,  72444,  94648, 127912],\n",
       "       [ 17267,  17083,  31505,  14555,  18918,  25628],\n",
       "       [ 34532,  34393,  62824,  28953,  37721,  50883],\n",
       "       [ 17182,  17066,  31688,  14546,  18883,  25371],\n",
       "       [ 45895,  45667,  84316,  38335,  50522,  67771],\n",
       "       [ 17204,  17520,  31778,  14632,  18770,  25244],\n",
       "       [  5665,   5733,  10537,   4884,   6363,   8350],\n",
       "       [ 17261,  17103,  31642,  14564,  18879,  25659],\n",
       "       [ 11441,  11539,  21039,   9841,  12583,  17264],\n",
       "       [ 22960,  23112,  42597,  19355,  25222,  34179],\n",
       "       [ 51174,  51687,  94535,  43527,  57044,  76864],\n",
       "       [ 68648,  68843, 126351,  58044,  75359, 102238],\n",
       "       [ 45674,  46091,  84268,  38884,  50560,  67872],\n",
       "       [  5740,   5509,  10589,   4851,   6443,   8563],\n",
       "       [ 68697,  68560, 126584,  57983,  75773, 101840],\n",
       "       [ 11434,  11432,  21131,   9789,  12645,  17211]])"
      ]
     },
     "execution_count": 21,
     "metadata": {},
     "output_type": "execute_result"
    }
   ],
   "source": [
    "DHff[2][:,0:6]"
   ]
  },
  {
   "cell_type": "code",
   "execution_count": 27,
   "id": "df307057-c96b-452e-afb0-02b70fb1b650",
   "metadata": {},
   "outputs": [
    {
     "data": {
      "text/plain": [
       "((94, 204), 94, 204)"
      ]
     },
     "execution_count": 27,
     "metadata": {},
     "output_type": "execute_result"
    }
   ],
   "source": [
    "DHff[2].shape, DHff[2].shape[0], DHff[2].shape[1]"
   ]
  },
  {
   "cell_type": "code",
   "execution_count": 23,
   "id": "6f17e9cf-68bf-4c05-ba98-8fc821af8a1d",
   "metadata": {},
   "outputs": [
    {
     "data": {
      "text/plain": [
       "np.float64(0.27457054356560884)"
      ]
     },
     "execution_count": 23,
     "metadata": {},
     "output_type": "execute_result"
    }
   ],
   "source": [
    "lambdaE9[(DHff[1][0])-10]"
   ]
  },
  {
   "cell_type": "markdown",
   "id": "9c27e4bc-e4c8-4d43-a75f-3dc999278342",
   "metadata": {},
   "source": [
    "### Lambda values at samples\n",
    "\n",
    "| range label | iminp | minp | $\\lambda(minp)$ | P0 in $\\Delta H(minp)$ |\n",
    "| :--- | ---: | ---: | :---: | ---: |\n",
    "| E09_360 | $5034$ | $49003$ | $0.3455065$ | $2401294057$ |\n",
    "| E09_900 | $8264$ | $84857$ | $0.3287857$ | $7200710471$ |\n",
    "| E10_108 | $9416$ | $97987$ | $0.3246621$ | $9601452193$ |\n",
    "| E11_640 | $63950$ | $800011$ | $0.2745705$ | $640017600137$ |\n",
    "| E12_742 | $198285$ | $2724109$ | $0.2518756$ | $7420769843911$ |\n",
    "| E14_568 | $1496935$ | $23826527$ | $0.2197262$ | $567703388881771$ |\n",
    "| E15_169 | $2500003$ | $41161829$ | $0.2128746$ | $1694296166625301$ |\n",
    "| E17_200 | $23713133$ | $447216097$ | $0.1873815$ | $200002237415913437$ |\n",
    "| E19_1046 | $51961545$ | $1023094199$ | $0.1799071$ | $1046721740027451601$ |"
   ]
  },
  {
   "cell_type": "code",
   "execution_count": null,
   "id": "a9041ba8-feea-487c-a317-7258751bbb0b",
   "metadata": {},
   "outputs": [],
   "source": []
  }
 ],
 "metadata": {
  "kernelspec": {
   "display_name": "Python 3 (ipykernel)",
   "language": "python",
   "name": "python3"
  },
  "language_info": {
   "codemirror_mode": {
    "name": "ipython",
    "version": 3
   },
   "file_extension": ".py",
   "mimetype": "text/x-python",
   "name": "python",
   "nbconvert_exporter": "python",
   "pygments_lexer": "ipython3",
   "version": "3.11.5"
  }
 },
 "nbformat": 4,
 "nbformat_minor": 5
}
