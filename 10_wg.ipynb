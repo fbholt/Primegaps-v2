{
 "cells": [
  {
   "cell_type": "markdown",
   "id": "2dc848b8-2b4d-43e8-86ab-01f86e8e4046",
   "metadata": {},
   "source": [
    "# Relative populations $w_{g,1}(37^\\#)$\n",
    "In this notebook we develop the models of relative populations of gaps $w_{g,1}(p_k^\\#)$ in the cycles of gaps\n",
    "$\\mathcal{G}(p_k^\\#)$.\n",
    "\n",
    "We can create these models for all gaps $g < 2p_1$.  So we use counts $n_{g,j}(37^\\#)$ to calculate the coefficients for the\n",
    "models\n",
    "$$ w_{g,1}(p_k^\\#) = w_{g,1}(\\infty) - l_1 \\prod_{p_1}^{p_k} \\frac{p-3}{p-2} + l_2 \\prod_{p_1}^{p_k} \\frac{p-4}{p-2} - \\ldots$$\n",
    "with $l_j = L_j^T \\cdot n_g(37^\\#)/n_{2,1}(37^\\#)$.  The left eigenvectors $L^T$ are an upper triangular Pascal matrix.\n",
    "\n",
    "For the parameter $\\lambda$ for the relative population models $w_g(\\lambda) = w_g(p_k^\\#)$ we use the subdominant eigenvalue\n",
    "$$ \\lambda = \\lambda(p_k) = \\prod_{p_1}^{p_k} \\frac{p-3}{p-2} $$"
   ]
  },
  {
   "cell_type": "code",
   "execution_count": 1,
   "id": "1ada9448-5e66-45d3-bfcc-24dd53eac8ef",
   "metadata": {},
   "outputs": [],
   "source": [
    "%reset -f\n",
    "\n",
    "# This version uses pandas & matplotlib to provide interactive graphics\n",
    "import pandas as pd\n",
    "import numpy as np\n",
    "from numpy.polynomial.polynomial import polyval\n",
    "import array\n",
    "import itertools\n",
    "import matplotlib\n",
    "%matplotlib inline\n",
    "# matplotlib.use(\"nbagg\")\n",
    "\n",
    "import matplotlib.pyplot as plt\n",
    "from ipywidgets import interact\n",
    "import ipywidgets as widgets\n",
    "from IPython.display import display\n",
    "plt.ion\n",
    "\n",
    "import gc\n",
    "import psutil\n",
    "import sys\n",
    "import csv"
   ]
  },
  {
   "cell_type": "markdown",
   "id": "ed4a890b-993d-4ca4-ad4f-13cf6b1bc275",
   "metadata": {},
   "source": [
    "We read the populatons $n_{g,j}(37^\\#)$ in from a .csv file.  We have these counts for gaps $g \\le 3150$ and $j \\le 500$.\n",
    "From the constraint $g < 2p_1$ we can only form exact models from this data for gaps $g \\le 80$.\n",
    "Through slightly modified calculations we can form the exact model for $g=82$ as well.\n",
    "\n",
    "This is not quite general code.  We set bounds and sizes specific for $p_k=37$.  For example:  the maximum gap for which we can develop the exact model $w_g(p^\\#)$ is $g=82$.  These models have at most $19$ terms; that is, the longest driving term for these gaps has length $J=19$."
   ]
  },
  {
   "cell_type": "code",
   "execution_count": 2,
   "id": "ba2dfd6c-b5e1-4281-a96e-bedf0bfb9046",
   "metadata": {},
   "outputs": [],
   "source": [
    "dfn37 = pd.read_csv('nG37.csv')"
   ]
  },
  {
   "cell_type": "code",
   "execution_count": 3,
   "id": "c8b55542-e1d6-414c-930f-c82f64f770ee",
   "metadata": {},
   "outputs": [
    {
     "data": {
      "text/plain": [
       "6449237"
      ]
     },
     "execution_count": 3,
     "metadata": {},
     "output_type": "execute_result"
    }
   ],
   "source": [
    "sys.getsizeof(dfn37)"
   ]
  },
  {
   "cell_type": "code",
   "execution_count": 4,
   "id": "5961118c-2a7d-43f9-847c-4a50798c4e4a",
   "metadata": {},
   "outputs": [
    {
     "data": {
      "text/plain": [
       "(1575, 504)"
      ]
     },
     "execution_count": 4,
     "metadata": {},
     "output_type": "execute_result"
    }
   ],
   "source": [
    "dfn37.shape"
   ]
  },
  {
   "cell_type": "code",
   "execution_count": 5,
   "id": "0b32f222-a070-4e85-b016-57472af8942a",
   "metadata": {},
   "outputs": [
    {
     "data": {
      "text/html": [
       "<div>\n",
       "<style scoped>\n",
       "    .dataframe tbody tr th:only-of-type {\n",
       "        vertical-align: middle;\n",
       "    }\n",
       "\n",
       "    .dataframe tbody tr th {\n",
       "        vertical-align: top;\n",
       "    }\n",
       "\n",
       "    .dataframe thead th {\n",
       "        text-align: right;\n",
       "    }\n",
       "</style>\n",
       "<table border=\"1\" class=\"dataframe\">\n",
       "  <thead>\n",
       "    <tr style=\"text-align: right;\">\n",
       "      <th></th>\n",
       "      <th>Unnamed: 0</th>\n",
       "      <th>Totals</th>\n",
       "      <th>Ratio to Gap 2</th>\n",
       "      <th>Asymptotic Ratio to Gap 2</th>\n",
       "      <th>Length = 1</th>\n",
       "      <th>Length = 2</th>\n",
       "      <th>Length = 3</th>\n",
       "      <th>Length = 4</th>\n",
       "      <th>Length = 5</th>\n",
       "      <th>Length = 6</th>\n",
       "      <th>...</th>\n",
       "      <th>Length = 491</th>\n",
       "      <th>Length = 492</th>\n",
       "      <th>Length = 493</th>\n",
       "      <th>Length = 494</th>\n",
       "      <th>Length = 495</th>\n",
       "      <th>Length = 496</th>\n",
       "      <th>Length = 497</th>\n",
       "      <th>Length = 498</th>\n",
       "      <th>Length = 499</th>\n",
       "      <th>Length = 500</th>\n",
       "    </tr>\n",
       "  </thead>\n",
       "  <tbody>\n",
       "    <tr>\n",
       "      <th>0</th>\n",
       "      <td>Gap Sum = 2</td>\n",
       "      <td>217929355875</td>\n",
       "      <td>1.0</td>\n",
       "      <td>1.0</td>\n",
       "      <td>2.179294e+11</td>\n",
       "      <td>NaN</td>\n",
       "      <td>NaN</td>\n",
       "      <td>NaN</td>\n",
       "      <td>NaN</td>\n",
       "      <td>NaN</td>\n",
       "      <td>...</td>\n",
       "      <td>NaN</td>\n",
       "      <td>NaN</td>\n",
       "      <td>NaN</td>\n",
       "      <td>NaN</td>\n",
       "      <td>NaN</td>\n",
       "      <td>NaN</td>\n",
       "      <td>NaN</td>\n",
       "      <td>NaN</td>\n",
       "      <td>NaN</td>\n",
       "      <td>NaN</td>\n",
       "    </tr>\n",
       "    <tr>\n",
       "      <th>1</th>\n",
       "      <td>Gap Sum = 4</td>\n",
       "      <td>217929355875</td>\n",
       "      <td>1.0</td>\n",
       "      <td>1.0</td>\n",
       "      <td>2.179294e+11</td>\n",
       "      <td>NaN</td>\n",
       "      <td>NaN</td>\n",
       "      <td>NaN</td>\n",
       "      <td>NaN</td>\n",
       "      <td>NaN</td>\n",
       "      <td>...</td>\n",
       "      <td>NaN</td>\n",
       "      <td>NaN</td>\n",
       "      <td>NaN</td>\n",
       "      <td>NaN</td>\n",
       "      <td>NaN</td>\n",
       "      <td>NaN</td>\n",
       "      <td>NaN</td>\n",
       "      <td>NaN</td>\n",
       "      <td>NaN</td>\n",
       "      <td>NaN</td>\n",
       "    </tr>\n",
       "    <tr>\n",
       "      <th>2</th>\n",
       "      <td>Gap Sum = 6</td>\n",
       "      <td>435858711750</td>\n",
       "      <td>2.0</td>\n",
       "      <td>2.0</td>\n",
       "      <td>2.939208e+11</td>\n",
       "      <td>1.419379e+11</td>\n",
       "      <td>NaN</td>\n",
       "      <td>NaN</td>\n",
       "      <td>NaN</td>\n",
       "      <td>NaN</td>\n",
       "      <td>...</td>\n",
       "      <td>NaN</td>\n",
       "      <td>NaN</td>\n",
       "      <td>NaN</td>\n",
       "      <td>NaN</td>\n",
       "      <td>NaN</td>\n",
       "      <td>NaN</td>\n",
       "      <td>NaN</td>\n",
       "      <td>NaN</td>\n",
       "      <td>NaN</td>\n",
       "      <td>NaN</td>\n",
       "    </tr>\n",
       "  </tbody>\n",
       "</table>\n",
       "<p>3 rows × 504 columns</p>\n",
       "</div>"
      ],
      "text/plain": [
       "    Unnamed: 0        Totals  Ratio to Gap 2  Asymptotic Ratio to Gap 2  \\\n",
       "0  Gap Sum = 2  217929355875             1.0                        1.0   \n",
       "1  Gap Sum = 4  217929355875             1.0                        1.0   \n",
       "2  Gap Sum = 6  435858711750             2.0                        2.0   \n",
       "\n",
       "     Length = 1    Length = 2  Length = 3  Length = 4  Length = 5  Length = 6  \\\n",
       "0  2.179294e+11           NaN         NaN         NaN         NaN         NaN   \n",
       "1  2.179294e+11           NaN         NaN         NaN         NaN         NaN   \n",
       "2  2.939208e+11  1.419379e+11         NaN         NaN         NaN         NaN   \n",
       "\n",
       "   ...  Length = 491  Length = 492  Length = 493  Length = 494  Length = 495  \\\n",
       "0  ...           NaN           NaN           NaN           NaN           NaN   \n",
       "1  ...           NaN           NaN           NaN           NaN           NaN   \n",
       "2  ...           NaN           NaN           NaN           NaN           NaN   \n",
       "\n",
       "   Length = 496  Length = 497  Length = 498  Length = 499  Length = 500  \n",
       "0           NaN           NaN           NaN           NaN           NaN  \n",
       "1           NaN           NaN           NaN           NaN           NaN  \n",
       "2           NaN           NaN           NaN           NaN           NaN  \n",
       "\n",
       "[3 rows x 504 columns]"
      ]
     },
     "execution_count": 5,
     "metadata": {},
     "output_type": "execute_result"
    }
   ],
   "source": [
    "dfn37.iloc[0:3]"
   ]
  },
  {
   "cell_type": "code",
   "execution_count": 6,
   "id": "7f3dfba7-191d-4072-a4e3-e84735433159",
   "metadata": {},
   "outputs": [],
   "source": [
    "# we extract the population data for the gaps and their driving terms, and replace NaN with 0\n",
    "ngmat=np.array(dfn37.iloc[0:41,4:23].fillna(0))"
   ]
  },
  {
   "cell_type": "code",
   "execution_count": 7,
   "id": "94862647-709b-41a2-a40e-122b73d1aa50",
   "metadata": {},
   "outputs": [
    {
     "data": {
      "text/plain": [
       "np.float64(217929355875.0)"
      ]
     },
     "execution_count": 7,
     "metadata": {},
     "output_type": "execute_result"
    }
   ],
   "source": [
    "# pull the number of gaps g=2 for the normalization from n_g to w_g\n",
    "ng2=ngmat[0,0]\n",
    "ng2"
   ]
  },
  {
   "cell_type": "code",
   "execution_count": 8,
   "id": "dca4c670-961c-4ee7-9c80-229afd03a773",
   "metadata": {},
   "outputs": [
    {
     "name": "stdout",
     "output_type": "stream",
     "text": [
      "Available memory: 3012.53 MB\n"
     ]
    }
   ],
   "source": [
    "# block to check the available system memory\n",
    "gc.collect()\n",
    "memory = psutil.virtual_memory()\n",
    "available_memory = memory.available\n",
    "del memory\n",
    "print(f\"Available memory: {available_memory / (1024 ** 2):.2f} MB\")"
   ]
  },
  {
   "cell_type": "code",
   "execution_count": 9,
   "id": "12a74480-a683-49f8-a3fb-702cbd94b7f8",
   "metadata": {},
   "outputs": [],
   "source": [
    "# 19x19 matrix of left eigenvectors -- an upper triangular Pascal matrix\n",
    "# gaps up to g=82 have admissible driving terms of length at most J=19\n",
    "eigLT=np.array([[1, 1, 1, 1, 1, 1, 1, 1, 1,  1,  1,  1,  1,   1,   1,   1,    1,    1,    1],\n",
    "                [0, 1, 2, 3, 4, 5, 6, 7, 8,  9, 10, 11, 12,  13,  14,  15,   16,   17,   18],\n",
    "                [0, 0, 1, 3, 6,10,15,21,28, 36, 45, 55, 66,  78,  91, 105,  120,  136,  153],\n",
    "                [0, 0, 0, 1, 4,10,20,35,56, 84,120,165,220, 286, 364, 455,  560,  680,  816],\n",
    "                [0, 0, 0, 0, 1, 5,15,35,70,126,210,330,495, 715,1001,1365, 1820, 2380, 3060],\n",
    "                [0, 0, 0, 0, 0, 1, 6,21,56,126,252,462,792,1287,2002,3003, 4368, 6188, 8568],\n",
    "                [0, 0, 0, 0, 0, 0, 1, 7,28, 84,210,462,924,1716,3003,5005, 8008,12376,18564],\n",
    "                [0, 0, 0, 0, 0, 0, 0, 1, 8, 36,120,330,792,1716,3432,6435,11440,19448,31824],\n",
    "                [0, 0, 0, 0, 0, 0, 0, 0, 1,  9, 45,165,495,1287,3003,6435,12870,24310,43758],\n",
    "                [0, 0, 0, 0, 0, 0, 0, 0, 0,  1, 10, 55,220, 715,2002,5005,11440,24310,48620],\n",
    "                [0, 0, 0, 0, 0, 0, 0, 0, 0,  0,  1, 11, 66, 286,1001,3003, 8008,19448,43758],\n",
    "                [0, 0, 0, 0, 0, 0, 0, 0, 0,  0,  0,  1, 12,  78, 364,1365, 4368,12376,31824],\n",
    "                [0, 0, 0, 0, 0, 0, 0, 0, 0,  0,  0,  0,  1,  13,  91, 455, 1820, 6188,18564],\n",
    "                [0, 0, 0, 0, 0, 0, 0, 0, 0,  0,  0,  0,  0,   1,  14, 105,  560, 2380, 8568],\n",
    "                [0, 0, 0, 0, 0, 0, 0, 0, 0,  0,  0,  0,  0,   0,   1,  15,  120,  680, 3060],\n",
    "                [0, 0, 0, 0, 0, 0, 0, 0, 0,  0,  0,  0,  0,   0,   0,   1,   16,  136,  816],\n",
    "                [0, 0, 0, 0, 0, 0, 0, 0, 0,  0,  0,  0,  0,   0,   0,   0,    1,   17,  153],\n",
    "                [0, 0, 0, 0, 0, 0, 0, 0, 0,  0,  0,  0,  0,   0,   0,   0,    0,    1,   18],\n",
    "                [0, 0, 0, 0, 0, 0, 0, 0, 0,  0,  0,  0,  0,   0,   0,   0,    0,    0,    1]])"
   ]
  },
  {
   "cell_type": "code",
   "execution_count": 10,
   "id": "118b9d6a-8c7b-4598-bba1-8370c50b64fa",
   "metadata": {},
   "outputs": [
    {
     "data": {
      "text/plain": [
       "(41, 19)"
      ]
     },
     "execution_count": 10,
     "metadata": {},
     "output_type": "execute_result"
    }
   ],
   "source": [
    "ngmat.shape"
   ]
  },
  {
   "cell_type": "code",
   "execution_count": 11,
   "id": "4aae9c8e-01e9-4641-a89d-44fea311fa4a",
   "metadata": {},
   "outputs": [],
   "source": [
    "# normalize the initial populations\n",
    "w0gmat = ngmat/ng2"
   ]
  },
  {
   "cell_type": "code",
   "execution_count": 12,
   "id": "8409b70c-96d0-42fd-84c1-cb20b27cdfee",
   "metadata": {},
   "outputs": [
    {
     "data": {
      "text/plain": [
       "(19, 41)"
      ]
     },
     "execution_count": 12,
     "metadata": {},
     "output_type": "execute_result"
    }
   ],
   "source": [
    "w0gmat = np.transpose(w0gmat)\n",
    "w0gmat.shape"
   ]
  },
  {
   "cell_type": "code",
   "execution_count": 13,
   "id": "be0da332-7ed6-4a47-84c2-a79d5d257b91",
   "metadata": {},
   "outputs": [],
   "source": [
    "# calculate the matrix of coefficients for the models derived from the eigenstructure\n",
    "ljmat = np.matmul(eigLT,w0gmat)\n",
    "# make the correction for g=2p_1=82.  We iterate forward, knowing that both boundary fusions will occur\n",
    "#  in the same image, and then pull those entries back to obtain surrogate coefficients for p_0=37\n",
    "#  See 2023 paper \"Addendum: models for gaps g=2p_1\"\n",
    "ljmat[:,40]=[1.025641,11.553942,60.410483,194.488465,431.258857,697.937481,852.214506,800.382107,\n",
    "              584.027075,332.122850,146.758457,49.939794,12.883935,2.461383,0.336767,0.031541,0.001910,\n",
    "              0.000070,0.000001]\n",
    "# associate the alternating signs with these coefficients\n",
    "i=1\n",
    "while (i < 19):\n",
    "    ljmat[i,:] = -ljmat[i,:]\n",
    "    i +=2"
   ]
  },
  {
   "cell_type": "markdown",
   "id": "d2651444-d684-4471-b8b2-49a82aaee1f7",
   "metadata": {},
   "source": [
    "## Preparing to plot $w_{g,1}(\\lambda)$\n",
    "The matrix ljmat contains the coefficients $-l_j(g) = (-1)^{j+1} L_j^T \\cdot (\\frac{1}{n_{2,1}(37^\\#)}n_g(37^\\#))$.\n",
    "In python the indices begin at $0$, so the coefficients for gap $g$ are contained in column ljmat[:, (g-2)/2].\n",
    "The exact model $w_{g,1}(p^\\#)$ for the relative population of $g$ in the cycle $\\mathcal{G}(p^\\#)$ is approximately\n",
    "polynomial in $\\lambda = \\prod_{41}^{p_k} \\frac{p-3}{p-2}$\n",
    "$$ w_{g,1}(\\lambda) \\approx w_{g,1}(\\infty) - l_2 \\lambda + l_3 \\lambda^2 - l_4 \\lambda^3 + \\cdots \\; {\\rm for} \\; 0 < \\lambda \\le 1$$\n"
   ]
  },
  {
   "cell_type": "code",
   "execution_count": 14,
   "id": "759f3e21-b5bc-4f44-a6b4-fd33797571d8",
   "metadata": {},
   "outputs": [
    {
     "data": {
      "text/plain": [
       "(19, 41)"
      ]
     },
     "execution_count": 14,
     "metadata": {},
     "output_type": "execute_result"
    }
   ],
   "source": [
    "ljmat.shape"
   ]
  },
  {
   "cell_type": "code",
   "execution_count": 15,
   "id": "fe4dc5e2-4b8f-450d-b226-49c9ea7c4204",
   "metadata": {},
   "outputs": [],
   "source": [
    "np.save('lj37.npy',ljmat)"
   ]
  },
  {
   "cell_type": "code",
   "execution_count": 16,
   "id": "906650be-1ba7-40a1-9421-bf42b8803803",
   "metadata": {},
   "outputs": [],
   "source": [
    "# create an array of lambda values\n",
    "lampar = np.arange(0,1,0.0005)\n",
    "lampar = np.square(lampar) # These curves have more shape as lambda gets smaller, so we adjust the sampled values"
   ]
  },
  {
   "cell_type": "code",
   "execution_count": 20,
   "id": "7c928335-43b4-400c-a58e-9220f42d2373",
   "metadata": {},
   "outputs": [],
   "source": [
    "# calculate values for the curves at the lambda values\n",
    "# Note: we have to handle the model for g=82 separately, as a boundary case\n",
    "wgpk = np.zeros((lampar.size, 41))\n",
    "i = 0\n",
    "while (i < 41):\n",
    "    wgpk[:,i] = polyval(lampar, ljmat[:,i])\n",
    "    i += 1\n"
   ]
  },
  {
   "cell_type": "code",
   "execution_count": 21,
   "id": "88cfa839-a327-4ff7-83ea-1ee5b4001a02",
   "metadata": {},
   "outputs": [
    {
     "data": {
      "text/plain": [
       "(2000, 41)"
      ]
     },
     "execution_count": 21,
     "metadata": {},
     "output_type": "execute_result"
    }
   ],
   "source": [
    "wgpk.shape"
   ]
  },
  {
   "cell_type": "code",
   "execution_count": 22,
   "id": "bfaaba7d-1c47-494b-8e9d-9f24450c5edd",
   "metadata": {},
   "outputs": [],
   "source": [
    "# Develop a master color dictionary - by gap\n",
    "# we set colors by family, as determined by prime factors of the gap\n",
    "mastercolordict={'2':'#FF0000', '4':'#FF0000', '8':'#CD5C5C', '16':'#DC143C', '32':'#C71585', '64':'#F08080',\n",
    "                 '6':'#0000FF', '12':'#1E90FF', '18':'#000080', '24':'#4169E1', '36':'#00BFFF', '48':'#4682B4',\n",
    "                 '54':'#7EF1F9', '72':'#6495ED',\n",
    "                 '10':'#006400', '20':'#008000', '40':'#32CD32', '50':'#3CB371', '80':'#00FF00',\n",
    "                 '30':'#EEBC18', '60':'#FCD247', '90':'#FFCC33',\n",
    "                 '14':'#FF9A00', '28':'#FF8000', '56':'#F5C75E',\n",
    "                 '42':'#FF80C8', '84':'#32CD32', '70':'#CBDF48', \n",
    "                 '22':'#0000CD', '44':'#20B2AA', '66':'#666600',\n",
    "                 '26':'#0000CD', '52':'#20B2AA', '78':'#999900',\n",
    "                 '34':'#0000CD', '68':'#20B2AA', '38':'#0000CD', '76':'#20B2AA',\n",
    "                 '46':'#808080', '58':'#20B2AA', '62':'#808080', '74':'#20B2AA', '82':'#4682B4'}"
   ]
  },
  {
   "cell_type": "code",
   "execution_count": 23,
   "id": "b48410d0-68cc-4395-ab84-c243a8f4d7fb",
   "metadata": {},
   "outputs": [
    {
     "data": {
      "application/vnd.jupyter.widget-view+json": {
       "model_id": "e223169a2fd84d8ebe43e358a7de9397",
       "version_major": 2,
       "version_minor": 0
      },
      "text/plain": [
       "interactive(children=(SelectionSlider(description='max lambda', index=8, layout=Layout(width='60%'), options=(…"
      ]
     },
     "metadata": {},
     "output_type": "display_data"
    },
    {
     "data": {
      "text/plain": [
       "<function __main__.draw_wg(xmax, ymin, bigfactors)>"
      ]
     },
     "execution_count": 23,
     "metadata": {},
     "output_type": "execute_result"
    }
   ],
   "source": [
    "smallfactorgaps = [2,4,6,8,10,12,14,16,18,20,24,28,30,32,36,40,42,48,50,54,56,60,64,70,72,80]\n",
    "\n",
    "def draw_wg(xmax,ymin,bigfactors):\n",
    "    # plotting the curves\n",
    "    plt.clf()\n",
    "    fig, ax = plt.subplots()\n",
    "    fig.set_size_inches(12,9)\n",
    "    ax.set_title(f\"$w_g(p_k^\\#)$ for $p_0=37$ and gaps $g < 82$\")\n",
    "    # set gridlines for x-axis (lambda)\n",
    "    if (xmax < 0.05):\n",
    "        marklampar = 0.001\n",
    "    elif (xmax < 0.3):\n",
    "        marklampar = 0.01\n",
    "    elif (xmax < 0.75):\n",
    "        marklampar = 0.05\n",
    "    else:\n",
    "        marklampar = 0.1\n",
    "    ax.set_xticks(np.arange(0,xmax,marklampar))\n",
    "    ax.grid(axis='x', color='#080408', lw=0.0625, markevery=marklampar)\n",
    "    ax.grid(axis='y', color='#A9A9A9', lw=0.0625 )\n",
    "    ax.set_xlim(0,xmax)\n",
    "    ax.set_ylim(ymin,2.75)\n",
    "\n",
    "    ax.plot(lampar, wgpk[:,0], color='#FF0000', lw=1.5, label='g=2, 4')\n",
    "\n",
    "    i=2\n",
    "    while (i < 41):\n",
    "        gapval = 2*(i+1)\n",
    "        gapstr=str(gapval)\n",
    "        wgcolor = mastercolordict[gapstr]\n",
    "        if (gapval in smallfactorgaps):\n",
    "            ax.plot(lampar, wgpk[:,i], color=wgcolor, lw=1.5, label='g='+gapstr)\n",
    "        elif (bigfactors):\n",
    "            ax.plot(lampar, wgpk[:,i], color=wgcolor, lw=0.625, label='g='+gapstr)\n",
    "        i += 1\n",
    "\n",
    "    # changing the order of the legend, to group the gaps by family at asymptotic value\n",
    "    handles, labels = ax.get_legend_handles_labels()\n",
    "    if bigfactors:\n",
    "        sortedhandles = [handles[13],handles[28],handles[19],handles[31],handles[37],\n",
    "                         handles[1],handles[4],handles[7],handles[10],handles[16],handles[22],\n",
    "                         handles[25],handles[34],handles[33],handles[3],handles[8],handles[18],\n",
    "                         handles[23],handles[38],handles[5],handles[12],handles[26],handles[9],\n",
    "                         handles[20],handles[11],handles[24],handles[15],handles[32],handles[17],\n",
    "                         handles[36],handles[21],handles[27],handles[29],handles[35],\n",
    "                         handles[39],handles[0],handles[2],handles[6],handles[14],handles[30]]\n",
    "        sortedlabels = [labels[13],labels[28],labels[19],labels[31],labels[37],\n",
    "                         labels[1],labels[4],labels[7],labels[10],labels[16],labels[22],\n",
    "                         labels[25],labels[34],labels[33],labels[3],labels[8],labels[18],\n",
    "                         labels[23],labels[38],labels[5],labels[12],labels[26],labels[9],\n",
    "                         labels[20],labels[11],labels[24],labels[15],labels[32],labels[17],\n",
    "                         labels[36],labels[21],labels[27],labels[29],labels[35],\n",
    "                         labels[39],labels[0],labels[2],labels[6],labels[14],labels[30]]\n",
    "\n",
    "        ax.legend(sortedhandles, sortedlabels, ncol=3)\n",
    "    else:\n",
    "        sortedhandles = [handles[11],handles[20],handles[15],handles[1],handles[4],\n",
    "                         handles[7],handles[9],handles[13],handles[16],handles[18],handles[23],\n",
    "                         handles[22],handles[3],handles[8],handles[14],handles[17],handles[24],\n",
    "                         handles[5],handles[10],handles[19],handles[0],handles[2],handles[6],\n",
    "                         handles[12],handles[21]]\n",
    "        sortedlabels = [labels[11],labels[20],labels[15],labels[1],labels[4],\n",
    "                         labels[7],labels[9],labels[13],labels[16],labels[18],labels[23],\n",
    "                         labels[22],labels[3],labels[8],labels[14],labels[17],labels[24],\n",
    "                         labels[5],labels[10],labels[19],labels[0],labels[2],labels[6],\n",
    "                         labels[12],labels[21]]\n",
    "\n",
    "        ax.legend(sortedhandles, sortedlabels, ncol=3)\n",
    "\n",
    "# XXXQHERE: fix colors\n",
    "\n",
    "    plt.show()\n",
    "\n",
    "# widgets for interacting with the graph of the w_g\n",
    "xmaxSelect = widgets.SelectionSlider(options=[0.01,0.05,0.1,0.15,0.2,0.3,0.5,0.75,1.0],\n",
    "                                      value=1.0, description=\"max lambda\", layout=widgets.Layout(width='60%'), disabled=False)\n",
    "yminSelect = widgets.SelectionSlider(options=[0.0, 0.1, 0.25, 0.5, 0.75],\n",
    "                                      value=0.0, description=\"min w_g\", layout=widgets.Layout(width='60%'), disabled=False)\n",
    "bigfactorSelect = widgets.Checkbox(value=True, description='Factors > 7') \n",
    "\n",
    "interact(draw_wg, xmax=xmaxSelect, ymin=yminSelect, bigfactors=bigfactorSelect)\n"
   ]
  },
  {
   "cell_type": "code",
   "execution_count": 49,
   "id": "99085b8f-4e91-4643-aa47-b2f5b24bc73f",
   "metadata": {},
   "outputs": [
    {
     "data": {
      "text/plain": [
       "<Figure size 640x480 with 0 Axes>"
      ]
     },
     "metadata": {},
     "output_type": "display_data"
    }
   ],
   "source": []
  },
  {
   "cell_type": "code",
   "execution_count": 34,
   "id": "9137f05f-ac2e-42f1-b8e0-56ca1c765d5d",
   "metadata": {},
   "outputs": [
    {
     "data": {
      "text/plain": [
       "2000"
      ]
     },
     "execution_count": 34,
     "metadata": {},
     "output_type": "execute_result"
    }
   ],
   "source": [
    "lampar.size"
   ]
  },
  {
   "cell_type": "code",
   "execution_count": 35,
   "id": "32c3ebc4-d02c-40e7-80ac-f92370a8ec44",
   "metadata": {},
   "outputs": [
    {
     "data": {
      "text/plain": [
       "np.float64(0.5625)"
      ]
     },
     "execution_count": 35,
     "metadata": {},
     "output_type": "execute_result"
    }
   ],
   "source": [
    "lampar[1500]"
   ]
  }
 ],
 "metadata": {
  "kernelspec": {
   "display_name": "Python 3 (ipykernel)",
   "language": "python",
   "name": "python3"
  },
  "language_info": {
   "codemirror_mode": {
    "name": "ipython",
    "version": 3
   },
   "file_extension": ".py",
   "mimetype": "text/x-python",
   "name": "python",
   "nbconvert_exporter": "python",
   "pygments_lexer": "ipython3",
   "version": "3.11.5"
  }
 },
 "nbformat": 4,
 "nbformat_minor": 5
}
