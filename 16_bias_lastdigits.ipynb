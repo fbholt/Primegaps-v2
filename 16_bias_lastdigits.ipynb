{
 "cells": [
  {
   "cell_type": "markdown",
   "id": "fa52e06a-d997-40fc-92dc-0b896898256a",
   "metadata": {},
   "source": [
    "# Biases in the distribution of consecutive primes\n",
    "In 2016 Lemke Oliver & Soundararajan published their statistical study of the last digits of consecutive primes.  They observed a bias (that is, an uneven distribution) among the results, over the first 100 million\n",
    "primes.  This observed bias was heralded as \"unexpected\", but it reflects the relative populations of the associated gaps from the relative populations models $w_{g,1}(\\lambda)$.\n",
    "\n",
    "In this notebook we provide an interactive study of these biases, across different moduli.\n",
    "The counts of gaps over the first $10^8$ primes are fixed around $\\lambda=0.348$, and the counts over the first $10^{12}$ primes\n",
    "are fixed around $\\lambda=0.27$. \n",
    "\n",
    "From the graphs below we see that Lemke Oliver & Soundararajan's data is predicted by these population models.  The observed biases \n",
    "are consistent with the evolution of the populations of gaps across Eratosthenes sieve.  That is, their tabulated data is consistent\n",
    "with the relative populations $W_r(\\lambda)$ at the corresponding value of $\\lambda$.\n",
    "\n",
    "The models also show us that the biases are transient.  As Eratosthenes sieve continues the distribution of last digits of consecutive \n",
    "primes will be uniform across the possible ordered pairs.\n",
    "\n",
    "For the underlying analysis, see the 2016 manuscript \"On the last digits of consecutive primes\" and the 2024 manuscript \"Expected biases in the distribution of consecutive primes\""
   ]
  },
  {
   "cell_type": "code",
   "execution_count": 1,
   "id": "b541e27a-5bf8-4768-8ae7-3833ac495506",
   "metadata": {},
   "outputs": [],
   "source": [
    "%reset -f\n",
    "\n",
    "# This version uses pandas & matplotlib to provide interactive graphics\n",
    "import pandas as pd\n",
    "import numpy as np\n",
    "from numpy.polynomial.polynomial import polyval\n",
    "import array\n",
    "import itertools\n",
    "import matplotlib\n",
    "%matplotlib inline\n",
    "# matplotlib.use(\"nbagg\")\n",
    "\n",
    "import matplotlib.pyplot as plt\n",
    "from ipywidgets import interact\n",
    "import ipywidgets as widgets\n",
    "from IPython.display import display\n",
    "plt.ion\n",
    "\n",
    "import gc\n",
    "import psutil\n",
    "import sys\n",
    "import csv"
   ]
  },
  {
   "cell_type": "code",
   "execution_count": 2,
   "id": "cf9520d9-b26f-441c-b000-457d8845eeca",
   "metadata": {},
   "outputs": [
    {
     "name": "stdout",
     "output_type": "stream",
     "text": [
      "12283523 gaps of sum 223092871\n"
     ]
    }
   ],
   "source": [
    "pgaps23 = np.load('cG23.npy')\n",
    "plen = pgaps23.size\n",
    "maxp = 1 + np.sum(pgaps23)\n",
    "print(f\"{plen} gaps of sum {maxp}\")"
   ]
  },
  {
   "cell_type": "code",
   "execution_count": 3,
   "id": "b728614b-8128-4d63-a8e9-ac60c4e5abd5",
   "metadata": {},
   "outputs": [
    {
     "name": "stdout",
     "output_type": "stream",
     "text": [
      "Available memory: 2760.98 MB\n"
     ]
    }
   ],
   "source": [
    "# block to check the available system memory\n",
    "gc.collect()\n",
    "memory = psutil.virtual_memory()\n",
    "available_memory = memory.available\n",
    "del memory\n",
    "print(f\"Available memory: {available_memory / (1024 ** 2):.2f} MB\")"
   ]
  },
  {
   "cell_type": "code",
   "execution_count": 4,
   "id": "530b588b-a350-42bb-9756-a4c7e2969eba",
   "metadata": {},
   "outputs": [
    {
     "data": {
      "text/plain": [
       "array([[ 1.        ,  1.        ,  2.        ,  1.        ,  1.33333333],\n",
       "       [-0.        , -0.        , -0.6513022 , -0.6513022 , -0.9769533 ],\n",
       "       [ 0.        ,  0.        ,  0.        ,  0.07157346,  0.14314691]])"
      ]
     },
     "execution_count": 4,
     "metadata": {},
     "output_type": "execute_result"
    }
   ],
   "source": [
    "# The matrix of coefficients lj is created in the '02' notebook.  Here we read the result from file.\n",
    "# These coefficients include the alternating signs\n",
    "ljmat = np.load('lj37.npy')\n",
    "ljmat.shape\n",
    "ljmat[0:3,0:5]"
   ]
  },
  {
   "cell_type": "code",
   "execution_count": 5,
   "id": "6536944a-5a27-41fb-a2b6-02ea827f0d8b",
   "metadata": {},
   "outputs": [],
   "source": [
    "# create an array of lambda values\n",
    "lampar = np.arange(0,1,0.0005)\n",
    "lampar = np.square(lampar) # These curves have more shape as lambda gets smaller, so we adjust the sampled values"
   ]
  },
  {
   "cell_type": "code",
   "execution_count": 6,
   "id": "58b730db-2694-4924-a59c-ef32a2090ddf",
   "metadata": {},
   "outputs": [],
   "source": [
    "# calculate values for the curves at the lambda values\n",
    "# Note: we have to handle the model for g=82 separately, as a boundary case\n",
    "wgpk = np.zeros((lampar.size, 41))\n",
    "i = 0\n",
    "while (i < 41):\n",
    "    wgpk[:,i] = polyval(lampar, ljmat[:,i])\n",
    "    i += 1\n"
   ]
  },
  {
   "cell_type": "code",
   "execution_count": 7,
   "id": "d2837a5f-4d60-4a70-88cb-24996102d7e0",
   "metadata": {},
   "outputs": [],
   "source": [
    "# Develop a master color dictionary - by residue class\n",
    "# we set colors by family, as determined by the residue of the gap\n",
    "Wmastercolordict={ '0': '#040404', '2':'#FF0000', '4':'#CCCC00', '6':'#0000FF', '8':'#00CC00',\n",
    "                 '10':'#0064AA','12':'#1E90FF', '14':'#FF9A00','16':'#DC143C', '18':'#000080',\n",
    "                 '20':'#008000','22':'#0000CD', '24':'#4169E1', '26':'#0000CD', '28':'#FF8000'}"
   ]
  },
  {
   "cell_type": "code",
   "execution_count": 8,
   "id": "2e767d01-e1ca-4819-9308-2624ae6ec64d",
   "metadata": {},
   "outputs": [],
   "source": [
    "# read in the asymptotic values w_g for gaps g <= 510510\n",
    "# index:  g=2*(i+1)\n",
    "wginf = np.load('wginf510510.npy')"
   ]
  },
  {
   "cell_type": "code",
   "execution_count": 9,
   "id": "4cee509b-8831-45a7-8901-1bae508ff671",
   "metadata": {},
   "outputs": [
    {
     "data": {
      "application/vnd.jupyter.widget-view+json": {
       "model_id": "30614057b7b145ed88d4b61c54aff878",
       "version_major": 2,
       "version_minor": 0
      },
      "text/plain": [
       "interactive(children=(SelectionSlider(description='max lambda', index=8, layout=Layout(width='60%'), options=(…"
      ]
     },
     "metadata": {},
     "output_type": "display_data"
    },
    {
     "data": {
      "text/plain": [
       "<function __main__.draw_modwg(xmax, ymin, modulus: int)>"
      ]
     },
     "execution_count": 9,
     "metadata": {},
     "output_type": "execute_result"
    }
   ],
   "source": [
    "def draw_modwg(xmax,ymin,modulus:int):\n",
    "    # plotting the curves\n",
    "    plt.clf()\n",
    "    fig, ax = plt.subplots()\n",
    "    fig.set_size_inches(12,9)\n",
    "\n",
    "    # calculate maxgap for this modulus, to keep the teams fair\n",
    "    modint = int(modulus)\n",
    "    maxgap = int(np.floor(82/modint))\n",
    "    maxgap = maxgap * modint\n",
    "    \n",
    "    ax.set_title(f\"Teams $W_r(p_k^\\#)$ mod {modint}, for $p_0=37$, gaps $g <$ {maxgap}, & $W_r(\\infty)$ for gaps up to 510510\")\n",
    "\n",
    "    # set gridlines for x-axis (lambda)\n",
    "    if (xmax < 0.05):\n",
    "        marklampar = 0.001\n",
    "    elif (xmax < 0.3):\n",
    "        marklampar = 0.01\n",
    "    elif (xmax < 0.75):\n",
    "        marklampar = 0.05\n",
    "    else:\n",
    "        marklampar = 0.1\n",
    "    ax.set_xticks(np.arange(0,xmax,marklampar))\n",
    "    ax.grid(axis='x', color='#080408', lw=0.0625, markevery=marklampar)\n",
    "    ax.grid(axis='y', color='#A9A9A9', lw=0.0625 )\n",
    "    ax.set_xlim(0,xmax)\n",
    "    ax.set_ylim(ymin,2.75)\n",
    "\n",
    "    # form teams W_r\n",
    "    maxrdex = int(modint/2)\n",
    "    Nr = np.zeros((lampar.size, maxrdex))\n",
    "    Wr = np.zeros((lampar.size, maxrdex))\n",
    "    i=0\n",
    "    gap = 2\n",
    "    while (gap <= maxgap):\n",
    "        r= gap % modint\n",
    "        rdex = int(r / 2)\n",
    "        Nr[:, rdex] = Nr[:, rdex]+ wgpk[:,i]\n",
    "        i += 1\n",
    "        gap += 2\n",
    "\n",
    "    i=0\n",
    "    while (i < maxrdex):\n",
    "        Wr[:,i] = np.divide(Nr[:,i], Nr[:,1])\n",
    "        i +=1\n",
    "\n",
    "    # estimate the asymptotic values for W_r using wginf up to g=510510\n",
    "    Wrinf = np.zeros(maxrdex)\n",
    "    # reset maxj for 510510\n",
    "    maxj = int(np.floor(510510/modint) * (modint/2))\n",
    "#    print(f\"modint {modint} maxj {maxj} maxrdex {maxrdex}\")\n",
    "    i=0\n",
    "    while (i < maxrdex):\n",
    "        j = (i-1) % maxrdex\n",
    "        while (j < maxj):\n",
    "            Wrinf[i] = Wrinf[i]+wginf[j]\n",
    "            j += int(modint/2)\n",
    "        i += 1\n",
    "\n",
    "    i=0\n",
    "    while (i < maxrdex):\n",
    "        if (i != 1):\n",
    "            Wrinf[i] = Wrinf[i]/Wrinf[1]\n",
    "        i += 1\n",
    "    Wrinf[1] = 1\n",
    "    \n",
    "    # plot the teams\n",
    "    i=0\n",
    "    while (i < maxrdex):\n",
    "        rval = (2*i) % modint\n",
    "        rstr=str(rval)\n",
    "        winfstr = f\"{Wrinf[i]:.3f}\"\n",
    "        wgcolor = Wmastercolordict[rstr]\n",
    "        ax.plot(lampar, Wr[:,i], color=wgcolor, lw=1.5, label='r='+rstr+' Winf='+winfstr)\n",
    "        i += 1\n",
    "\n",
    "    # displaying the legend\n",
    "    handles, labels = ax.get_legend_handles_labels()\n",
    "    ax.legend(handles, labels, ncol=3)\n",
    "\n",
    "    # mark the computational sections at 10^8 primes and 10^12 primes\n",
    "    secAx = np.array((0.348,0.348))\n",
    "    secy = np.array((0.0, 2.4))\n",
    "    ax.plot(secAx, secy, color='#A0A0A0', lw=1, linestyle='dashed')\n",
    "    secBx = np.array((0.27,0.27))\n",
    "    ax.plot(secBx, secy, color='#A0A0A0', lw=1, linestyle='dashed')\n",
    "    \n",
    "    plt.show()\n",
    "\n",
    "# widgets for interacting with the graph of the w_g\n",
    "xmaxSelect = widgets.SelectionSlider(options=[0.01,0.05,0.1,0.15,0.2,0.3,0.5,0.75,1.0],\n",
    "                                      value=1.0, description=\"max lambda\", layout=widgets.Layout(width='60%'), disabled=False)\n",
    "yminSelect = widgets.SelectionSlider(options=[0.0, 0.1, 0.25, 0.5, 0.75],\n",
    "                                      value=0.0, description=\"min w_g\", layout=widgets.Layout(width='60%'), disabled=False)\n",
    "modulusSelect = widgets.SelectionSlider(options=[4,6,8,10,12,14,16,18,20,30],\n",
    "                                      value=10, description=\"Modulus\", layout=widgets.Layout(width='60%'), disabled=False)\n",
    "\n",
    "interact(draw_modwg, xmax=xmaxSelect, ymin=yminSelect, modulus=modulusSelect)\n"
   ]
  },
  {
   "cell_type": "markdown",
   "id": "beea7745-9d65-4ac6-8415-8584da921828",
   "metadata": {
    "jp-MarkdownHeadingCollapsed": true
   },
   "source": [
    "## The plots of $W_r(\\lambda)$\n",
    "In the above graph we plot the relative populations $W_r(\\lambda)$ of the teams of gaps for each residue class $r \\bmod M$, for\n",
    "modulus $M$.\n",
    "$$ W_r(\\lambda) \\; = \\; N_r(\\lambda) / N_2(\\lambda)$$\n",
    "where\n",
    "$$ N_r(\\lambda) \\; = \\; \\sum_{g = r \\bmod M}^{g_{\\rm max}} n_{g,1}(\\lambda)$$\n",
    "is the sum of the populations of the gaps $g \\le g_{\\rm max}$ in that residue class modulo $M$.\n",
    "\n",
    "Currently we only have models for $2 \\le g \\le 82$.  So $g_{\\rm max} \\le 82$ and for each selection of $M$ we want an equal number of gaps on each team. \n",
    "\n",
    "The two dashed lines mark the values for $10^8$ and $10^{12}$ primes, $\\lambda=0.348$ and $\\lambda=0.27$ respectively, indicating the expected biases in calculations like those performed by Lemke-Oliver and Soundararajan.  If we look to the left where $\\lambda=0$, we see that as $p \\longrightarrow \\infty$ the $W_r$ approach a distribution more consistent with the naive estimates based on numbers of ordered pairs of last digits.\n",
    "\n",
    "Even without the complete models $w_{g,1}(\\lambda)$ we can calculate the asymptotic values $w_{g,1}(\\infty)$ for larger gaps. The asymptotic values in the legend are for gaps $g \\le 510510=17^\\#$ on each team $W_r$."
   ]
  },
  {
   "cell_type": "code",
   "execution_count": null,
   "id": "3348a4e9-950d-4e3e-a28f-d4aab1383e6a",
   "metadata": {},
   "outputs": [],
   "source": []
  }
 ],
 "metadata": {
  "kernelspec": {
   "display_name": "Python 3 (ipykernel)",
   "language": "python",
   "name": "python3"
  },
  "language_info": {
   "codemirror_mode": {
    "name": "ipython",
    "version": 3
   },
   "file_extension": ".py",
   "mimetype": "text/x-python",
   "name": "python",
   "nbconvert_exporter": "python",
   "pygments_lexer": "ipython3",
   "version": "3.11.5"
  }
 },
 "nbformat": 4,
 "nbformat_minor": 5
}
