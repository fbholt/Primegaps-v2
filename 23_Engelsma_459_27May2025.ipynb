{
 "cells": [
  {
   "cell_type": "markdown",
   "id": "b601f44d-1cc6-4297-9f07-25500719238c",
   "metadata": {},
   "source": [
    "# Studying nonconvex constellations via $\\Delta\\Phi(x,p)$\n",
    "\n",
    "We apply $\\Delta\\Phi(x,p)$ and its visualizations to the study of a couple of Engelsma's \n",
    "examples of nonconvex constellations.  These are relatively long admissible constellations of low span\n",
    "such that\n",
    "$$ \\pi(|s|) < {\\rm length}(s).$$\n",
    "These examples $s$ show that if the $k$-tuple conjecture is true, then the convexity conjecture\n",
    "for $\\pi(x)$ is false.  For this $s$ we have\n",
    "$$ \\pi(\\gamma_0+|s|) > \\pi(\\gamma_0) + \\pi(|s|).$$\n",
    "\n",
    "We start with a driving term for $s$ in ${\\mathcal G}(11^\\#)$ with initial generator $\\gamma_0 = 1271$ and trace its evolution through subsequent stages of the sieve.\n",
    "\n",
    "Guided by step R2 of the recursion $R: {\\mathcal G}(p_{k-1}^\\#) \\longrightarrow {\\mathcal G}(p_k^\\#)$,\n",
    "we use primorial coordinates or the primorial expansion for $\\gamma_0(p_k)$ to track the incidences of $s$.\n",
    "$$ \\gamma_0(p_k) = \\gamma_0 + m_1 \\cdot 11^\\# + m_2 \\cdot 13^\\# + \\cdots + m_k \\cdot p_{k-1}^\\#$$\n",
    "or \n",
    "$$ \\gamma_0(p_k) = \\gamma_0 + 11^\\# (m_1 + 13(m_2 + 17(m_3 + \\cdots +  p_{k-1}^\\# \\cdot m_k ))\\cdots)$$\n",
    "Each coefficient $m_i$ lies in the range $0 \\le m_i < p_i$ and indicates which copy of ${\\mathcal G}(p_{i-1}^\\#)$ this image of $s$ lies in\n",
    "under step R2 for ${\\mathcal G}(p_{i-1}^\\#)\\longrightarrow {\\mathcal G}(p_i^\\#)$."
   ]
  },
  {
   "cell_type": "code",
   "execution_count": 1,
   "id": "ce351fb1-cbc3-4b15-834b-4ebef2bd8a6d",
   "metadata": {},
   "outputs": [],
   "source": [
    "import pandas as pd\n",
    "import numpy as np\n",
    "import array\n",
    "import itertools\n",
    "from sympy import mod_inverse\n",
    "import random\n",
    "\n",
    "import matplotlib.pyplot as plt\n",
    "from plotnine import ggplot, geom_point, aes, geom_line, theme, ggsave, labs\n",
    "\n",
    "import gc\n",
    "import psutil\n",
    "import sys"
   ]
  },
  {
   "cell_type": "code",
   "execution_count": 2,
   "id": "8d2fb4a8-1fcb-41de-b605-8df16f09edf3",
   "metadata": {},
   "outputs": [],
   "source": [
    "primes19=np.load('primes19.npy')"
   ]
  },
  {
   "cell_type": "code",
   "execution_count": 3,
   "id": "1d401311-aacc-4312-94bf-14b421a6d6d4",
   "metadata": {
    "jupyter": {
     "source_hidden": true
    }
   },
   "outputs": [
    {
     "data": {
      "text/plain": [
       "array([ 23,  29,  31,  37,  41,  43,  47,  53,  59,  61,  67,  71,  73,\n",
       "        79,  83,  89,  97, 101, 103, 107])"
      ]
     },
     "execution_count": 3,
     "metadata": {},
     "output_type": "execute_result"
    }
   ],
   "source": [
    "primes19[0:20]"
   ]
  },
  {
   "cell_type": "code",
   "execution_count": 4,
   "id": "7f998be4-c2bb-4980-8b89-58b8bfd92076",
   "metadata": {},
   "outputs": [
    {
     "data": {
      "text/plain": [
       "array([  2,   3,   5,   7,  11,  13,  17,  19,  23,  29,  31,  37,  41,\n",
       "        43,  47,  53,  59,  61,  67,  71,  73,  79,  83,  89,  97, 101,\n",
       "       103, 107, 109, 113, 127, 131, 137, 139, 149, 151, 157, 163, 167,\n",
       "       173, 179, 181, 191, 193, 197, 199, 211, 223, 227, 229, 233, 239])"
      ]
     },
     "execution_count": 4,
     "metadata": {},
     "output_type": "execute_result"
    }
   ],
   "source": [
    "# PRIMES:  The array smallp runs through primes from 2 up to 19#\n",
    "smallp = np.concatenate(([2,3,5,7,11,13,17,19],primes19))\n",
    "smallp[0:52]"
   ]
  },
  {
   "cell_type": "markdown",
   "id": "67b8173e-7cda-4a46-ad59-c56ead6c288d",
   "metadata": {},
   "source": [
    "This notebook focuses on the Engelsma $(459,3242)$-counterexample to the convexity conjecture for constellations among primes.\n",
    "We use $\\Delta Phi$ and ${\\mathcal G}(29^\\#)$ to visualize the constellation.  \n",
    "The array DelPhi contains the lower points on the vertical segments for $\\Delta \\Phi(x,p)$.  The upper points on these segments are (DelPhi+1)"
   ]
  },
  {
   "cell_type": "code",
   "execution_count": 5,
   "id": "d2588f5b-9331-4f13-a4e8-adb15035d91f",
   "metadata": {},
   "outputs": [],
   "source": [
    "# retrieve data from files and print sizes & lengths\n",
    "G29 = np.load('G29uint.npy')\n",
    "DelPhi = np.load('DelPhi29.npy')  # DelPhi contains the lower points on the vertical segments"
   ]
  },
  {
   "cell_type": "code",
   "execution_count": 6,
   "id": "6ab3d572-ad86-4d70-af9c-5ae7afaa8ef1",
   "metadata": {},
   "outputs": [
    {
     "name": "stdout",
     "output_type": "stream",
     "text": [
      "G29 is 1949.063 MB, length 1021870080\n"
     ]
    }
   ],
   "source": [
    "print(f\"G29 is {sys.getsizeof(G29)/(1024**2) :.3f} MB, length {len(G29)}\")"
   ]
  },
  {
   "cell_type": "code",
   "execution_count": 7,
   "id": "b85652be-6897-454f-a025-2aa12d0bc4f8",
   "metadata": {},
   "outputs": [
    {
     "name": "stdout",
     "output_type": "stream",
     "text": [
      "DelPhi is 7796.250 MB, length 1021870081\n"
     ]
    }
   ],
   "source": [
    "print(f\"DelPhi is {sys.getsizeof(DelPhi)/(1024**2) :.3f} MB, length {len(DelPhi)}\")"
   ]
  },
  {
   "cell_type": "code",
   "execution_count": 8,
   "id": "b2ebf5f0-4423-46a7-8fab-3df1dc190ab3",
   "metadata": {},
   "outputs": [
    {
     "name": "stdout",
     "output_type": "stream",
     "text": [
      "Available memory: 3677.38 MB\n"
     ]
    }
   ],
   "source": [
    "# block to check the available system memory\n",
    "gc.collect()\n",
    "memory = psutil.virtual_memory()\n",
    "available_memory = memory.available\n",
    "del memory\n",
    "print(f\"Available memory: {available_memory / (1024 ** 2):.2f} MB\")"
   ]
  },
  {
   "cell_type": "code",
   "execution_count": 9,
   "id": "b1075f50-90b1-474e-9dd4-7241936f26f2",
   "metadata": {},
   "outputs": [],
   "source": [
    "lenG = len(G29)"
   ]
  },
  {
   "cell_type": "markdown",
   "id": "710f146f-e7ed-48b5-afcf-8425b52e7303",
   "metadata": {},
   "source": [
    "## Engelsma counterexamples to the convexity conjecture\n",
    "Engelsma et al. have identified several examples of admissible constellations for which their lengths $J$ exceed the number of primes under their span\n",
    "$$ \\pi(|s|) < J$$\n",
    "The shortest counterexample $s$ has length $J=458$ and span $|s|=3240$.  This counterexample can be extended by a single gap $2$ to produce a second admissible counterexample of length $J=459$ and span $|s|=3242$.\n",
    "\n",
    "This constellation has a unique driving term in the cycle ${\\mathcal G}(11^\\#)$ with $\\gamma_0=1271$.  This driving term has a unique image through the next several stages of the sieve."
   ]
  },
  {
   "cell_type": "code",
   "execution_count": 10,
   "id": "4b327c22-ffb9-4bb0-9b59-cb5cbf446320",
   "metadata": {},
   "outputs": [
    {
     "data": {
      "text/plain": [
       "4854692651"
      ]
     },
     "execution_count": 10,
     "metadata": {},
     "output_type": "execute_result"
    }
   ],
   "source": [
    "# Engelsma example - primorial coordinates from Excel workbook for counterexample driving term in G29\n",
    "gamma0 = 1271+2310*(5+13*(8+17*(9+19*(17+23*21))))\n",
    "gamma0"
   ]
  },
  {
   "cell_type": "code",
   "execution_count": 11,
   "id": "373769c8-e700-464b-8347-b1be0836c0ea",
   "metadata": {},
   "outputs": [
    {
     "data": {
      "text/plain": [
       "np.uint64(4854692650)"
      ]
     },
     "execution_count": 11,
     "metadata": {},
     "output_type": "execute_result"
    }
   ],
   "source": [
    "# index for gamma0 in G29\n",
    "xEngelsma = 766785216\n",
    "np.sum(G29[0:xEngelsma])"
   ]
  },
  {
   "cell_type": "code",
   "execution_count": 12,
   "id": "433fca92-c4d2-459e-9266-c9894a135602",
   "metadata": {},
   "outputs": [
    {
     "data": {
      "text/plain": [
       "array([ 2,  4,  2,  4,  8,  6,  4,  2, 10,  6,  2,  6, 12,  4,  6, 12,  2,\n",
       "        4,  2,  4,  8,  6, 12,  4,  6,  8,  6,  4,  2,  4,  6,  8,  6,  4,\n",
       "       12,  2, 10,  2,  4, 12,  2, 10,  2,  4,  6,  8,  6,  6,  6,  4,  6,\n",
       "       12,  6,  2,  4,  8,  6,  4,  6,  2,  4,  8, 12,  4,  6,  6,  2,  6,\n",
       "       10,  2, 22,  2,  6,  4,  6,  2, 10, 12,  8,  6,  4,  2,  6,  4,  6,\n",
       "        8,  4,  2,  4,  2, 18, 10,  2,  4,  6, 14,  4,  2, 12, 10,  2,  4,\n",
       "       12,  2, 18, 10,  2,  6,  6,  4,  6,  8, 10,  2, 10,  6,  8,  6,  4,\n",
       "        2, 12,  6, 10,  6,  6,  8,  6, 10,  6,  8,  4,  2,  6, 10, 12,  6,\n",
       "        2, 10,  2,  6,  4,  2,  4,  6,  6,  2, 10, 12, 14,  4,  8,  4,  8,\n",
       "        6,  4,  6,  2, 12,  6,  6,  4,  6,  6,  2, 10,  2,  4, 14, 12,  4,\n",
       "        2,  4,  6,  2, 10,  2,  4, 12,  2, 10,  2,  6,  4, 14,  6,  4,  2,\n",
       "        4, 14,  4,  6,  2, 10,  2,  6,  6, 10,  6,  2, 16,  2, 12, 10,  2,\n",
       "        4,  2,  4,  6,  8,  4,  6,  6,  6,  8, 12,  4, 14,  4,  2,  4, 14,\n",
       "        6, 10,  6,  6,  2,  6, 10,  2,  4,  6,  2,  6,  6,  6, 10, 12,  6,\n",
       "        2,  4,  6,  8,  4,  2, 18,  6,  4,  2,  6,  4, 18,  2,  4,  2,  4,\n",
       "        8, 10, 12,  6,  2, 16,  6,  6,  2,  6,  6,  4,  2, 10,  2, 10,  2,\n",
       "       10,  6,  8,  6,  4,  6,  6,  2, 10,  2,  6, 10,  8,  4,  2, 18,  6,\n",
       "        4,  6,  2,  4,  6,  8,  6,  4,  2, 10,  2, 12,  4,  2, 10,  2, 12,\n",
       "        4,  2,  4,  8,  6, 10,  6,  6,  2,  6,  4,  8,  4,  6, 12,  2,  6,\n",
       "        4,  8,  6,  4,  6,  6,  6,  2,  6, 10,  2,  4,  8,  6,  4,  2,  4,\n",
       "        2, 10, 12,  2,  6,  4,  8, 10,  2,  4, 12, 14, 16,  8,  4,  2,  6,\n",
       "        4,  8, 16, 14, 12,  4,  2, 10,  8,  4,  6, 14, 10,  2,  4,  2,  4,\n",
       "        6,  8,  4,  2, 10,  6,  2,  6,  6,  6, 10,  8,  4,  6,  2,  4,  8,\n",
       "       10,  8,  4,  6,  2,  6,  6,  6, 10,  8,  4,  2,  4, 12,  2, 10,  2,\n",
       "        4,  2, 10,  2, 10,  2, 10,  8,  6,  4,  2,  6,  4,  6,  8, 10,  2,\n",
       "        4,  8, 10,  6,  2,  4,  6,  2,  6, 10,  6,  8,  6, 10,  2, 10,  2,\n",
       "       12,  4,  6,  8,  6,  4,  2, 16,  2,  6,  4,  8, 10,  8,  4,  2,  4,\n",
       "        2, 22,  6,  2,  4,  6, 14,  6,  4,  8,  6,  4,  2,  6, 10,  2, 10,\n",
       "        6,  6,  6,  2,  6,  4,  2, 10,  6,  2,  6,  6, 10,  6, 14,  4,  2,\n",
       "        4,  8,  6,  4,  6,  6,  8,  6,  6,  6,  4,  6,  2, 10,  2,  4,  2,\n",
       "       10, 12,  2,  6, 10,  2,  6, 10,  6,  6,  2, 10,  2,  6,  4, 14,  4,\n",
       "        2], dtype=uint16)"
      ]
     },
     "execution_count": 12,
     "metadata": {},
     "output_type": "execute_result"
    }
   ],
   "source": [
    "# the unique driving term for Engelsma (459,3242) in G(29#) has length 528\n",
    "Engelsma29=G29[xEngelsma:(xEngelsma+528)]\n",
    "Engelsma29"
   ]
  },
  {
   "cell_type": "code",
   "execution_count": 13,
   "id": "8f89bad4-7072-4299-9307-40c7e79c3c51",
   "metadata": {},
   "outputs": [],
   "source": [
    "# Engelsma counterexample of 459 gaps of span 3242.\n",
    "Engelsma = np.array([2,4,2,4,8,6,4,2,10,6,2,6,12,4,6,12,2,4,2,4,8,6,12,4,6,8,6,4,2,4,14,10,12,\n",
    "                     2,10,2,4,12,2,10,2,4,6,8,6,6,6,4,6,12,6,2,4,8,6,10,2,4,8,16,6,6,2,6,10,2,22,\n",
    "                     2,6,4,6,2,10,12,8,6,6,6,4,6,8,4,2,4,2,18,10,2,10,14,4,14,10,2,4,12,2,18,10,2,\n",
    "                     6,6,10,18,2,10,6,8,6,4,14,6,10,6,6,8,6,10,6,8,4,2,6,10,12,6,12,2,6,4,2,4,6,6,2,\n",
    "                     10,12,14,4,8,4,8,6,4,6,2,12,6,6,10,6,12,2,4,14,12,4,2,4,6,12,2,4,12,12,2,6,4,20,\n",
    "                     4,2,18,4,6,2,10,2,6,6,10,8,16,2,12,10,2,4,6,6,12,6,6,6,20,4,14,4,2,4,14,6,16,8,\n",
    "                     6,10,2,10,2,6,12,10,12,6,2,10,8,4,2,18,10,2,6,4,18,6,2,22,12,6,2,16,6,6,2,6,6,4,\n",
    "                     14,10,2,10,14,6,4,6,6,2,18,10,8,4,2,18,6,4,6,6,6,8,6,4,2,10,2,12,4,2,10,2,12,4,2,\n",
    "                     4,8,6,10,6,6,2,6,16,18,2,6,4,8,6,10,6,6,8,10,2,12,6,4,2,4,2,10,12,2,6,4,8,10,2,16,\n",
    "                     30,8,4,2,6,4,8,16,14,12,4,2,10,12,6,24,2,4,2,18,6,10,6,2,6,6,16,8,4,6,2,4,18,8,\n",
    "                     4,8,6,6,6,10,8,4,2,4,12,2,12,6,10,14,10,8,6,4,2,10,6,8,10,2,4,8,10,8,4,6,2,6,10,\n",
    "                     6,8,6,10,2,10,2,12,4,6,8,6,4,2,16,8,4,8,10,12,2,4,2,22,6,2,4,6,14,6,4,8,10,2,6,10,\n",
    "                     2,10,12,6,8,4,2,10,8,6,6,16,18,6,8,6,4,6,6,8,6,6,6,4,6,2,12,4,2,10,14,6,10,2,6,10,\n",
    "                     6,6,2,10,2,6,4,14,4,2], dtype=int)"
   ]
  },
  {
   "cell_type": "code",
   "execution_count": 14,
   "id": "8f1cb7cd-281f-4e29-a1bf-7927d79b2d08",
   "metadata": {},
   "outputs": [
    {
     "name": "stdout",
     "output_type": "stream",
     "text": [
      "Nonconvex s of length 459 and span 3242 vs pi(3229)=457 and pi(3251)=458\n"
     ]
    }
   ],
   "source": [
    "print(f\"Nonconvex s of length {len(Engelsma)} and span {np.sum(Engelsma)} vs pi({smallp[456]})=457 and pi({smallp[457]})=458\")"
   ]
  },
  {
   "cell_type": "markdown",
   "id": "e065f814-2108-406f-9fea-1a9f5bb2fa06",
   "metadata": {},
   "source": [
    "## $\\Delta \\Phi$ to picture $p$-rough numbers\n",
    "\n",
    "The count of $p$-rough numbers up through $x$ is denoted $\\Phi(x,p)$.\n",
    "The graph of $\\Phi(x,p)$ has a line of symmetry\n",
    "$$ \\tilde{\\Phi} = \\frac{\\phi(p^\\#)}{p^\\#} x = \\frac{1}{\\mu} x $$\n",
    "where $\\mu = \\frac{p^\\#}{\\phi(p^\\#)}$ is the mean size of the gaps in\n",
    "$\\mathcal{G}(p^\\#)$.\n",
    "\n",
    "So we work with $\\Delta \\Phi(x,p)$, which measures the deviation of $\\Phi(x,p)$ around its line of symmetry.\n",
    "$$ \\Delta \\Phi(x,p) = \\Phi(x,p) - \\frac{1}{\\mu} x$$\n",
    "\n",
    "The deviations of the $p$-rough numbers from their line of symmetry\n",
    "$$\\tilde{\\Phi} = \\frac{1}{\\mu}x$$ \n",
    "are periodic and bounded.  Thus the behavior of $\\Phi(x,p)$ is completely described by the behavior of $\\Delta \\Phi(x,p)$\n",
    "over the first cycle $\\mathcal{G}(p^\\#)$, or using the rotational symmetry around $x=1+\\frac{p^\\#}{2}$ over the first\n",
    "half of this cycle.\n",
    "\n",
    "$\\Delta \\Phi(x,p)$ provides a good visualization of the $p$-rough numbers."
   ]
  },
  {
   "cell_type": "code",
   "execution_count": 15,
   "id": "72db7cf8-2ba6-4f75-8a20-9e0752fa9566",
   "metadata": {},
   "outputs": [
    {
     "name": "stdout",
     "output_type": "stream",
     "text": [
      "mu 6.33122875072338 neg reciprocal (slope) -0.15794722310195222\n"
     ]
    }
   ],
   "source": [
    "# average gap size for G(29#)\n",
    "mu_gap = (29/28)*(23/22)*(19/18)*(17/16)*(13/12)*(11/10)*(210/48)\n",
    "mu_recip = -1/mu_gap\n",
    "print(\"mu\",mu_gap, \"neg reciprocal (slope)\", mu_recip)"
   ]
  },
  {
   "cell_type": "code",
   "execution_count": 16,
   "id": "de107141-e83a-42ad-af8d-bcfa639dae20",
   "metadata": {},
   "outputs": [],
   "source": [
    "def interleave_np(arr1, arr2):\n",
    "    stacked_arr = np.stack((arr1, arr2),axis=1)\n",
    "    return stacked_arr.flatten().tolist()"
   ]
  },
  {
   "cell_type": "code",
   "execution_count": 17,
   "id": "3c3bbc2c-df60-414d-83fb-248ba005ba57",
   "metadata": {},
   "outputs": [
    {
     "data": {
      "image/png": "[encoded data removed]",
      "text/plain": [
       "<Figure size 1000x800 with 1 Axes>"
      ]
     },
     "execution_count": 17,
     "metadata": {},
     "output_type": "execute_result"
    }
   ],
   "source": [
    "# Interleaving data to get the stepped graph, rendering the vertical segments\n",
    "# midpoint = 510935040\n",
    "# pts0 = 510900000\n",
    "# pts1 = pts0 + 2500\n",
    "# NOTE: [19 Mar 2025] halfspans: 300, 1000, 5000, 25000, 80000  \n",
    "# max value at 167215228\n",
    "xmid = 167215228\n",
    "xhalfspan = 300\n",
    "xEngelsma = 766785216  # \n",
    "pts0 = xEngelsma-2\n",
    "pts1 = xEngelsma+531\n",
    "delx = np.cumsum(G29[pts0:pts1], dtype=float)\n",
    "delphi = DelPhi[(pts0+1):(pts1+1)]\n",
    "delxB = interleave_np(delx,delx)\n",
    "delphiB = interleave_np(delphi,(delphi +1))\n",
    "data_sample = {'x': delxB, 'DelPhi': delphiB}\n",
    "df = pd.DataFrame(data_sample)\n",
    "dphi_plot = ggplot(df, aes(x='x',y='DelPhi'))+geom_line(size=0.125, color='blue')+theme(figure_size=(10,8))+labs(title='The unique driving term for Engelsma counterexample in G(29#)')\n",
    "#print(plot)\n",
    "dphi_plot.draw()"
   ]
  },
  {
   "cell_type": "code",
   "execution_count": null,
   "id": "7a35d16e-601c-45bc-b541-9f3cfcfed05c",
   "metadata": {},
   "outputs": [],
   "source": []
  },
  {
   "cell_type": "code",
   "execution_count": 18,
   "id": "85bacfa7-b7ff-4d3b-8939-3e592709d3e5",
   "metadata": {},
   "outputs": [],
   "source": [
    "# This function returns a list of available residues mod inp that begin admissible images of constellation incons\n",
    "def admissible(inp, incons):\n",
    "    # calculate list of covered residues mod p by the input constellation\n",
    "    rez=0\n",
    "    covered_rez={0}\n",
    "    i=0\n",
    "    while (i < len(incons)):\n",
    "        rez = (rez + incons[i])% inp\n",
    "        if rez not in covered_rez:\n",
    "            covered_rez.add(rez)\n",
    "        i += 1\n",
    "    # are all residues covered?\n",
    "    n_available_rez = inp - len(covered_rez)\n",
    "    i=1\n",
    "    available_rez = set()\n",
    "    # each entry in covered_rez corresponds to a starting residue of (inp-rez)mod inp\n",
    "    while (i < inp):\n",
    "        test_rez = inp - i\n",
    "        if test_rez not in covered_rez:\n",
    "            available_rez.add(i)\n",
    "        i += 1\n",
    "    return available_rez"
   ]
  },
  {
   "cell_type": "code",
   "execution_count": 19,
   "id": "ffa33dd4-eed8-4017-a778-a2af4b6eedfe",
   "metadata": {},
   "outputs": [
    {
     "data": {
      "text/plain": [
       "{6}"
      ]
     },
     "execution_count": 19,
     "metadata": {},
     "output_type": "execute_result"
    }
   ],
   "source": [
    "rez11 = admissible(11, Engelsma)\n",
    "rez11"
   ]
  },
  {
   "cell_type": "code",
   "execution_count": 20,
   "id": "0aebda51-20c8-45db-986c-99ec242629ea",
   "metadata": {},
   "outputs": [],
   "source": [
    "# For each prime >= 11, so index i >= 4, we record the list of admissible residues for gamma_0 mod p[i]\n",
    "rezlist = []\n",
    "i=4\n",
    "while (smallp[i] < 5000):\n",
    "    p = smallp[i]\n",
    "    rezp = admissible(p,Engelsma)\n",
    "    rezlist.append(rezp)\n",
    "    i += 1"
   ]
  },
  {
   "cell_type": "code",
   "execution_count": 21,
   "id": "842aa841-939c-45eb-b70d-a8e6945fe259",
   "metadata": {},
   "outputs": [],
   "source": [
    "num_admissible = [len(rezlist[i]) for i in range(len(rezlist))]\n",
    "num_admissible = np.array(num_admissible)"
   ]
  },
  {
   "cell_type": "code",
   "execution_count": 22,
   "id": "59cc8b0b-d470-4f2d-93e2-4987f2fd0618",
   "metadata": {},
   "outputs": [
    {
     "data": {
      "text/plain": [
       "array([   1,    1,    1,    1,    1,    1,    1,    1,    1,    1,    1,\n",
       "          1,    1,    1,    1,    1,    1,    1,    1,    1,    1,    1,\n",
       "          1,    1,    1,    1,    1,    1,    2,    2,    1,    1,    3,\n",
       "          1,    2,    2,    5,    4,   10,    6,    5,    6,   13,   10,\n",
       "         12,    8,   13,    9,   17,   15,   17,   26,   21,   17,   21,\n",
       "         29,   24,   31,   32,   39,   37,   38,   41,   48,   53,   49,\n",
       "         55,   59,   63,   69,   66,   74,   82,   89,   83,   89,   95,\n",
       "         98,  105,  100,  100,  109,  115,  112,  116,  128,  128,  135,\n",
       "        129,  145,  141,  149,  148,  158,  153,  166,  179,  181,  186,\n",
       "        197,  194,  203,  201,  219,  219,  215,  222,  228,  229,  239,\n",
       "        247,  249,  256,  255,  263,  266,  269,  282,  277,  284,  296,\n",
       "        298,  307,  318,  335,  333,  331,  339,  343,  351,  350,  362,\n",
       "        357,  378,  383,  394,  400,  400,  406,  409,  410,  416,  439,\n",
       "        436,  437,  439,  464,  465,  471,  463,  490,  488,  498,  502,\n",
       "        518,  514,  519,  528,  547,  541,  546,  554,  565,  572,  581,\n",
       "        586,  587,  598,  598,  607,  606,  616,  627,  631,  636,  636,\n",
       "        659,  656,  667,  659,  670,  680,  687,  694,  697,  720,  718,\n",
       "        727,  737,  747,  747,  762,  764,  775,  779,  790,  786,  795,\n",
       "        802,  808,  818,  839,  839,  845,  849,  848,  860,  861,  861,\n",
       "        865,  877,  878,  886,  918,  922,  925,  934,  954,  963,  977,\n",
       "        977,  983,  985,  987, 1001, 1003, 1004, 1012, 1020, 1031, 1034,\n",
       "       1035, 1036, 1040, 1046, 1057, 1070, 1077, 1091, 1096, 1098, 1104,\n",
       "       1110, 1116, 1123, 1128, 1140, 1143, 1149, 1150, 1153, 1160, 1162,\n",
       "       1167, 1177, 1197, 1203, 1207, 1209, 1233, 1237, 1239, 1249, 1261,\n",
       "       1263, 1273, 1281, 1287, 1293, 1299, 1317, 1323, 1327, 1329, 1341,\n",
       "       1351, 1363, 1371, 1387, 1401, 1407, 1411, 1413, 1417, 1419, 1429,\n",
       "       1441, 1447, 1453, 1471, 1473, 1489, 1491, 1513, 1519, 1527, 1533,\n",
       "       1537, 1539, 1543, 1551, 1557, 1567, 1569, 1579, 1593, 1603, 1609,\n",
       "       1621, 1623, 1627, 1629, 1639, 1651, 1653, 1669, 1671, 1677, 1681,\n",
       "       1683, 1693, 1701, 1719, 1743, 1747, 1753, 1761, 1777, 1779, 1783,\n",
       "       1791, 1807, 1809, 1813, 1821, 1827, 1833, 1837, 1849, 1851, 1873,\n",
       "       1879, 1881, 1887, 1891, 1897, 1911, 1917, 1921, 1923, 1929, 1933,\n",
       "       1939, 1951, 1957, 1963, 1977, 1981, 1987, 1999, 2007, 2013, 2017,\n",
       "       2043, 2061, 2071, 2079, 2083, 2089, 2091, 2097, 2119, 2131, 2133,\n",
       "       2149, 2157, 2161, 2173, 2187, 2197, 2199, 2203, 2211, 2217, 2223,\n",
       "       2227, 2229, 2233, 2239, 2247, 2251, 2253, 2259, 2269, 2271, 2281,\n",
       "       2289, 2293, 2307, 2317, 2329, 2331, 2337, 2341, 2343, 2359, 2373,\n",
       "       2377, 2383, 2391, 2397, 2401, 2419, 2427, 2437, 2443, 2449, 2457,\n",
       "       2467, 2479, 2493, 2497, 2503, 2509, 2511, 2539, 2541, 2551, 2559,\n",
       "       2563, 2577, 2581, 2589, 2601, 2607, 2619, 2623, 2629, 2649, 2659,\n",
       "       2661, 2677, 2703, 2707, 2709, 2721, 2727, 2731, 2743, 2749, 2757,\n",
       "       2761, 2769, 2791, 2793, 2797, 2799, 2811, 2839, 2841, 2847, 2853,\n",
       "       2859, 2863, 2869, 2871, 2883, 2887, 2899, 2901, 2911, 2913, 2929,\n",
       "       2931, 2947, 2953, 2973, 2989, 2997, 3001, 3003, 3007, 3009, 3031,\n",
       "       3039, 3051, 3057, 3067, 3069, 3073, 3079, 3081, 3087, 3097, 3099,\n",
       "       3111, 3121, 3123, 3133, 3147, 3153, 3157, 3163, 3171, 3177, 3183,\n",
       "       3199, 3211, 3213, 3217, 3231, 3237, 3241, 3249, 3259, 3267, 3273,\n",
       "       3279, 3301, 3307, 3309, 3319, 3333, 3337, 3343, 3361, 3363, 3373,\n",
       "       3387, 3391, 3393, 3403, 3417, 3421, 3429, 3447, 3451, 3457, 3459,\n",
       "       3463, 3469, 3471, 3483, 3487, 3507, 3529, 3541, 3543, 3547, 3553,\n",
       "       3559, 3561, 3567, 3589, 3591, 3597, 3613, 3619, 3631, 3633, 3639,\n",
       "       3651, 3667, 3669, 3673, 3679, 3693, 3697, 3699, 3717, 3741, 3751,\n",
       "       3757, 3759, 3769, 3771, 3781, 3783, 3793, 3799, 3801, 3811, 3813,\n",
       "       3823, 3829, 3837, 3867, 3877, 3879, 3889, 3897, 3903, 3913, 3931,\n",
       "       3937, 3949, 3961, 3963, 3981, 3987, 3991, 3997, 4003, 4021, 4023,\n",
       "       4033, 4047, 4053, 4057, 4059, 4063, 4087, 4089, 4101, 4107, 4123,\n",
       "       4131, 4137, 4143, 4161, 4177, 4179, 4183, 4189, 4191, 4197, 4203,\n",
       "       4213, 4219, 4231, 4243, 4261, 4263, 4269, 4273, 4291, 4299, 4323,\n",
       "       4327, 4329, 4333, 4339, 4341, 4353, 4357, 4371, 4401, 4411, 4417,\n",
       "       4429, 4443, 4449, 4459, 4471, 4473, 4477, 4483, 4491, 4497, 4507,\n",
       "       4509, 4513, 4527, 4533, 4539])"
      ]
     },
     "execution_count": 22,
     "metadata": {},
     "output_type": "execute_result"
    }
   ],
   "source": [
    "# This is a list of the NUMBER of admissible residues mod p starting at p=11 for the counterexample\n",
    "num_admissible"
   ]
  },
  {
   "cell_type": "code",
   "execution_count": 23,
   "id": "54e9735c-96c6-46d7-b4bd-5ada7229f0a1",
   "metadata": {},
   "outputs": [],
   "source": [
    "# this function calculates the value of mk such that \n",
    "#  0 <= mk < pk  and  mk*pml(p_{k-1}) + r0 = rk mod pk\n",
    "# reminder for indexing that pk = smallp[k+4], a shift of 4, and p0=11\n",
    "def primorialm(k,rk,r0):\n",
    "    pk = smallp[k+4]\n",
    "    i = 0\n",
    "    pmlp = 1\n",
    "    while (i < k+4):\n",
    "        pmlp = (pmlp * smallp[i]) % pk\n",
    "        i += 1\n",
    "    mk = (mod_inverse(pmlp, pk) * (rk-r0) ) % pk\n",
    "    return mk"
   ]
  },
  {
   "cell_type": "code",
   "execution_count": 24,
   "id": "fa487616-b64e-44b6-aa70-c7692787327c",
   "metadata": {},
   "outputs": [
    {
     "name": "stdout",
     "output_type": "stream",
     "text": [
      "Driving term for Engelsma (459,3242) counterexample: len 674 and span 3242\n"
     ]
    }
   ],
   "source": [
    "# For the primorial coordinates for the counterexample we start in G(11#), so we start with the unique driving term in that cycle\n",
    "Engelsma11 = np.array([2,4,2,4,6,2,6,4,2,4,6,6,2,6,6,6,4,6,8,4,2,4,2,4,8,6,4,8,4,6,2,6,6,4,2,4,6,8,4,2,4,2,10,2,10,2,4,2,4,6,2,10,2,4,6,8,6,4,2,6,4,6,8,4,6,2,4,\n",
    "              8,6,4,6,2,4,6,2,6,6,4,6,6,2,6,6,4,2,10,2,10,2,4,2,4,6,2,6,4,2,10,6,2,6,4,2,6,4,6,8,4,2,4,2,12,6,4,6,2,4,6,2,12,4,2,4,8,6,4,2,4,2,10,2,10,6,2,\n",
    "              4,6,2,6,4,2,4,6,6,2,6,4,2,10,6,8,6,4,2,4,8,6,4,6,2,4,6,2,6,6,6,4,6,2,6,4,2,4,2,10,12,2,4,2,10,2,6,4,2,4,6,6,2,10,2,6,4,14,4,2,4,2,4,8,6,4,\n",
    "              6,2,4,6,2,6,6,4,2,4,6,2,6,4,2,4,12,2,12,4,2,4,6,2,6,4,2,4,6,6,2,6,4,2,6,4,6,8,4,2,4,2,4,14,4,6,2,10,2,6,6,4,2,4,6,2,10,2,4,2,12,10,2,4,2,\n",
    "              4,6,2,6,4,6,6,6,2,6,4,2,6,4,6,8,4,2,4,6,8,6,10,2,4,6,2,6,6,4,2,4,6,2,6,4,2,6,10,2,10,2,4,2,4,6,8,4,2,4,12,2,6,4,2,6,4,6,12,2,4,2,4,8,6,4,6,2,\n",
    "              4,6,2,6,10,2,4,6,2,6,4,2,4,2,10,2,10,2,4,6,6,2,6,6,4,6,6,2,6,4,2,6,4,6,8,4,2,6,4,8,6,4,6,2,4,6,8,6,4,2,10,2,6,4,2,4,2,10,2,10,2,4,2,4,8,6,4,\n",
    "              2,4,6,6,2,6,4,8,4,6,8,4,2,4,2,4,8,6,4,6,6,6,2,6,6,4,2,4,6,2,6,4,2,4,2,10,2,10,2,6,4,6,2,6,4,2,4,6,6,8,4,2,6,10,8,4,2,4,2,4,8,10,6,2,4,8,6,\n",
    "              6,4,2,4,6,2,6,4,6,2,10,2,10,2,4,2,4,6,2,6,4,2,4,6,6,2,6,6,6,4,6,8,4,2,4,2,4,8,6,4,8,4,6,2,6,6,4,2,4,6,8,4,2,4,2,10,2,10,2,4,2,4,6,2,10,2,\n",
    "              4,6,8,6,4,2,6,4,6,8,4,6,2,4,8,6,4,6,2,4,6,2,6,6,4,6,6,2,6,6,4,2,10,2,10,2,4,2,4,6,2,6,4,2,10,6,2,6,4,2,6,4,6,8,4,2,4,2,12,6,4,6,2,4,6,2,\n",
    "              12,4,2,4,8,6,4,2,4,2,10,2,10,6,2,4,6,2,6,4,2,4,6,6,2,6,4,2,10,6,8,6,4,2,4,8,6,4,6,2,4,6,2,6,6,6,4,6,2,6,4,2,4,2,10,12,2,4,2,10,2,6,4,2,4,6,\n",
    "              6,2,10,2,6,4,14,4,2], dtype=int)\n",
    "print(f\"Driving term for Engelsma (459,3242) counterexample: len {len(Engelsma11)} and span {sum(Engelsma11)}\")"
   ]
  },
  {
   "cell_type": "code",
   "execution_count": 25,
   "id": "5eb87c2e-f848-455e-8549-5ce5159ac8e6",
   "metadata": {},
   "outputs": [
    {
     "name": "stdout",
     "output_type": "stream",
     "text": [
      "k   1 pk  13 mk   5 r   3 length 622  \n",
      "k   2 pk  17 mk   8 r  16 length 589  \n",
      "k   3 pk  19 mk   9 r  10 length 565  \n",
      "k   4 pk  23 mk  17 r  12 length 544  \n",
      "k   5 pk  29 mk  21 r  25 length 528  \n",
      "k   6 pk  31 mk  29 r  16 length 516  \n",
      "k   7 pk  37 mk  13 r   3 length 506  \n",
      "k   8 pk  41 mk   2 r  37 length 495  \n",
      "k   9 pk  43 mk   8 r  22 length 489  \n",
      "k  10 pk  47 mk   0 r  24 length 485  \n",
      "k  11 pk  53 mk  32 r   9 length 479  \n",
      "k  12 pk  59 mk  45 r  30 length 478  \n",
      "k  13 pk  61 mk  47 r  22 length 474  \n",
      "k  14 pk  67 mk  27 r  34 length 471  \n",
      "k  15 pk  71 mk  28 r  36 length 469  \n",
      "k  16 pk  73 mk  27 r  34 length 466  \n",
      "k  17 pk  79 mk  24 r  40 length 466  \n",
      "k  18 pk  83 mk   0 r  42 length 466  \n",
      "k  19 pk  89 mk   9 r  38 length 464  \n",
      "k  20 pk  97 mk  15 r  69 length 462  \n",
      "k  21 pk 101 mk  68 r  76 length 461  \n",
      "k  22 pk 103 mk 100 r  52 length 461  \n",
      "k  23 pk 107 mk  53 r  54 length 461  \n",
      "k  24 pk 109 mk  45 r  76 length 460  \n",
      "k  25 pk 113 mk   7 r 100 length 459  \n",
      "k  26 pk 127 mk  24 r  64 length 459  \n",
      "k  27 pk 131 mk   5 r  66 length 459  \n"
     ]
    }
   ],
   "source": [
    "# Develop the primorial coordinates for our Engelsma counterexample, noting the length of the driving term as the sieve progresses\n",
    "k = 1\n",
    "gamma_expansion = [1271]         # start the expansion with gamma0 in G(11#)\n",
    "constellationk = Engelsma11.copy()\n",
    "while (num_admissible[k] == 1 and k < len(rezlist)):  # unique admissible instance for p\n",
    "    pk = smallp[k+4]\n",
    "    target_residue = list(rezlist[k])[0]\n",
    "    # calculate residue r0 modulo pk\n",
    "    # set initial conditions for this loop\n",
    "    i = 1\n",
    "    r0 = gamma_expansion[0] % pk\n",
    "    rpml = 2310 % pk  # initialize this factor at 11#\n",
    "    while (i < k):  # the expansion for r nests from right to left\n",
    "        r0 = (r0 + gamma_expansion[i] * rpml) % pk\n",
    "        rpml = (rpml * smallp[i+4]) % pk\n",
    "        i += 1\n",
    "    # calculate next primorial coefficient mk\n",
    "    mk = primorialm(k,target_residue,r0)\n",
    "    gamma_expansion.append(mk)\n",
    "    # perform any interior fusions indicated for this image of s\n",
    "    r0 = target_residue\n",
    "    i=0\n",
    "    while (i < len(constellationk)):\n",
    "        r0 = (r0+constellationk[i]) % pk\n",
    "        if (r0 == 0):\n",
    "            constellationk[i] = constellationk[i] + constellationk[i+1]\n",
    "            r0 = constellationk[i+1] % pk\n",
    "            constellationk[i+1] = 0\n",
    "        i += 1\n",
    "    constellationk = constellationk[ constellationk != 0]\n",
    "    print(f\"k {k:3d} pk {pk:3d} mk {mk:3d} r {target_residue:3d} length {len(constellationk)}  \") # , end='\\r')\n",
    "    k += 1"
   ]
  },
  {
   "cell_type": "code",
   "execution_count": 26,
   "id": "0e4d3c46-133f-4eb2-8ce0-0e63325a578f",
   "metadata": {},
   "outputs": [
    {
     "data": {
      "text/plain": [
       "array([1271,    5,    8,    9,   17,   21,   29,   13,    2,    8,    0,\n",
       "         32,   45,   47,   27,   28,   27,   24,    0,    9,   15,   68,\n",
       "        100,   53,   45,    7,   24,    5])"
      ]
     },
     "execution_count": 26,
     "metadata": {},
     "output_type": "execute_result"
    }
   ],
   "source": [
    "gammam_prefix = np.array(gamma_expansion)\n",
    "gammam_prefix"
   ]
  },
  {
   "cell_type": "code",
   "execution_count": 27,
   "id": "85352274-aca4-4b01-9d4c-9c51a31a0137",
   "metadata": {},
   "outputs": [
    {
     "name": "stdout",
     "output_type": "stream",
     "text": [
      "Expecting 240 instances\n",
      "k 28 p 137 i 0 targetr 1 r0 20\n",
      "1271   5   8   9  17  21  29  13   2   8   0  32  45  47  27  28  27  24   0   9  15  68 100  53  45   7  24   5   6 \n",
      "k 28 p 137 i 1 targetr 97 r0 20\n",
      "1271   5   8   9  17  21  29  13   2   8   0  32  45  47  27  28  27  24   0   9  15  68 100  53  45   7  24   5  55 \n"
     ]
    }
   ],
   "source": [
    "# We extend the primorial coordinates for the 48 images up through k=35 and pk=173\n",
    "k0=28\n",
    "k1=36\n",
    "gammam_list = []\n",
    "num_instances=1\n",
    "k=k0\n",
    "while (k <= k1):\n",
    "    num_instances *= num_admissible[k]\n",
    "    k += 1\n",
    "print(f\"Expecting {num_instances} instances\")\n",
    "\n",
    "k=k0\n",
    "i=0\n",
    "pk = smallp[k+4]\n",
    "\n",
    "# initiate the extensions in first iteration on k\n",
    "while (i < num_admissible[k]):\n",
    "    gammam_list.append(list(gammam_prefix))\n",
    "\n",
    "    target_residue = list(rezlist[k])[i]\n",
    "    # calculate residue r0 modulo pk\n",
    "    # set initial conditions for this loop\n",
    "    j = 1\n",
    "    r0 = gammam_list[i][0] % pk\n",
    "    rpml = 2310 % pk  # initialize this factor at 11#\n",
    "    while (j < k):  # the expansion for r nests from right to left\n",
    "        r0 = (r0 + gammam_list[i][j] * rpml) % pk\n",
    "        rpml = (rpml * smallp[j+4]) % pk\n",
    "        j += 1\n",
    "    # calculate next primorial coefficient mk\n",
    "    mk = primorialm(k,target_residue,r0)\n",
    "    (gammam_list[i]).append(mk)\n",
    "\n",
    "    print(f\"k {k} p {smallp[k+4]} i {i} targetr {target_residue} r0 {r0}\")\n",
    "    for element in gammam_list[i]:\n",
    "        print(f\"{element:3d}\", end=\" \")\n",
    "    print()\n",
    "    i += 1\n",
    "\n",
    "# now iterate k through the primes pk\n",
    "k += 1\n",
    "\n",
    "while (k <= k1):\n",
    "    pk = smallp[k+4]\n",
    "    \n",
    "    iprefix=0\n",
    "    num_prefixes = len(gammam_list)\n",
    "    # iprefix is the index through existing primorial expansions\n",
    "    # i is the index through admissible residues at this stage\n",
    "        \n",
    "    while (iprefix < num_prefixes):\n",
    "        # calculate r0 mod pk\n",
    "        j = 1\n",
    "        r0 = gammam_list[iprefix][0] % pk\n",
    "        rpml = 2310 % pk  # initialize this factor at 11#\n",
    "        while (j < k):  # the expansion for r nests from right to left\n",
    "            r0 = (r0 + gammam_list[iprefix][j] * rpml) % pk\n",
    "            rpml = (rpml * smallp[j+4]) % pk\n",
    "            j += 1\n",
    "\n",
    "        # extend the first copy in place\n",
    "        # save the prefix\n",
    "        gamma_start = list(gammam_list[iprefix].copy())\n",
    "        # calculate next primorial coefficient mk\n",
    "        target_residue = list(rezlist[k])[0]\n",
    "        mk = primorialm(k,target_residue,r0)\n",
    "        (gammam_list[iprefix]).append(mk)\n",
    "\n",
    "        # print(f\"Initial k {k} p {smallp[k+4]} i {iprefix} targetr {target_residue} r0 {r0} length {len(gammam_list[iprefix])}\")\n",
    "        \n",
    "        i=1\n",
    "        while (i < num_admissible[k]):\n",
    "            icopy = len(gammam_list)\n",
    "            gammam_list.append(gamma_start.copy())  # icopy is the index for this copy\n",
    "            target_residue = list(rezlist[k])[i]\n",
    "            mk = primorialm(k,target_residue,r0)\n",
    "            (gammam_list[icopy]).append(mk)\n",
    "            # print(f\"Copy {icopy} k {k} p {smallp[k+4]} i {iprefix} {i} targetr {target_residue} r0 {r0} length {len(gammam_list[icopy])}\")\n",
    "\n",
    "            i += 1\n",
    "\n",
    "        iprefix += 1\n",
    "\n",
    "    k += 1"
   ]
  },
  {
   "cell_type": "code",
   "execution_count": 28,
   "id": "926cd0d5-912c-4ff6-a428-cc30d7bfeb15",
   "metadata": {},
   "outputs": [
    {
     "name": "stdout",
     "output_type": "stream",
     "text": [
      "  0: 1271  5  8  9 17 21 29 13  2  8  0 32 45 47 27 28 27 24  0  9 15 68 100 53 45  7 24  5  6  3 28 131 24 149 23 162 11 \n",
      "  1: 1271  5  8  9 17 21 29 13  2  8  0 32 45 47 27 28 27 24  0  9 15 68 100 53 45  7 24  5 55 97 73 134 32 143 162 21 149 \n",
      "  2: 1271  5  8  9 17 21 29 13  2  8  0 32 45 47 27 28 27 24  0  9 15 68 100 53 45  7 24  5  6 124 55 108 49 82 15 116 113 \n",
      "  3: 1271  5  8  9 17 21 29 13  2  8  0 32 45 47 27 28 27 24  0  9 15 68 100 53 45  7 24  5 55 79 101 111 57 76 154 148 71 \n",
      "  4: 1271  5  8  9 17 21 29 13  2  8  0 32 45 47 27 28 27 24  0  9 15 68 100 53 45  7 24  5  6  3 28 131 107 27 28 119 115 \n",
      "  5: 1271  5  8  9 17 21 29 13  2  8  0 32 45 47 27 28 27 24  0  9 15 68 100 53 45  7 24  5  6  3 28 131 53 18 144 115 123 \n",
      "  6: 1271  5  8  9 17 21 29 13  2  8  0 32 45 47 27 28 27 24  0  9 15 68 100 53 45  7 24  5 55 97 73 134 115 21  0 152 73 \n",
      "  7: 1271  5  8  9 17 21 29 13  2  8  0 32 45 47 27 28 27 24  0  9 15 68 100 53 45  7 24  5 55 97 73 134 61 12 116 148 81 \n",
      "  8: 1271  5  8  9 17 21 29 13  2  8  0 32 45 47 27 28 27 24  0  9 15 68 100 53 45  7 24  5  6 124 55 108 132 123 19 73 38 \n",
      "  9: 1271  5  8  9 17 21 29 13  2  8  0 32 45 47 27 28 27 24  0  9 15 68 100 53 45  7 24  5  6 124 55 108 78 114 135 69 46 \n",
      " 10: 1271  5  8  9 17 21 29 13  2  8  0 32 45 47 27 28 27 24  0  9 15 68 100 53 45  7 24  5 55 79 101 111 140 117 158 105 175 \n",
      " 11: 1271  5  8  9 17 21 29 13  2  8  0 32 45 47 27 28 27 24  0  9 15 68 100 53 45  7 24  5 55 79 101 111 86 108 107 102  4 \n",
      " 12: 1271  5  8  9 17 21 29 13  2  8  0 32 45 47 27 28 27 24  0  9 15 68 100 53 45  7 24  5  6  3 28 131 24 149 153 126 38 \n",
      " 13: 1271  5  8  9 17 21 29 13  2  8  0 32 45 47 27 28 27 24  0  9 15 68 100 53 45  7 24  5 55 97 73 134 32 143 125 159 175 \n",
      " 14: 1271  5  8  9 17 21 29 13  2  8  0 32 45 47 27 28 27 24  0  9 15 68 100 53 45  7 24  5  6 124 55 108 49 82 145 80 140 \n",
      " 15: 1271  5  8  9 17 21 29 13  2  8  0 32 45 47 27 28 27 24  0  9 15 68 100 53 45  7 24  5 55 79 101 111 57 76 117 113 98 \n",
      " 16: 1271  5  8  9 17 21 29 13  2  8  0 32 45 47 27 28 27 24  0  9 15 68 100 53 45  7 24  5  6  3 28 131 107 27 158 83 142 \n",
      " 17: 1271  5  8  9 17 21 29 13  2  8  0 32 45 47 27 28 27 24  0  9 15 68 100 53 45  7 24  5  6  3 28 131 53 18 107 80 150 \n",
      " 18: 1271  5  8  9 17 21 29 13  2  8  0 32 45 47 27 28 27 24  0  9 15 68 100 53 45  7 24  5 55 97 73 134 115 21 130 116 100 \n",
      " 19: 1271  5  8  9 17 21 29 13  2  8  0 32 45 47 27 28 27 24  0  9 15 68 100 53 45  7 24  5 55 97 73 134 61 12 79 113 108 \n",
      " 20: 1271  5  8  9 17 21 29 13  2  8  0 32 45 47 27 28 27 24  0  9 15 68 100 53 45  7 24  5  6 124 55 108 132 123 149 37 65 \n",
      " 21: 1271  5  8  9 17 21 29 13  2  8  0 32 45 47 27 28 27 24  0  9 15 68 100 53 45  7 24  5  6 124 55 108 78 114 98 34 73 \n",
      " 22: 1271  5  8  9 17 21 29 13  2  8  0 32 45 47 27 28 27 24  0  9 15 68 100 53 45  7 24  5 55 79 101 111 140 117 121 70 23 \n",
      " 23: 1271  5  8  9 17 21 29 13  2  8  0 32 45 47 27 28 27 24  0  9 15 68 100 53 45  7 24  5 55 79 101 111 86 108 70 67 31 \n",
      " 24: 1271  5  8  9 17 21 29 13  2  8  0 32 45 47 27 28 27 24  0  9 15 68 100 53 45  7 24  5  6  3 28 131 24 149 23 78 176 \n",
      " 25: 1271  5  8  9 17 21 29 13  2  8  0 32 45 47 27 28 27 24  0  9 15 68 100 53 45  7 24  5 55 97 73 134 32 143 162 110 134 \n",
      " 26: 1271  5  8  9 17 21 29 13  2  8  0 32 45 47 27 28 27 24  0  9 15 68 100 53 45  7 24  5  6 124 55 108 49 82 15 32 99 \n",
      " 27: 1271  5  8  9 17 21 29 13  2  8  0 32 45 47 27 28 27 24  0  9 15 68 100 53 45  7 24  5 55 79 101 111 57 76 154 64 57 \n",
      " 28: 1271  5  8  9 17 21 29 13  2  8  0 32 45 47 27 28 27 24  0  9 15 68 100 53 45  7 24  5  6  3 28 131 107 27 28 35 101 \n",
      " 29: 1271  5  8  9 17 21 29 13  2  8  0 32 45 47 27 28 27 24  0  9 15 68 100 53 45  7 24  5  6  3 28 131 53 18 144 31 109 \n",
      " 30: 1271  5  8  9 17 21 29 13  2  8  0 32 45 47 27 28 27 24  0  9 15 68 100 53 45  7 24  5 55 97 73 134 115 21  0 68 59 \n",
      " 31: 1271  5  8  9 17 21 29 13  2  8  0 32 45 47 27 28 27 24  0  9 15 68 100 53 45  7 24  5 55 97 73 134 61 12 116 64 67 \n",
      " 32: 1271  5  8  9 17 21 29 13  2  8  0 32 45 47 27 28 27 24  0  9 15 68 100 53 45  7 24  5  6 124 55 108 132 123 19 162 23 \n",
      " 33: 1271  5  8  9 17 21 29 13  2  8  0 32 45 47 27 28 27 24  0  9 15 68 100 53 45  7 24  5  6 124 55 108 78 114 135 158 31 \n",
      " 34: 1271  5  8  9 17 21 29 13  2  8  0 32 45 47 27 28 27 24  0  9 15 68 100 53 45  7 24  5 55 79 101 111 140 117 158 21 161 \n",
      " 35: 1271  5  8  9 17 21 29 13  2  8  0 32 45 47 27 28 27 24  0  9 15 68 100 53 45  7 24  5 55 79 101 111 86 108 107 18 169 \n",
      " 36: 1271  5  8  9 17 21 29 13  2  8  0 32 45 47 27 28 27 24  0  9 15 68 100 53 45  7 24  5  6  3 28 131 24 149 153 42 24 \n",
      " 37: 1271  5  8  9 17 21 29 13  2  8  0 32 45 47 27 28 27 24  0  9 15 68 100 53 45  7 24  5 55 97 73 134 32 143 125 75 161 \n",
      " 38: 1271  5  8  9 17 21 29 13  2  8  0 32 45 47 27 28 27 24  0  9 15 68 100 53 45  7 24  5  6 124 55 108 49 82 145 169 125 \n",
      " 39: 1271  5  8  9 17 21 29 13  2  8  0 32 45 47 27 28 27 24  0  9 15 68 100 53 45  7 24  5 55 79 101 111 57 76 117 29 84 \n",
      " 40: 1271  5  8  9 17 21 29 13  2  8  0 32 45 47 27 28 27 24  0  9 15 68 100 53 45  7 24  5  6  3 28 131 107 27 158 172 127 \n",
      " 41: 1271  5  8  9 17 21 29 13  2  8  0 32 45 47 27 28 27 24  0  9 15 68 100 53 45  7 24  5  6  3 28 131 53 18 107 169 135 \n",
      " 42: 1271  5  8  9 17 21 29 13  2  8  0 32 45 47 27 28 27 24  0  9 15 68 100 53 45  7 24  5 55 97 73 134 115 21 130 32 86 \n",
      " 43: 1271  5  8  9 17 21 29 13  2  8  0 32 45 47 27 28 27 24  0  9 15 68 100 53 45  7 24  5 55 97 73 134 61 12 79 29 94 \n",
      " 44: 1271  5  8  9 17 21 29 13  2  8  0 32 45 47 27 28 27 24  0  9 15 68 100 53 45  7 24  5  6 124 55 108 132 123 149 126 50 \n",
      " 45: 1271  5  8  9 17 21 29 13  2  8  0 32 45 47 27 28 27 24  0  9 15 68 100 53 45  7 24  5  6 124 55 108 78 114 98 123 58 \n",
      " 46: 1271  5  8  9 17 21 29 13  2  8  0 32 45 47 27 28 27 24  0  9 15 68 100 53 45  7 24  5 55 79 101 111 140 117 121 159  8 \n",
      " 47: 1271  5  8  9 17 21 29 13  2  8  0 32 45 47 27 28 27 24  0  9 15 68 100 53 45  7 24  5 55 79 101 111 86 108 70 156 16 \n",
      " 48: 1271  5  8  9 17 21 29 13  2  8  0 32 45 47 27 28 27 24  0  9 15 68 100 53 45  7 24  5  6  3 28 131 24 149 23 162  6 \n",
      " 49: 1271  5  8  9 17 21 29 13  2  8  0 32 45 47 27 28 27 24  0  9 15 68 100 53 45  7 24  5  6  3 28 131 24 149 23 162 173 \n",
      " 50: 1271  5  8  9 17 21 29 13  2  8  0 32 45 47 27 28 27 24  0  9 15 68 100 53 45  7 24  5  6  3 28 131 24 149 23 162 26 \n",
      " 51: 1271  5  8  9 17 21 29 13  2  8  0 32 45 47 27 28 27 24  0  9 15 68 100 53 45  7 24  5  6  3 28 131 24 149 23 162 73 \n",
      " 52: 1271  5  8  9 17 21 29 13  2  8  0 32 45 47 27 28 27 24  0  9 15 68 100 53 45  7 24  5 55 97 73 134 32 143 162 21 144 \n",
      " 53: 1271  5  8  9 17 21 29 13  2  8  0 32 45 47 27 28 27 24  0  9 15 68 100 53 45  7 24  5 55 97 73 134 32 143 162 21 132 \n",
      " 54: 1271  5  8  9 17 21 29 13  2  8  0 32 45 47 27 28 27 24  0  9 15 68 100 53 45  7 24  5 55 97 73 134 32 143 162 21 164 \n",
      " 55: 1271  5  8  9 17 21 29 13  2  8  0 32 45 47 27 28 27 24  0  9 15 68 100 53 45  7 24  5 55 97 73 134 32 143 162 21 32 \n",
      " 56: 1271  5  8  9 17 21 29 13  2  8  0 32 45 47 27 28 27 24  0  9 15 68 100 53 45  7 24  5  6 124 55 108 49 82 15 116 108 \n",
      " 57: 1271  5  8  9 17 21 29 13  2  8  0 32 45 47 27 28 27 24  0  9 15 68 100 53 45  7 24  5  6 124 55 108 49 82 15 116 96 \n",
      " 58: 1271  5  8  9 17 21 29 13  2  8  0 32 45 47 27 28 27 24  0  9 15 68 100 53 45  7 24  5  6 124 55 108 49 82 15 116 128 \n",
      " 59: 1271  5  8  9 17 21 29 13  2  8  0 32 45 47 27 28 27 24  0  9 15 68 100 53 45  7 24  5  6 124 55 108 49 82 15 116 175 \n",
      " 60: 1271  5  8  9 17 21 29 13  2  8  0 32 45 47 27 28 27 24  0  9 15 68 100 53 45  7 24  5 55 79 101 111 57 76 154 148 66 \n",
      " 61: 1271  5  8  9 17 21 29 13  2  8  0 32 45 47 27 28 27 24  0  9 15 68 100 53 45  7 24  5 55 79 101 111 57 76 154 148 54 \n",
      " 62: 1271  5  8  9 17 21 29 13  2  8  0 32 45 47 27 28 27 24  0  9 15 68 100 53 45  7 24  5 55 79 101 111 57 76 154 148 86 \n",
      " 63: 1271  5  8  9 17 21 29 13  2  8  0 32 45 47 27 28 27 24  0  9 15 68 100 53 45  7 24  5 55 79 101 111 57 76 154 148 133 \n",
      " 64: 1271  5  8  9 17 21 29 13  2  8  0 32 45 47 27 28 27 24  0  9 15 68 100 53 45  7 24  5  6  3 28 131 107 27 28 119 110 \n",
      " 65: 1271  5  8  9 17 21 29 13  2  8  0 32 45 47 27 28 27 24  0  9 15 68 100 53 45  7 24  5  6  3 28 131 107 27 28 119 98 \n",
      " 66: 1271  5  8  9 17 21 29 13  2  8  0 32 45 47 27 28 27 24  0  9 15 68 100 53 45  7 24  5  6  3 28 131 107 27 28 119 130 \n",
      " 67: 1271  5  8  9 17 21 29 13  2  8  0 32 45 47 27 28 27 24  0  9 15 68 100 53 45  7 24  5  6  3 28 131 107 27 28 119 177 \n",
      " 68: 1271  5  8  9 17 21 29 13  2  8  0 32 45 47 27 28 27 24  0  9 15 68 100 53 45  7 24  5  6  3 28 131 53 18 144 115 118 \n",
      " 69: 1271  5  8  9 17 21 29 13  2  8  0 32 45 47 27 28 27 24  0  9 15 68 100 53 45  7 24  5  6  3 28 131 53 18 144 115 106 \n",
      " 70: 1271  5  8  9 17 21 29 13  2  8  0 32 45 47 27 28 27 24  0  9 15 68 100 53 45  7 24  5  6  3 28 131 53 18 144 115 138 \n",
      " 71: 1271  5  8  9 17 21 29 13  2  8  0 32 45 47 27 28 27 24  0  9 15 68 100 53 45  7 24  5  6  3 28 131 53 18 144 115  6 \n",
      " 72: 1271  5  8  9 17 21 29 13  2  8  0 32 45 47 27 28 27 24  0  9 15 68 100 53 45  7 24  5 55 97 73 134 115 21  0 152 68 \n",
      " 73: 1271  5  8  9 17 21 29 13  2  8  0 32 45 47 27 28 27 24  0  9 15 68 100 53 45  7 24  5 55 97 73 134 115 21  0 152 56 \n",
      " 74: 1271  5  8  9 17 21 29 13  2  8  0 32 45 47 27 28 27 24  0  9 15 68 100 53 45  7 24  5 55 97 73 134 115 21  0 152 88 \n",
      " 75: 1271  5  8  9 17 21 29 13  2  8  0 32 45 47 27 28 27 24  0  9 15 68 100 53 45  7 24  5 55 97 73 134 115 21  0 152 135 \n",
      " 76: 1271  5  8  9 17 21 29 13  2  8  0 32 45 47 27 28 27 24  0  9 15 68 100 53 45  7 24  5 55 97 73 134 61 12 116 148 76 \n",
      " 77: 1271  5  8  9 17 21 29 13  2  8  0 32 45 47 27 28 27 24  0  9 15 68 100 53 45  7 24  5 55 97 73 134 61 12 116 148 64 \n",
      " 78: 1271  5  8  9 17 21 29 13  2  8  0 32 45 47 27 28 27 24  0  9 15 68 100 53 45  7 24  5 55 97 73 134 61 12 116 148 96 \n",
      " 79: 1271  5  8  9 17 21 29 13  2  8  0 32 45 47 27 28 27 24  0  9 15 68 100 53 45  7 24  5 55 97 73 134 61 12 116 148 143 \n",
      " 80: 1271  5  8  9 17 21 29 13  2  8  0 32 45 47 27 28 27 24  0  9 15 68 100 53 45  7 24  5  6 124 55 108 132 123 19 73 33 \n",
      " 81: 1271  5  8  9 17 21 29 13  2  8  0 32 45 47 27 28 27 24  0  9 15 68 100 53 45  7 24  5  6 124 55 108 132 123 19 73 21 \n",
      " 82: 1271  5  8  9 17 21 29 13  2  8  0 32 45 47 27 28 27 24  0  9 15 68 100 53 45  7 24  5  6 124 55 108 132 123 19 73 53 \n",
      " 83: 1271  5  8  9 17 21 29 13  2  8  0 32 45 47 27 28 27 24  0  9 15 68 100 53 45  7 24  5  6 124 55 108 132 123 19 73 100 \n",
      " 84: 1271  5  8  9 17 21 29 13  2  8  0 32 45 47 27 28 27 24  0  9 15 68 100 53 45  7 24  5  6 124 55 108 78 114 135 69 41 \n",
      " 85: 1271  5  8  9 17 21 29 13  2  8  0 32 45 47 27 28 27 24  0  9 15 68 100 53 45  7 24  5  6 124 55 108 78 114 135 69 29 \n",
      " 86: 1271  5  8  9 17 21 29 13  2  8  0 32 45 47 27 28 27 24  0  9 15 68 100 53 45  7 24  5  6 124 55 108 78 114 135 69 61 \n",
      " 87: 1271  5  8  9 17 21 29 13  2  8  0 32 45 47 27 28 27 24  0  9 15 68 100 53 45  7 24  5  6 124 55 108 78 114 135 69 108 \n",
      " 88: 1271  5  8  9 17 21 29 13  2  8  0 32 45 47 27 28 27 24  0  9 15 68 100 53 45  7 24  5 55 79 101 111 140 117 158 105 170 \n",
      " 89: 1271  5  8  9 17 21 29 13  2  8  0 32 45 47 27 28 27 24  0  9 15 68 100 53 45  7 24  5 55 79 101 111 140 117 158 105 158 \n",
      " 90: 1271  5  8  9 17 21 29 13  2  8  0 32 45 47 27 28 27 24  0  9 15 68 100 53 45  7 24  5 55 79 101 111 140 117 158 105 11 \n",
      " 91: 1271  5  8  9 17 21 29 13  2  8  0 32 45 47 27 28 27 24  0  9 15 68 100 53 45  7 24  5 55 79 101 111 140 117 158 105 58 \n",
      " 92: 1271  5  8  9 17 21 29 13  2  8  0 32 45 47 27 28 27 24  0  9 15 68 100 53 45  7 24  5 55 79 101 111 86 108 107 102 178 \n",
      " 93: 1271  5  8  9 17 21 29 13  2  8  0 32 45 47 27 28 27 24  0  9 15 68 100 53 45  7 24  5 55 79 101 111 86 108 107 102 166 \n",
      " 94: 1271  5  8  9 17 21 29 13  2  8  0 32 45 47 27 28 27 24  0  9 15 68 100 53 45  7 24  5 55 79 101 111 86 108 107 102 19 \n",
      " 95: 1271  5  8  9 17 21 29 13  2  8  0 32 45 47 27 28 27 24  0  9 15 68 100 53 45  7 24  5 55 79 101 111 86 108 107 102 66 \n",
      " 96: 1271  5  8  9 17 21 29 13  2  8  0 32 45 47 27 28 27 24  0  9 15 68 100 53 45  7 24  5  6  3 28 131 24 149 153 126 33 \n",
      " 97: 1271  5  8  9 17 21 29 13  2  8  0 32 45 47 27 28 27 24  0  9 15 68 100 53 45  7 24  5  6  3 28 131 24 149 153 126 21 \n",
      " 98: 1271  5  8  9 17 21 29 13  2  8  0 32 45 47 27 28 27 24  0  9 15 68 100 53 45  7 24  5  6  3 28 131 24 149 153 126 53 \n",
      " 99: 1271  5  8  9 17 21 29 13  2  8  0 32 45 47 27 28 27 24  0  9 15 68 100 53 45  7 24  5  6  3 28 131 24 149 153 126 100 \n",
      "100: 1271  5  8  9 17 21 29 13  2  8  0 32 45 47 27 28 27 24  0  9 15 68 100 53 45  7 24  5 55 97 73 134 32 143 125 159 170 \n",
      "101: 1271  5  8  9 17 21 29 13  2  8  0 32 45 47 27 28 27 24  0  9 15 68 100 53 45  7 24  5 55 97 73 134 32 143 125 159 158 \n",
      "102: 1271  5  8  9 17 21 29 13  2  8  0 32 45 47 27 28 27 24  0  9 15 68 100 53 45  7 24  5 55 97 73 134 32 143 125 159 11 \n",
      "103: 1271  5  8  9 17 21 29 13  2  8  0 32 45 47 27 28 27 24  0  9 15 68 100 53 45  7 24  5 55 97 73 134 32 143 125 159 58 \n",
      "104: 1271  5  8  9 17 21 29 13  2  8  0 32 45 47 27 28 27 24  0  9 15 68 100 53 45  7 24  5  6 124 55 108 49 82 145 80 135 \n",
      "105: 1271  5  8  9 17 21 29 13  2  8  0 32 45 47 27 28 27 24  0  9 15 68 100 53 45  7 24  5  6 124 55 108 49 82 145 80 123 \n",
      "106: 1271  5  8  9 17 21 29 13  2  8  0 32 45 47 27 28 27 24  0  9 15 68 100 53 45  7 24  5  6 124 55 108 49 82 145 80 155 \n",
      "107: 1271  5  8  9 17 21 29 13  2  8  0 32 45 47 27 28 27 24  0  9 15 68 100 53 45  7 24  5  6 124 55 108 49 82 145 80 23 \n",
      "108: 1271  5  8  9 17 21 29 13  2  8  0 32 45 47 27 28 27 24  0  9 15 68 100 53 45  7 24  5 55 79 101 111 57 76 117 113 93 \n",
      "109: 1271  5  8  9 17 21 29 13  2  8  0 32 45 47 27 28 27 24  0  9 15 68 100 53 45  7 24  5 55 79 101 111 57 76 117 113 81 \n",
      "110: 1271  5  8  9 17 21 29 13  2  8  0 32 45 47 27 28 27 24  0  9 15 68 100 53 45  7 24  5 55 79 101 111 57 76 117 113 113 \n",
      "111: 1271  5  8  9 17 21 29 13  2  8  0 32 45 47 27 28 27 24  0  9 15 68 100 53 45  7 24  5 55 79 101 111 57 76 117 113 160 \n",
      "112: 1271  5  8  9 17 21 29 13  2  8  0 32 45 47 27 28 27 24  0  9 15 68 100 53 45  7 24  5  6  3 28 131 107 27 158 83 137 \n",
      "113: 1271  5  8  9 17 21 29 13  2  8  0 32 45 47 27 28 27 24  0  9 15 68 100 53 45  7 24  5  6  3 28 131 107 27 158 83 125 \n",
      "114: 1271  5  8  9 17 21 29 13  2  8  0 32 45 47 27 28 27 24  0  9 15 68 100 53 45  7 24  5  6  3 28 131 107 27 158 83 157 \n",
      "115: 1271  5  8  9 17 21 29 13  2  8  0 32 45 47 27 28 27 24  0  9 15 68 100 53 45  7 24  5  6  3 28 131 107 27 158 83 25 \n",
      "116: 1271  5  8  9 17 21 29 13  2  8  0 32 45 47 27 28 27 24  0  9 15 68 100 53 45  7 24  5  6  3 28 131 53 18 107 80 145 \n",
      "117: 1271  5  8  9 17 21 29 13  2  8  0 32 45 47 27 28 27 24  0  9 15 68 100 53 45  7 24  5  6  3 28 131 53 18 107 80 133 \n",
      "118: 1271  5  8  9 17 21 29 13  2  8  0 32 45 47 27 28 27 24  0  9 15 68 100 53 45  7 24  5  6  3 28 131 53 18 107 80 165 \n",
      "119: 1271  5  8  9 17 21 29 13  2  8  0 32 45 47 27 28 27 24  0  9 15 68 100 53 45  7 24  5  6  3 28 131 53 18 107 80 33 \n",
      "120: 1271  5  8  9 17 21 29 13  2  8  0 32 45 47 27 28 27 24  0  9 15 68 100 53 45  7 24  5 55 97 73 134 115 21 130 116 95 \n",
      "121: 1271  5  8  9 17 21 29 13  2  8  0 32 45 47 27 28 27 24  0  9 15 68 100 53 45  7 24  5 55 97 73 134 115 21 130 116 83 \n",
      "122: 1271  5  8  9 17 21 29 13  2  8  0 32 45 47 27 28 27 24  0  9 15 68 100 53 45  7 24  5 55 97 73 134 115 21 130 116 115 \n",
      "123: 1271  5  8  9 17 21 29 13  2  8  0 32 45 47 27 28 27 24  0  9 15 68 100 53 45  7 24  5 55 97 73 134 115 21 130 116 162 \n",
      "124: 1271  5  8  9 17 21 29 13  2  8  0 32 45 47 27 28 27 24  0  9 15 68 100 53 45  7 24  5 55 97 73 134 61 12 79 113 103 \n",
      "125: 1271  5  8  9 17 21 29 13  2  8  0 32 45 47 27 28 27 24  0  9 15 68 100 53 45  7 24  5 55 97 73 134 61 12 79 113 91 \n",
      "126: 1271  5  8  9 17 21 29 13  2  8  0 32 45 47 27 28 27 24  0  9 15 68 100 53 45  7 24  5 55 97 73 134 61 12 79 113 123 \n",
      "127: 1271  5  8  9 17 21 29 13  2  8  0 32 45 47 27 28 27 24  0  9 15 68 100 53 45  7 24  5 55 97 73 134 61 12 79 113 170 \n",
      "128: 1271  5  8  9 17 21 29 13  2  8  0 32 45 47 27 28 27 24  0  9 15 68 100 53 45  7 24  5  6 124 55 108 132 123 149 37 60 \n",
      "129: 1271  5  8  9 17 21 29 13  2  8  0 32 45 47 27 28 27 24  0  9 15 68 100 53 45  7 24  5  6 124 55 108 132 123 149 37 48 \n",
      "130: 1271  5  8  9 17 21 29 13  2  8  0 32 45 47 27 28 27 24  0  9 15 68 100 53 45  7 24  5  6 124 55 108 132 123 149 37 80 \n",
      "131: 1271  5  8  9 17 21 29 13  2  8  0 32 45 47 27 28 27 24  0  9 15 68 100 53 45  7 24  5  6 124 55 108 132 123 149 37 127 \n",
      "132: 1271  5  8  9 17 21 29 13  2  8  0 32 45 47 27 28 27 24  0  9 15 68 100 53 45  7 24  5  6 124 55 108 78 114 98 34 68 \n",
      "133: 1271  5  8  9 17 21 29 13  2  8  0 32 45 47 27 28 27 24  0  9 15 68 100 53 45  7 24  5  6 124 55 108 78 114 98 34 56 \n",
      "134: 1271  5  8  9 17 21 29 13  2  8  0 32 45 47 27 28 27 24  0  9 15 68 100 53 45  7 24  5  6 124 55 108 78 114 98 34 88 \n",
      "135: 1271  5  8  9 17 21 29 13  2  8  0 32 45 47 27 28 27 24  0  9 15 68 100 53 45  7 24  5  6 124 55 108 78 114 98 34 135 \n",
      "136: 1271  5  8  9 17 21 29 13  2  8  0 32 45 47 27 28 27 24  0  9 15 68 100 53 45  7 24  5 55 79 101 111 140 117 121 70 18 \n",
      "137: 1271  5  8  9 17 21 29 13  2  8  0 32 45 47 27 28 27 24  0  9 15 68 100 53 45  7 24  5 55 79 101 111 140 117 121 70  6 \n",
      "138: 1271  5  8  9 17 21 29 13  2  8  0 32 45 47 27 28 27 24  0  9 15 68 100 53 45  7 24  5 55 79 101 111 140 117 121 70 38 \n",
      "139: 1271  5  8  9 17 21 29 13  2  8  0 32 45 47 27 28 27 24  0  9 15 68 100 53 45  7 24  5 55 79 101 111 140 117 121 70 85 \n",
      "140: 1271  5  8  9 17 21 29 13  2  8  0 32 45 47 27 28 27 24  0  9 15 68 100 53 45  7 24  5 55 79 101 111 86 108 70 67 26 \n",
      "141: 1271  5  8  9 17 21 29 13  2  8  0 32 45 47 27 28 27 24  0  9 15 68 100 53 45  7 24  5 55 79 101 111 86 108 70 67 14 \n",
      "142: 1271  5  8  9 17 21 29 13  2  8  0 32 45 47 27 28 27 24  0  9 15 68 100 53 45  7 24  5 55 79 101 111 86 108 70 67 46 \n",
      "143: 1271  5  8  9 17 21 29 13  2  8  0 32 45 47 27 28 27 24  0  9 15 68 100 53 45  7 24  5 55 79 101 111 86 108 70 67 93 \n",
      "144: 1271  5  8  9 17 21 29 13  2  8  0 32 45 47 27 28 27 24  0  9 15 68 100 53 45  7 24  5  6  3 28 131 24 149 23 78 171 \n",
      "145: 1271  5  8  9 17 21 29 13  2  8  0 32 45 47 27 28 27 24  0  9 15 68 100 53 45  7 24  5  6  3 28 131 24 149 23 78 159 \n",
      "146: 1271  5  8  9 17 21 29 13  2  8  0 32 45 47 27 28 27 24  0  9 15 68 100 53 45  7 24  5  6  3 28 131 24 149 23 78 12 \n",
      "147: 1271  5  8  9 17 21 29 13  2  8  0 32 45 47 27 28 27 24  0  9 15 68 100 53 45  7 24  5  6  3 28 131 24 149 23 78 59 \n",
      "148: 1271  5  8  9 17 21 29 13  2  8  0 32 45 47 27 28 27 24  0  9 15 68 100 53 45  7 24  5 55 97 73 134 32 143 162 110 129 \n",
      "149: 1271  5  8  9 17 21 29 13  2  8  0 32 45 47 27 28 27 24  0  9 15 68 100 53 45  7 24  5 55 97 73 134 32 143 162 110 117 \n",
      "150: 1271  5  8  9 17 21 29 13  2  8  0 32 45 47 27 28 27 24  0  9 15 68 100 53 45  7 24  5 55 97 73 134 32 143 162 110 149 \n",
      "151: 1271  5  8  9 17 21 29 13  2  8  0 32 45 47 27 28 27 24  0  9 15 68 100 53 45  7 24  5 55 97 73 134 32 143 162 110 17 \n",
      "152: 1271  5  8  9 17 21 29 13  2  8  0 32 45 47 27 28 27 24  0  9 15 68 100 53 45  7 24  5  6 124 55 108 49 82 15 32 94 \n",
      "153: 1271  5  8  9 17 21 29 13  2  8  0 32 45 47 27 28 27 24  0  9 15 68 100 53 45  7 24  5  6 124 55 108 49 82 15 32 82 \n",
      "154: 1271  5  8  9 17 21 29 13  2  8  0 32 45 47 27 28 27 24  0  9 15 68 100 53 45  7 24  5  6 124 55 108 49 82 15 32 114 \n",
      "155: 1271  5  8  9 17 21 29 13  2  8  0 32 45 47 27 28 27 24  0  9 15 68 100 53 45  7 24  5  6 124 55 108 49 82 15 32 161 \n",
      "156: 1271  5  8  9 17 21 29 13  2  8  0 32 45 47 27 28 27 24  0  9 15 68 100 53 45  7 24  5 55 79 101 111 57 76 154 64 52 \n",
      "157: 1271  5  8  9 17 21 29 13  2  8  0 32 45 47 27 28 27 24  0  9 15 68 100 53 45  7 24  5 55 79 101 111 57 76 154 64 40 \n",
      "158: 1271  5  8  9 17 21 29 13  2  8  0 32 45 47 27 28 27 24  0  9 15 68 100 53 45  7 24  5 55 79 101 111 57 76 154 64 72 \n",
      "159: 1271  5  8  9 17 21 29 13  2  8  0 32 45 47 27 28 27 24  0  9 15 68 100 53 45  7 24  5 55 79 101 111 57 76 154 64 119 \n",
      "160: 1271  5  8  9 17 21 29 13  2  8  0 32 45 47 27 28 27 24  0  9 15 68 100 53 45  7 24  5  6  3 28 131 107 27 28 35 96 \n",
      "161: 1271  5  8  9 17 21 29 13  2  8  0 32 45 47 27 28 27 24  0  9 15 68 100 53 45  7 24  5  6  3 28 131 107 27 28 35 84 \n",
      "162: 1271  5  8  9 17 21 29 13  2  8  0 32 45 47 27 28 27 24  0  9 15 68 100 53 45  7 24  5  6  3 28 131 107 27 28 35 116 \n",
      "163: 1271  5  8  9 17 21 29 13  2  8  0 32 45 47 27 28 27 24  0  9 15 68 100 53 45  7 24  5  6  3 28 131 107 27 28 35 163 \n",
      "164: 1271  5  8  9 17 21 29 13  2  8  0 32 45 47 27 28 27 24  0  9 15 68 100 53 45  7 24  5  6  3 28 131 53 18 144 31 104 \n",
      "165: 1271  5  8  9 17 21 29 13  2  8  0 32 45 47 27 28 27 24  0  9 15 68 100 53 45  7 24  5  6  3 28 131 53 18 144 31 92 \n",
      "166: 1271  5  8  9 17 21 29 13  2  8  0 32 45 47 27 28 27 24  0  9 15 68 100 53 45  7 24  5  6  3 28 131 53 18 144 31 124 \n",
      "167: 1271  5  8  9 17 21 29 13  2  8  0 32 45 47 27 28 27 24  0  9 15 68 100 53 45  7 24  5  6  3 28 131 53 18 144 31 171 \n",
      "168: 1271  5  8  9 17 21 29 13  2  8  0 32 45 47 27 28 27 24  0  9 15 68 100 53 45  7 24  5 55 97 73 134 115 21  0 68 54 \n",
      "169: 1271  5  8  9 17 21 29 13  2  8  0 32 45 47 27 28 27 24  0  9 15 68 100 53 45  7 24  5 55 97 73 134 115 21  0 68 42 \n",
      "170: 1271  5  8  9 17 21 29 13  2  8  0 32 45 47 27 28 27 24  0  9 15 68 100 53 45  7 24  5 55 97 73 134 115 21  0 68 74 \n",
      "171: 1271  5  8  9 17 21 29 13  2  8  0 32 45 47 27 28 27 24  0  9 15 68 100 53 45  7 24  5 55 97 73 134 115 21  0 68 121 \n",
      "172: 1271  5  8  9 17 21 29 13  2  8  0 32 45 47 27 28 27 24  0  9 15 68 100 53 45  7 24  5 55 97 73 134 61 12 116 64 62 \n",
      "173: 1271  5  8  9 17 21 29 13  2  8  0 32 45 47 27 28 27 24  0  9 15 68 100 53 45  7 24  5 55 97 73 134 61 12 116 64 50 \n",
      "174: 1271  5  8  9 17 21 29 13  2  8  0 32 45 47 27 28 27 24  0  9 15 68 100 53 45  7 24  5 55 97 73 134 61 12 116 64 82 \n",
      "175: 1271  5  8  9 17 21 29 13  2  8  0 32 45 47 27 28 27 24  0  9 15 68 100 53 45  7 24  5 55 97 73 134 61 12 116 64 129 \n",
      "176: 1271  5  8  9 17 21 29 13  2  8  0 32 45 47 27 28 27 24  0  9 15 68 100 53 45  7 24  5  6 124 55 108 132 123 19 162 18 \n",
      "177: 1271  5  8  9 17 21 29 13  2  8  0 32 45 47 27 28 27 24  0  9 15 68 100 53 45  7 24  5  6 124 55 108 132 123 19 162  6 \n",
      "178: 1271  5  8  9 17 21 29 13  2  8  0 32 45 47 27 28 27 24  0  9 15 68 100 53 45  7 24  5  6 124 55 108 132 123 19 162 38 \n",
      "179: 1271  5  8  9 17 21 29 13  2  8  0 32 45 47 27 28 27 24  0  9 15 68 100 53 45  7 24  5  6 124 55 108 132 123 19 162 85 \n",
      "180: 1271  5  8  9 17 21 29 13  2  8  0 32 45 47 27 28 27 24  0  9 15 68 100 53 45  7 24  5  6 124 55 108 78 114 135 158 26 \n",
      "181: 1271  5  8  9 17 21 29 13  2  8  0 32 45 47 27 28 27 24  0  9 15 68 100 53 45  7 24  5  6 124 55 108 78 114 135 158 14 \n",
      "182: 1271  5  8  9 17 21 29 13  2  8  0 32 45 47 27 28 27 24  0  9 15 68 100 53 45  7 24  5  6 124 55 108 78 114 135 158 46 \n",
      "183: 1271  5  8  9 17 21 29 13  2  8  0 32 45 47 27 28 27 24  0  9 15 68 100 53 45  7 24  5  6 124 55 108 78 114 135 158 93 \n",
      "184: 1271  5  8  9 17 21 29 13  2  8  0 32 45 47 27 28 27 24  0  9 15 68 100 53 45  7 24  5 55 79 101 111 140 117 158 21 156 \n",
      "185: 1271  5  8  9 17 21 29 13  2  8  0 32 45 47 27 28 27 24  0  9 15 68 100 53 45  7 24  5 55 79 101 111 140 117 158 21 144 \n",
      "186: 1271  5  8  9 17 21 29 13  2  8  0 32 45 47 27 28 27 24  0  9 15 68 100 53 45  7 24  5 55 79 101 111 140 117 158 21 176 \n",
      "187: 1271  5  8  9 17 21 29 13  2  8  0 32 45 47 27 28 27 24  0  9 15 68 100 53 45  7 24  5 55 79 101 111 140 117 158 21 44 \n",
      "188: 1271  5  8  9 17 21 29 13  2  8  0 32 45 47 27 28 27 24  0  9 15 68 100 53 45  7 24  5 55 79 101 111 86 108 107 18 164 \n",
      "189: 1271  5  8  9 17 21 29 13  2  8  0 32 45 47 27 28 27 24  0  9 15 68 100 53 45  7 24  5 55 79 101 111 86 108 107 18 152 \n",
      "190: 1271  5  8  9 17 21 29 13  2  8  0 32 45 47 27 28 27 24  0  9 15 68 100 53 45  7 24  5 55 79 101 111 86 108 107 18  5 \n",
      "191: 1271  5  8  9 17 21 29 13  2  8  0 32 45 47 27 28 27 24  0  9 15 68 100 53 45  7 24  5 55 79 101 111 86 108 107 18 52 \n",
      "192: 1271  5  8  9 17 21 29 13  2  8  0 32 45 47 27 28 27 24  0  9 15 68 100 53 45  7 24  5  6  3 28 131 24 149 153 42 19 \n",
      "193: 1271  5  8  9 17 21 29 13  2  8  0 32 45 47 27 28 27 24  0  9 15 68 100 53 45  7 24  5  6  3 28 131 24 149 153 42  7 \n",
      "194: 1271  5  8  9 17 21 29 13  2  8  0 32 45 47 27 28 27 24  0  9 15 68 100 53 45  7 24  5  6  3 28 131 24 149 153 42 39 \n",
      "195: 1271  5  8  9 17 21 29 13  2  8  0 32 45 47 27 28 27 24  0  9 15 68 100 53 45  7 24  5  6  3 28 131 24 149 153 42 86 \n",
      "196: 1271  5  8  9 17 21 29 13  2  8  0 32 45 47 27 28 27 24  0  9 15 68 100 53 45  7 24  5 55 97 73 134 32 143 125 75 156 \n",
      "197: 1271  5  8  9 17 21 29 13  2  8  0 32 45 47 27 28 27 24  0  9 15 68 100 53 45  7 24  5 55 97 73 134 32 143 125 75 144 \n",
      "198: 1271  5  8  9 17 21 29 13  2  8  0 32 45 47 27 28 27 24  0  9 15 68 100 53 45  7 24  5 55 97 73 134 32 143 125 75 176 \n",
      "199: 1271  5  8  9 17 21 29 13  2  8  0 32 45 47 27 28 27 24  0  9 15 68 100 53 45  7 24  5 55 97 73 134 32 143 125 75 44 \n",
      "200: 1271  5  8  9 17 21 29 13  2  8  0 32 45 47 27 28 27 24  0  9 15 68 100 53 45  7 24  5  6 124 55 108 49 82 145 169 120 \n",
      "201: 1271  5  8  9 17 21 29 13  2  8  0 32 45 47 27 28 27 24  0  9 15 68 100 53 45  7 24  5  6 124 55 108 49 82 145 169 108 \n",
      "202: 1271  5  8  9 17 21 29 13  2  8  0 32 45 47 27 28 27 24  0  9 15 68 100 53 45  7 24  5  6 124 55 108 49 82 145 169 140 \n",
      "203: 1271  5  8  9 17 21 29 13  2  8  0 32 45 47 27 28 27 24  0  9 15 68 100 53 45  7 24  5  6 124 55 108 49 82 145 169  8 \n",
      "204: 1271  5  8  9 17 21 29 13  2  8  0 32 45 47 27 28 27 24  0  9 15 68 100 53 45  7 24  5 55 79 101 111 57 76 117 29 79 \n",
      "205: 1271  5  8  9 17 21 29 13  2  8  0 32 45 47 27 28 27 24  0  9 15 68 100 53 45  7 24  5 55 79 101 111 57 76 117 29 67 \n",
      "206: 1271  5  8  9 17 21 29 13  2  8  0 32 45 47 27 28 27 24  0  9 15 68 100 53 45  7 24  5 55 79 101 111 57 76 117 29 99 \n",
      "207: 1271  5  8  9 17 21 29 13  2  8  0 32 45 47 27 28 27 24  0  9 15 68 100 53 45  7 24  5 55 79 101 111 57 76 117 29 146 \n",
      "208: 1271  5  8  9 17 21 29 13  2  8  0 32 45 47 27 28 27 24  0  9 15 68 100 53 45  7 24  5  6  3 28 131 107 27 158 172 122 \n",
      "209: 1271  5  8  9 17 21 29 13  2  8  0 32 45 47 27 28 27 24  0  9 15 68 100 53 45  7 24  5  6  3 28 131 107 27 158 172 110 \n",
      "210: 1271  5  8  9 17 21 29 13  2  8  0 32 45 47 27 28 27 24  0  9 15 68 100 53 45  7 24  5  6  3 28 131 107 27 158 172 142 \n",
      "211: 1271  5  8  9 17 21 29 13  2  8  0 32 45 47 27 28 27 24  0  9 15 68 100 53 45  7 24  5  6  3 28 131 107 27 158 172 10 \n",
      "212: 1271  5  8  9 17 21 29 13  2  8  0 32 45 47 27 28 27 24  0  9 15 68 100 53 45  7 24  5  6  3 28 131 53 18 107 169 130 \n",
      "213: 1271  5  8  9 17 21 29 13  2  8  0 32 45 47 27 28 27 24  0  9 15 68 100 53 45  7 24  5  6  3 28 131 53 18 107 169 118 \n",
      "214: 1271  5  8  9 17 21 29 13  2  8  0 32 45 47 27 28 27 24  0  9 15 68 100 53 45  7 24  5  6  3 28 131 53 18 107 169 150 \n",
      "215: 1271  5  8  9 17 21 29 13  2  8  0 32 45 47 27 28 27 24  0  9 15 68 100 53 45  7 24  5  6  3 28 131 53 18 107 169 18 \n",
      "216: 1271  5  8  9 17 21 29 13  2  8  0 32 45 47 27 28 27 24  0  9 15 68 100 53 45  7 24  5 55 97 73 134 115 21 130 32 81 \n",
      "217: 1271  5  8  9 17 21 29 13  2  8  0 32 45 47 27 28 27 24  0  9 15 68 100 53 45  7 24  5 55 97 73 134 115 21 130 32 69 \n",
      "218: 1271  5  8  9 17 21 29 13  2  8  0 32 45 47 27 28 27 24  0  9 15 68 100 53 45  7 24  5 55 97 73 134 115 21 130 32 101 \n",
      "219: 1271  5  8  9 17 21 29 13  2  8  0 32 45 47 27 28 27 24  0  9 15 68 100 53 45  7 24  5 55 97 73 134 115 21 130 32 148 \n",
      "220: 1271  5  8  9 17 21 29 13  2  8  0 32 45 47 27 28 27 24  0  9 15 68 100 53 45  7 24  5 55 97 73 134 61 12 79 29 89 \n",
      "221: 1271  5  8  9 17 21 29 13  2  8  0 32 45 47 27 28 27 24  0  9 15 68 100 53 45  7 24  5 55 97 73 134 61 12 79 29 77 \n",
      "222: 1271  5  8  9 17 21 29 13  2  8  0 32 45 47 27 28 27 24  0  9 15 68 100 53 45  7 24  5 55 97 73 134 61 12 79 29 109 \n",
      "223: 1271  5  8  9 17 21 29 13  2  8  0 32 45 47 27 28 27 24  0  9 15 68 100 53 45  7 24  5 55 97 73 134 61 12 79 29 156 \n",
      "224: 1271  5  8  9 17 21 29 13  2  8  0 32 45 47 27 28 27 24  0  9 15 68 100 53 45  7 24  5  6 124 55 108 132 123 149 126 45 \n",
      "225: 1271  5  8  9 17 21 29 13  2  8  0 32 45 47 27 28 27 24  0  9 15 68 100 53 45  7 24  5  6 124 55 108 132 123 149 126 33 \n",
      "226: 1271  5  8  9 17 21 29 13  2  8  0 32 45 47 27 28 27 24  0  9 15 68 100 53 45  7 24  5  6 124 55 108 132 123 149 126 65 \n",
      "227: 1271  5  8  9 17 21 29 13  2  8  0 32 45 47 27 28 27 24  0  9 15 68 100 53 45  7 24  5  6 124 55 108 132 123 149 126 112 \n",
      "228: 1271  5  8  9 17 21 29 13  2  8  0 32 45 47 27 28 27 24  0  9 15 68 100 53 45  7 24  5  6 124 55 108 78 114 98 123 53 \n",
      "229: 1271  5  8  9 17 21 29 13  2  8  0 32 45 47 27 28 27 24  0  9 15 68 100 53 45  7 24  5  6 124 55 108 78 114 98 123 41 \n",
      "230: 1271  5  8  9 17 21 29 13  2  8  0 32 45 47 27 28 27 24  0  9 15 68 100 53 45  7 24  5  6 124 55 108 78 114 98 123 73 \n",
      "231: 1271  5  8  9 17 21 29 13  2  8  0 32 45 47 27 28 27 24  0  9 15 68 100 53 45  7 24  5  6 124 55 108 78 114 98 123 120 \n",
      "232: 1271  5  8  9 17 21 29 13  2  8  0 32 45 47 27 28 27 24  0  9 15 68 100 53 45  7 24  5 55 79 101 111 140 117 121 159  3 \n",
      "233: 1271  5  8  9 17 21 29 13  2  8  0 32 45 47 27 28 27 24  0  9 15 68 100 53 45  7 24  5 55 79 101 111 140 117 121 159 170 \n",
      "234: 1271  5  8  9 17 21 29 13  2  8  0 32 45 47 27 28 27 24  0  9 15 68 100 53 45  7 24  5 55 79 101 111 140 117 121 159 23 \n",
      "235: 1271  5  8  9 17 21 29 13  2  8  0 32 45 47 27 28 27 24  0  9 15 68 100 53 45  7 24  5 55 79 101 111 140 117 121 159 70 \n",
      "236: 1271  5  8  9 17 21 29 13  2  8  0 32 45 47 27 28 27 24  0  9 15 68 100 53 45  7 24  5 55 79 101 111 86 108 70 156 11 \n",
      "237: 1271  5  8  9 17 21 29 13  2  8  0 32 45 47 27 28 27 24  0  9 15 68 100 53 45  7 24  5 55 79 101 111 86 108 70 156 178 \n",
      "238: 1271  5  8  9 17 21 29 13  2  8  0 32 45 47 27 28 27 24  0  9 15 68 100 53 45  7 24  5 55 79 101 111 86 108 70 156 31 \n",
      "239: 1271  5  8  9 17 21 29 13  2  8  0 32 45 47 27 28 27 24  0  9 15 68 100 53 45  7 24  5 55 79 101 111 86 108 70 156 78 \n"
     ]
    }
   ],
   "source": [
    "i=0\n",
    "while (i < len(gammam_list)):\n",
    "    print(f\"{i:3d}:\", end=' ')\n",
    "    for element in gammam_list[i]:\n",
    "        print(f\"{element:2d}\", end=' ')\n",
    "    print()\n",
    "    i += 1"
   ]
  },
  {
   "cell_type": "code",
   "execution_count": 29,
   "id": "ce843d85-26e2-4607-afd5-ca75ce1c9ae8",
   "metadata": {},
   "outputs": [
    {
     "data": {
      "text/plain": [
       "{6}"
      ]
     },
     "execution_count": 29,
     "metadata": {},
     "output_type": "execute_result"
    }
   ],
   "source": [
    "rezlist[0]"
   ]
  },
  {
   "cell_type": "markdown",
   "id": "46a79df9-7332-4808-a60a-cf6aa3d61ae3",
   "metadata": {},
   "source": [
    "## Counterexample appears in the sieve\n",
    "The Engelsma counterexample (459,3242) has a unique image up through ${\\mathcal G}(131^\\#)$.  The constellation itself first appears in \n",
    "${\\mathcal G}(113^\\#)$, and there are no longer driving terms.\n",
    "\n",
    "By ${\\mathcal G}(457^\\#)$ there are $2.10278720 \\; E73$ images of this constellation.\n",
    "Over $461 \\le p_k \\le 1619$ the relative population is \n",
    "$$\\prod_{461}^{1619} \\frac{q-\\nu(q)}{q-460} \\; = \\; 2.51736042 \\;E17$$\n",
    "\n",
    "Thus the asymptotic relative population of the Engelsma counterexample (459,3242) is\n",
    "$$w_{s,459}(\\infty) = 5.29347327 \\cdot E90$$"
   ]
  },
  {
   "cell_type": "code",
   "execution_count": 30,
   "id": "c3c8d5a3-dfe5-485e-8185-b82a476c8a6c",
   "metadata": {},
   "outputs": [
    {
     "name": "stdout",
     "output_type": "stream",
     "text": [
      "k 83 p 457 n_s 2.10278720e+73\n"
     ]
    }
   ],
   "source": [
    "# calculating the relative population of the counterexample up through pk=457 and up to pk=457\n",
    "k=27\n",
    "ns = 1\n",
    "while (smallp[k+4] < 459):\n",
    "    ns *= int(num_admissible[k])\n",
    "    # print(f\"k {k} p {smallp[k+4]} adm {num_admissible[k]} n_s {ns:.8e}\") \n",
    "    k += 1\n",
    "print(f\"k {k-1} p {smallp[k+3]} n_s {ns:.8e}\")"
   ]
  },
  {
   "cell_type": "code",
   "execution_count": 31,
   "id": "b8bd5296-a373-4073-b529-fbc81b19da18",
   "metadata": {},
   "outputs": [
    {
     "name": "stdout",
     "output_type": "stream",
     "text": [
      "s length 459 span 3242\n"
     ]
    }
   ],
   "source": [
    "print(f\"s length {len(constellationk)} span {np.sum(constellationk)}\")"
   ]
  },
  {
   "cell_type": "code",
   "execution_count": 32,
   "id": "bd912e1f-5891-48c0-bdc3-f946f31689b1",
   "metadata": {},
   "outputs": [
    {
     "name": "stdout",
     "output_type": "stream",
     "text": [
      "k  84 p  461 p-J-1    1 adm  116 w_s 1.16000000e+02\n",
      "k  85 p  463 p-J-1    3 adm  128 w_s 4.94933333e+03\n",
      "k  86 p  467 p-J-1    7 adm  128 w_s 9.05020952e+04\n",
      "k  87 p  479 p-J-1   19 adm  135 w_s 6.43041203e+05\n",
      "k  88 p  487 p-J-1   27 adm  129 w_s 3.07230797e+06\n",
      "k  89 p  491 p-J-1   31 adm  145 w_s 1.43704728e+07\n",
      "k  90 p  499 p-J-1   39 adm  141 w_s 5.19547861e+07\n",
      "k  91 p  503 p-J-1   43 adm  149 w_s 1.80029375e+08\n",
      "k  92 p  509 p-J-1   49 adm  148 w_s 5.43762195e+08\n",
      "k  93 p  521 p-J-1   61 adm  158 w_s 1.40843323e+09\n",
      "k  94 p  523 p-J-1   63 adm  153 w_s 3.42048069e+09\n",
      "k  95 p  541 p-J-1   81 adm  166 w_s 7.00987401e+09\n",
      "k  96 p  547 p-J-1   87 adm  179 w_s 1.44226143e+10\n",
      "k  97 p  557 p-J-1   97 adm  181 w_s 2.69123010e+10\n",
      "k  98 p  563 p-J-1  103 adm  186 w_s 4.85989124e+10\n",
      "k  99 p  569 p-J-1  109 adm  197 w_s 8.78347317e+10\n",
      "k 100 p  571 p-J-1  111 adm  194 w_s 1.53512954e+11\n",
      "k 101 p  577 p-J-1  117 adm  203 w_s 2.66351536e+11\n",
      "k 102 p  587 p-J-1  127 adm  201 w_s 4.21548495e+11\n",
      "k 103 p  593 p-J-1  133 adm  219 w_s 6.94128724e+11\n",
      "k 104 p  599 p-J-1  139 adm  219 w_s 1.09362727e+12\n",
      "k 105 p  601 p-J-1  141 adm  215 w_s 1.66758768e+12\n",
      "k 106 p  607 p-J-1  147 adm  222 w_s 2.51839772e+12\n",
      "k 107 p  613 p-J-1  153 adm  228 w_s 3.75290641e+12\n",
      "k 108 p  617 p-J-1  157 adm  229 w_s 5.47398451e+12\n",
      "k 109 p  619 p-J-1  159 adm  239 w_s 8.22819055e+12\n",
      "k 110 p  631 p-J-1  171 adm  247 w_s 1.18851641e+13\n",
      "k 111 p  641 p-J-1  181 adm  249 w_s 1.63503087e+13\n",
      "k 112 p  643 p-J-1  183 adm  256 w_s 2.28725629e+13\n",
      "k 113 p  647 p-J-1  187 adm  255 w_s 3.11898586e+13\n",
      "k 114 p  653 p-J-1  193 adm  263 w_s 4.25022425e+13\n",
      "k 115 p  659 p-J-1  199 adm  266 w_s 5.68120427e+13\n",
      "k 116 p  661 p-J-1  201 adm  269 w_s 7.60320373e+13\n",
      "k 117 p  673 p-J-1  213 adm  282 w_s 1.00662134e+14\n",
      "k 118 p  677 p-J-1  217 adm  277 w_s 1.28494982e+14\n",
      "k 119 p  683 p-J-1  223 adm  284 w_s 1.63643834e+14\n",
      "k 120 p  691 p-J-1  231 adm  296 w_s 2.09690800e+14\n",
      "k 121 p  701 p-J-1  241 adm  298 w_s 2.59285719e+14\n",
      "k 122 p  709 p-J-1  249 adm  307 w_s 3.19681589e+14\n",
      "k 123 p  719 p-J-1  259 adm  318 w_s 3.92504809e+14\n",
      "k 124 p  727 p-J-1  267 adm  335 w_s 4.92468580e+14\n",
      "k 125 p  733 p-J-1  273 adm  333 w_s 6.00703433e+14\n",
      "k 126 p  739 p-J-1  279 adm  331 w_s 7.12662496e+14\n",
      "k 127 p  743 p-J-1  283 adm  339 w_s 8.53684050e+14\n",
      "k 128 p  751 p-J-1  291 adm  343 w_s 1.00623240e+15\n",
      "k 129 p  757 p-J-1  297 adm  351 w_s 1.18918375e+15\n",
      "k 130 p  761 p-J-1  301 adm  350 w_s 1.38277180e+15\n",
      "k 131 p  769 p-J-1  309 adm  362 w_s 1.61994625e+15\n",
      "k 132 p  773 p-J-1  313 adm  357 w_s 1.84767032e+15\n",
      "k 133 p  787 p-J-1  327 adm  378 w_s 2.13583909e+15\n",
      "k 134 p  797 p-J-1  337 adm  383 w_s 2.42737796e+15\n",
      "k 135 p  809 p-J-1  349 adm  394 w_s 2.74036365e+15\n",
      "k 136 p  811 p-J-1  351 adm  400 w_s 3.12292154e+15\n",
      "k 137 p  821 p-J-1  361 adm  400 w_s 3.46030088e+15\n",
      "k 138 p  823 p-J-1  363 adm  406 w_s 3.87019878e+15\n",
      "k 139 p  827 p-J-1  367 adm  409 w_s 4.31310981e+15\n",
      "k 140 p  829 p-J-1  369 adm  410 w_s 4.79234423e+15\n",
      "k 141 p  839 p-J-1  379 adm  416 w_s 5.26019842e+15\n",
      "k 142 p  853 p-J-1  393 adm  439 w_s 5.87589595e+15\n",
      "k 143 p  857 p-J-1  397 adm  436 w_s 6.45312502e+15\n",
      "k 144 p  859 p-J-1  399 adm  437 w_s 7.06770835e+15\n",
      "k 145 p  863 p-J-1  403 adm  439 w_s 7.69906692e+15\n",
      "k 146 p  877 p-J-1  417 adm  464 w_s 8.56682746e+15\n",
      "k 147 p  881 p-J-1  421 adm  465 w_s 9.46217284e+15\n",
      "k 148 p  883 p-J-1  423 adm  471 w_s 1.05358946e+16\n",
      "k 149 p  887 p-J-1  427 adm  463 w_s 1.14241667e+16\n",
      "k 150 p  907 p-J-1  447 adm  490 w_s 1.25231358e+16\n",
      "k 151 p  911 p-J-1  451 adm  488 w_s 1.35505327e+16\n",
      "k 152 p  919 p-J-1  459 adm  498 w_s 1.47018852e+16\n",
      "k 153 p  929 p-J-1  469 adm  502 w_s 1.57363462e+16\n",
      "k 154 p  937 p-J-1  477 adm  518 w_s 1.70889462e+16\n",
      "k 155 p  941 p-J-1  481 adm  514 w_s 1.82613687e+16\n",
      "k 156 p  947 p-J-1  487 adm  519 w_s 1.94612944e+16\n",
      "k 157 p  953 p-J-1  493 adm  528 w_s 2.08429278e+16\n",
      "k 158 p  967 p-J-1  507 adm  547 w_s 2.24873403e+16\n",
      "k 159 p  971 p-J-1  511 adm  541 w_s 2.38075364e+16\n",
      "k 160 p  977 p-J-1  517 adm  546 w_s 2.51429688e+16\n",
      "k 161 p  983 p-J-1  523 adm  554 w_s 2.66332786e+16\n",
      "k 162 p  991 p-J-1  531 adm  565 w_s 2.83386109e+16\n",
      "k 163 p  997 p-J-1  537 adm  572 w_s 3.01856340e+16\n",
      "k 164 p 1009 p-J-1  549 adm  581 w_s 3.19450881e+16\n",
      "k 165 p 1013 p-J-1  553 adm  586 w_s 3.38513953e+16\n",
      "k 166 p 1019 p-J-1  559 adm  587 w_s 3.55469929e+16\n",
      "k 167 p 1021 p-J-1  561 adm  598 w_s 3.78914470e+16\n",
      "k 168 p 1031 p-J-1  571 adm  598 w_s 3.96831617e+16\n",
      "k 169 p 1033 p-J-1  573 adm  607 w_s 4.20378344e+16\n",
      "k 170 p 1039 p-J-1  579 adm  606 w_s 4.39981480e+16\n",
      "k 171 p 1049 p-J-1  589 adm  616 w_s 4.60150410e+16\n",
      "k 172 p 1051 p-J-1  591 adm  627 w_s 4.88179877e+16\n",
      "k 173 p 1061 p-J-1  601 adm  631 w_s 5.12548256e+16\n",
      "k 174 p 1063 p-J-1  603 adm  636 w_s 5.40598161e+16\n",
      "k 175 p 1069 p-J-1  609 adm  636 w_s 5.64565567e+16\n",
      "k 176 p 1087 p-J-1  627 adm  659 w_s 5.93379121e+16\n",
      "k 177 p 1091 p-J-1  631 adm  656 w_s 6.16888595e+16\n",
      "k 178 p 1093 p-J-1  633 adm  667 w_s 6.50023211e+16\n",
      "k 179 p 1097 p-J-1  637 adm  659 w_s 6.72472992e+16\n",
      "k 180 p 1103 p-J-1  643 adm  670 w_s 7.00710583e+16\n",
      "k 181 p 1109 p-J-1  649 adm  680 w_s 7.34180580e+16\n",
      "k 182 p 1117 p-J-1  657 adm  687 w_s 7.67704808e+16\n",
      "k 183 p 1123 p-J-1  663 adm  694 w_s 8.03600507e+16\n",
      "k 184 p 1129 p-J-1  669 adm  697 w_s 8.37234012e+16\n",
      "k 185 p 1151 p-J-1  691 adm  720 w_s 8.72371184e+16\n",
      "k 186 p 1153 p-J-1  693 adm  718 w_s 9.03842006e+16\n",
      "k 187 p 1163 p-J-1  703 adm  727 w_s 9.34698632e+16\n",
      "k 188 p 1171 p-J-1  711 adm  737 w_s 9.68878892e+16\n",
      "k 189 p 1181 p-J-1  721 adm  747 w_s 1.00381766e+17\n",
      "k 190 p 1187 p-J-1  727 adm  747 w_s 1.03143300e+17\n",
      "k 191 p 1193 p-J-1  733 adm  762 w_s 1.07224004e+17\n",
      "k 192 p 1201 p-J-1  741 adm  764 w_s 1.10552144e+17\n",
      "k 193 p 1213 p-J-1  753 adm  775 w_s 1.13782087e+17\n",
      "k 194 p 1217 p-J-1  757 adm  779 w_s 1.17088832e+17\n",
      "k 195 p 1223 p-J-1  763 adm  790 w_s 1.21232211e+17\n",
      "k 196 p 1229 p-J-1  769 adm  786 w_s 1.23912247e+17\n",
      "k 197 p 1231 p-J-1  771 adm  795 w_s 1.27769438e+17\n",
      "k 198 p 1237 p-J-1  777 adm  802 w_s 1.31880424e+17\n",
      "k 199 p 1249 p-J-1  789 adm  808 w_s 1.35056251e+17\n",
      "k 200 p 1259 p-J-1  799 adm  818 w_s 1.38267852e+17\n",
      "k 201 p 1277 p-J-1  817 adm  839 w_s 1.41991099e+17\n",
      "k 202 p 1279 p-J-1  819 adm  839 w_s 1.45458525e+17\n",
      "k 203 p 1283 p-J-1  823 adm  845 w_s 1.49346845e+17\n",
      "k 204 p 1289 p-J-1  829 adm  849 w_s 1.52949905e+17\n",
      "k 205 p 1291 p-J-1  831 adm  848 w_s 1.56078844e+17\n",
      "k 206 p 1297 p-J-1  837 adm  860 w_s 1.60367749e+17\n",
      "k 207 p 1301 p-J-1  841 adm  861 w_s 1.64181489e+17\n",
      "k 208 p 1303 p-J-1  843 adm  861 w_s 1.67687144e+17\n",
      "k 209 p 1307 p-J-1  847 adm  865 w_s 1.71250743e+17\n",
      "k 210 p 1319 p-J-1  859 adm  877 w_s 1.74839233e+17\n",
      "k 211 p 1321 p-J-1  861 adm  878 w_s 1.78291344e+17\n",
      "k 212 p 1327 p-J-1  867 adm  886 w_s 1.82198536e+17\n",
      "k 213 p 1361 p-J-1  901 adm  918 w_s 1.85636244e+17\n",
      "k 214 p 1367 p-J-1  907 adm  922 w_s 1.88706303e+17\n",
      "k 215 p 1373 p-J-1  913 adm  925 w_s 1.91186561e+17\n",
      "k 216 p 1381 p-J-1  921 adm  934 w_s 1.93885177e+17\n",
      "k 217 p 1399 p-J-1  939 adm  954 w_s 1.96982384e+17\n",
      "k 218 p 1409 p-J-1  949 adm  963 w_s 1.99888342e+17\n",
      "k 219 p 1423 p-J-1  963 adm  977 w_s 2.02794299e+17\n",
      "k 220 p 1427 p-J-1  967 adm  977 w_s 2.04891448e+17\n",
      "k 221 p 1429 p-J-1  969 adm  983 w_s 2.07851696e+17\n",
      "k 222 p 1433 p-J-1  973 adm  985 w_s 2.10415129e+17\n",
      "k 223 p 1439 p-J-1  979 adm  987 w_s 2.12134558e+17\n",
      "k 224 p 1447 p-J-1  987 adm 1001 w_s 2.15143559e+17\n",
      "k 225 p 1451 p-J-1  991 adm 1003 w_s 2.17748728e+17\n",
      "k 226 p 1453 p-J-1  993 adm 1004 w_s 2.20160849e+17\n",
      "k 227 p 1459 p-J-1  999 adm 1012 w_s 2.23025805e+17\n",
      "k 228 p 1471 p-J-1 1011 adm 1020 w_s 2.25011198e+17\n",
      "k 229 p 1481 p-J-1 1021 adm 1031 w_s 2.27215029e+17\n",
      "k 230 p 1483 p-J-1 1023 adm 1034 w_s 2.29658201e+17\n",
      "k 231 p 1487 p-J-1 1027 adm 1035 w_s 2.31447165e+17\n",
      "k 232 p 1489 p-J-1 1029 adm 1036 w_s 2.33021636e+17\n",
      "k 233 p 1493 p-J-1 1033 adm 1040 w_s 2.34600679e+17\n",
      "k 234 p 1499 p-J-1 1039 adm 1046 w_s 2.36181241e+17\n",
      "k 235 p 1511 p-J-1 1051 adm 1057 w_s 2.37529564e+17\n",
      "k 236 p 1523 p-J-1 1063 adm 1070 w_s 2.39093729e+17\n",
      "k 237 p 1531 p-J-1 1071 adm 1077 w_s 2.40433190e+17\n",
      "k 238 p 1543 p-J-1 1083 adm 1091 w_s 2.42209243e+17\n",
      "k 239 p 1549 p-J-1 1089 adm 1096 w_s 2.43766143e+17\n",
      "k 240 p 1553 p-J-1 1093 adm 1098 w_s 2.44881267e+17\n",
      "k 241 p 1559 p-J-1 1099 adm 1104 w_s 2.45995377e+17\n",
      "k 242 p 1567 p-J-1 1107 adm 1110 w_s 2.46662031e+17\n",
      "k 243 p 1571 p-J-1 1111 adm 1116 w_s 2.47772121e+17\n",
      "k 244 p 1579 p-J-1 1119 adm 1123 w_s 2.48657812e+17\n",
      "k 245 p 1583 p-J-1 1123 adm 1128 w_s 2.49764926e+17\n",
      "k 246 p 1597 p-J-1 1137 adm 1140 w_s 2.50423937e+17\n",
      "k 247 p 1601 p-J-1 1141 adm 1143 w_s 2.50862892e+17\n",
      "k 248 p 1607 p-J-1 1147 adm 1149 w_s 2.51300316e+17\n",
      "k 249 p 1609 p-J-1 1149 adm 1150 w_s 2.51519029e+17\n",
      "k 250 p 1613 p-J-1 1153 adm 1153 w_s 2.51519029e+17\n",
      "k 251 p 1619 p-J-1 1159 adm 1160 w_s 2.51736042e+17\n",
      "k 251 p 1619 w_s 2.51736042e+17\n"
     ]
    }
   ],
   "source": [
    "# calculating the relative population of the counterexample from p=457 up through pk=1619\n",
    "k=84\n",
    "ws = 1\n",
    "while (smallp[k+4] < 1621):\n",
    "    ws *= float(num_admissible[k])/(smallp[k+4]-460)\n",
    "    print(f\"k {k:3d} p {smallp[k+4]:4d} p-J-1 {(smallp[k+4]-460):4d} adm {num_admissible[k]:4d} w_s {ws:.8e}\") \n",
    "    k += 1\n",
    "print(f\"k {k-1} p {smallp[k+3]} w_s {ws:.8e}\")"
   ]
  },
  {
   "cell_type": "code",
   "execution_count": null,
   "id": "2f1d8e92-d5f3-46f0-a4e6-0aca2a7a9dcb",
   "metadata": {},
   "outputs": [],
   "source": []
  },
  {
   "cell_type": "code",
   "execution_count": 33,
   "id": "1090c239-cc1b-42d9-a548-ea6d2cb16892",
   "metadata": {
    "scrolled": true
   },
   "outputs": [
    {
     "name": "stdout",
     "output_type": "stream",
     "text": [
      "pk 419 num covered = 324 num admissible = 95 w_s factor 95.00000000\n",
      "[  0.   1.   2.   3.   4.   5.   6.   7.   8.   9.  12.  13.  14.  15.\n",
      "  16.  17.  19.  20.  21.  22.  24.  25.  26.  28.  30.  31.  32.  33.\n",
      "  34.  35.  36.  37.  38.  39.  40.  42.  43.  44.  45.  46.  48.  49.\n",
      "  50.  51.  52.  53.  54.  56.  57.  62.  63.  66.  68.  69.  71.  72.\n",
      "  73.  74.  75.  78.  79.  82.  83.  84.  85.  87.  88.  89.  90.  91.\n",
      "  92.  93.  94.  95.  96.  97.  98.  99. 100. 102. 103. 104. 107. 108.\n",
      " 109. 110. 112. 113. 114. 115. 116. 117. 118. 119. 120. 122. 123. 124.\n",
      " 126. 127. 128. 129. 130. 131. 132. 133. 134. 135. 136. 138. 139. 142.\n",
      " 143. 144. 145. 146. 147. 148. 149. 150. 152. 153. 154. 156. 157. 158.\n",
      " 159. 160. 161. 162. 163. 164. 165. 168. 169. 170. 171. 172. 173. 174.\n",
      " 175. 176. 177. 179. 181. 182. 183. 184. 185. 186. 187. 188. 189. 190.\n",
      " 191. 192. 193. 194. 195. 198. 199. 200. 201. 202. 204. 205. 206. 210.\n",
      " 212. 213. 214. 215. 216. 217. 218. 219. 220. 221. 222. 223. 224. 225.\n",
      " 226. 228. 229. 230. 231. 234. 235. 236. 237. 239. 240. 241. 242. 243.\n",
      " 244. 245. 246. 247. 248. 250. 252. 253. 256. 257. 259. 260. 262. 263.\n",
      " 264. 265. 266. 267. 270. 271. 272. 273. 274. 275. 276. 277. 278. 279.\n",
      " 280. 281. 282. 283. 284. 285. 286. 288. 289. 293. 294. 297. 300. 301.\n",
      " 303. 304. 305. 306. 307. 308. 309. 310. 311. 312. 313. 314. 316. 317.\n",
      " 320. 321. 324. 326. 327. 328. 330. 332. 333. 335. 336. 337. 338. 340.\n",
      " 342. 343. 344. 345. 346. 347. 348. 349. 350. 351. 352. 353. 354. 355.\n",
      " 357. 358. 360. 361. 363. 364. 366. 367. 368. 369. 370. 372. 373. 374.\n",
      " 375. 378. 379. 380. 381. 382. 383. 384. 386. 387. 389. 390. 391. 393.\n",
      " 394. 395. 396. 397. 398. 399. 400. 401. 402. 404. 409. 412. 413. 414.\n",
      " 415. 416.]\n",
      "[1 1 2 2 1 2 2 2 3 2 1 2 1 1 1 1 2 2 2 1 1 2 1 1 2 1 2 2 1 1 1 2 2 2 1 1 1\n",
      " 1 1 1 2 1 2 2 2 1 1 2 2 2 2 1 2 2 1 2 1 1 1 2 1 1 1 1 1 1 1 1 2 2 3 2 1 2\n",
      " 2 2 1 2 1 2 2 2 1 1 1 1 1 1 1 1 2 2 1 1 1 1 1 1 1 2 2 1 2 1 1 1 1 1 1 2 2\n",
      " 2 1 1 1 2 1 1 1 1 2 2 1 2 2 1 2 1 2 3 1 1 1 1 1 1 2 1 2 1 1 2 1 1 1 2 1 1\n",
      " 1 2 1 1 1 1 2 2 1 1 1 1 1 1 2 2 2 1 1 1 1 1 1 1 2 1 2 3 2 2 2 1 1 1 1 2 1\n",
      " 2 2 1 1 1 2 1 2 1 3 3 1 1 2 1 2 1 1 2 1 1 1 2 1 2 2 2 1 1 1 2 3 2 1 1 1 2\n",
      " 1 1 1 1 1 1 2 2 1 1 2 1 1 1 1 1 3 2 1 3 2 3 2 1 2 3 1 1 1 1 1 1 1 1 1 1 1\n",
      " 1 1 1 2 1 2 2 2 2 1 1 1 1 1 1 2 1 2 1 1 1 1 1 1 1 1 1 1 1 1 1 1 2 2 2 1 2\n",
      " 1 1 1 1 2 1 2 1 1 1 2 1 1 2 3 1 3 2 2 1 1 1 1 2 2 1 1 1]\n"
     ]
    }
   ],
   "source": [
    "# developing some intuition about why the numbers of admissible residues are so high\n",
    "res = np.zeros(460)\n",
    "pk = smallp[80]\n",
    "i=1\n",
    "while (i < 460):\n",
    "    res[i] = (res[i-1]+Engelsma[i-1]) % pk\n",
    "    i += 1\n",
    "covered_res, res_counts = np.unique(res, return_counts=True)\n",
    "if (pk > 460):\n",
    "    wsfactor = (pk-len(covered_res))/(pk-460)\n",
    "else:\n",
    "    wsfactor = pk - len(covered_res)\n",
    "print(f\"pk {pk} num covered = {len(covered_res)} num admissible = {pk-len(covered_res)} w_s factor {wsfactor:.8f}\")\n",
    "print(covered_res)\n",
    "print(res_counts)"
   ]
  },
  {
   "cell_type": "code",
   "execution_count": 34,
   "id": "b6d46918-ab35-4eb2-9357-7e9dc2252f1b",
   "metadata": {},
   "outputs": [
    {
     "data": {
      "text/plain": [
       "array([419, 421, 431, 433, 439, 443, 449, 457, 461, 463])"
      ]
     },
     "execution_count": 34,
     "metadata": {},
     "output_type": "execute_result"
    }
   ],
   "source": [
    "smallp[80:90]"
   ]
  },
  {
   "cell_type": "code",
   "execution_count": 35,
   "id": "cde503f3-7932-4345-a3b0-b607e5c4d4c5",
   "metadata": {},
   "outputs": [
    {
     "data": {
      "text/plain": [
       "array([ 2,  1,  2,  2,  4,  2,  4,  2,  4,  6,  2,  6,  4,  2,  4,  6,  6,\n",
       "        2,  6,  4,  2,  6,  4,  6,  8,  4,  2,  4,  2,  4, 14,  4,  6,  2,\n",
       "       10,  2,  6,  6,  4,  6,  6,  2, 10,  2,  4,  2, 12, 12,  4,  2,  4,\n",
       "        6,  2, 10,  6,  6,  6,  2,  6,  4,  2, 10, 14,  4,  2,  4, 14,  6,\n",
       "       10,  2,  4,  6,  8,  6,  6,  4,  6,  8,  4,  8, 10,  2, 10,  2,  6,\n",
       "        4,  6,  8,  4,  2,  4, 12,  8,  4,  8,  4,  6, 12,  2, 18])"
      ]
     },
     "execution_count": 35,
     "metadata": {},
     "output_type": "execute_result"
    }
   ],
   "source": [
    "# calculate the constellation among small primes\n",
    "del_smallp = smallp[1:501]-smallp[0:500]\n",
    "del_smallp = np.array([2]+list(del_smallp))\n",
    "del_smallp[0:100]"
   ]
  },
  {
   "cell_type": "code",
   "execution_count": 36,
   "id": "3d98dfea-0902-47d6-9902-3fecf1de2761",
   "metadata": {},
   "outputs": [
    {
     "name": "stdout",
     "output_type": "stream",
     "text": [
      "pk 113 mu_recip 0.11477004203576403\n"
     ]
    },
    {
     "data": {
      "text/plain": [
       "<Figure size 640x480 with 0 Axes>"
      ]
     },
     "metadata": {},
     "output_type": "display_data"
    },
    {
     "data": {
      "image/png": "[encoded data removed]",
      "text/plain": [
       "<Figure size 1200x900 with 1 Axes>"
      ]
     },
     "metadata": {},
     "output_type": "display_data"
    }
   ],
   "source": [
    "# Plotting pi function vs Engelsma constellation (459,3242) for pk=113\n",
    "# pts0 = 510900000\n",
    "# pts1 = pts0 + 70000\n",
    "# xEngelsma = 766785216 index in G29 for start of driving term for Engelsma constellation\n",
    "pk = 113\n",
    "mu_recip = 1\n",
    "i=0\n",
    "while (smallp[i] <= pk):\n",
    "    mu_recip = mu_recip * (smallp[i]-1)/smallp[i]\n",
    "    i += 1\n",
    "print(f\"pk {pk} mu_recip {mu_recip}\")\n",
    "\n",
    "# create array counting primes\n",
    "delxC = np.zeros(462)\n",
    "picount= np.zeros(462)\n",
    "picount[0]= 0\n",
    "# picount contains the tops of the vertical segments for Del Phi applied to pi(x)\n",
    "delxC[1]=smallp[0]\n",
    "picount[1]= 1-smallp[0]*mu_recip\n",
    "i=2\n",
    "while (i < 462):\n",
    "    delxC[i] = smallp[i-1]\n",
    "    picount[i] = picount[i-1]+1-del_smallp[i-1]*mu_recip\n",
    "    i += 1\n",
    "\n",
    "\n",
    "# create sawtooth array for Delta-Phi\n",
    "delx = np.cumsum(Engelsma, dtype=float)\n",
    "delx = np.array([0]+list(delx[:]))\n",
    "delphi = np.zeros(460)\n",
    "i=1\n",
    "while (i < 460):\n",
    "    delphi[i] = delphi[i-1] + 1 - Engelsma[i-1]*mu_recip\n",
    "    i += 1\n",
    "\n",
    "delxB = interleave_np(delx,delx)\n",
    "delphiB = interleave_np(delphi,(delphi +1))\n",
    "data_sample = {'x': delxB, 'DelPhi': delphiB}\n",
    "df = pd.DataFrame(data_sample)\n",
    "# \n",
    "pidf = pd.DataFrame({'x':delxC, 'picnt': picount})\n",
    "\n",
    "# plotting the two curves\n",
    "plt.clf()\n",
    "fig, ax = plt.subplots()\n",
    "fig.set_size_inches(12,9)\n",
    "ax.set_title(f\"Engelsma(459, 3242) vs $\\pi(n)$ as segments of $\\Delta \\Phi(x,113)$\")\n",
    "ax.grid(axis='y', color='#080408', lw=0.125 )\n",
    "     \n",
    "ax.plot(delxB, delphiB, color='#2222AF', lw=0.125, label='DelPhi')\n",
    "ax.plot(delxC, picount, color='#AF0000', lw=0.25, label='pi(n)')\n",
    "# ax.set_ylim(-8,12)\n",
    "\n",
    "plt.show()\n"
   ]
  },
  {
   "cell_type": "code",
   "execution_count": 37,
   "id": "7674364e-8e8c-4eab-bdad-919ce0d1b7bd",
   "metadata": {},
   "outputs": [
    {
     "name": "stdout",
     "output_type": "stream",
     "text": [
      "  2   4   6   8  10  12  14  16  18  20  22  24  30 \n",
      " 88  76 120  41  56  34  15  10  12   2   3   1   1 \n"
     ]
    }
   ],
   "source": [
    "# Comparing the counts of gaps in the counterexample vs the counts among the small primes\n",
    "Eng_gaps, Eng_cnts = np.unique(Engelsma, return_counts=True)\n",
    "for element in Eng_gaps:\n",
    "    print(f\"{element:3d}\",end=\" \")\n",
    "print()\n",
    "for element in Eng_cnts:\n",
    "    print(f\"{element:3d}\",end=\" \")\n",
    "print()"
   ]
  },
  {
   "cell_type": "code",
   "execution_count": 38,
   "id": "b7e80703-9a19-41bf-be80-24226031ee96",
   "metadata": {},
   "outputs": [
    {
     "name": "stdout",
     "output_type": "stream",
     "text": [
      "  1   2   4   6   8  10  12  14  16  18  20  22  24  26  28  34 \n",
      "  1  86  92 112  44  43  32  18   8   9   3   5   2   2   1   1 \n"
     ]
    }
   ],
   "source": [
    "pi_gaps, pi_cnts = np.unique(del_smallp[0:459], return_counts=True)\n",
    "for element in pi_gaps:\n",
    "    print(f\"{element:3d}\",end=\" \")\n",
    "print()\n",
    "for element in pi_cnts:\n",
    "    print(f\"{element:3d}\",end=\" \")\n",
    "print()"
   ]
  },
  {
   "cell_type": "code",
   "execution_count": 39,
   "id": "668bf181-6391-4f0c-be21-b381e06b5e31",
   "metadata": {},
   "outputs": [
    {
     "data": {
      "text/plain": [
       "array([ 2,  1,  2,  2,  4,  2,  4,  2,  4,  6,  2,  6,  4,  2,  4,  6,  6,\n",
       "        2,  6,  4,  2,  6,  4,  6,  8,  4,  2,  4,  2,  4, 14,  4,  6,  2,\n",
       "       10,  2,  6,  6,  4,  6,  6,  2, 10,  2,  4,  2, 12, 12,  4,  2,  4,\n",
       "        6,  2, 10,  6,  6,  6,  2,  6,  4,  2, 10, 14,  4,  2,  4, 14,  6,\n",
       "       10,  2,  4,  6,  8,  6,  6,  4,  6,  8,  4,  8, 10,  2, 10,  2,  6,\n",
       "        4,  6,  8,  4,  2,  4, 12,  8,  4,  8,  4,  6, 12,  2, 18,  6, 10,\n",
       "        6,  6,  2,  6, 10,  6,  6,  2,  6,  6,  4,  2, 12, 10,  2,  4,  6,\n",
       "        6,  2, 12,  4,  6,  8, 10,  8, 10,  8,  6,  6,  4,  8,  6,  4,  8,\n",
       "        4, 14, 10, 12,  2, 10,  2,  4,  2, 10, 14,  4,  2,  4, 14,  4,  2,\n",
       "        4, 20,  4,  8, 10,  8,  4,  6,  6, 14,  4,  6,  6,  8,  6, 12,  4,\n",
       "        6,  2, 10,  2,  6, 10,  2, 10,  2,  6, 18,  4,  2,  4,  6,  6,  8,\n",
       "        6,  6, 22,  2, 10,  8, 10,  6,  6,  8, 12,  4,  6,  6,  2,  6, 12,\n",
       "       10, 18,  2,  4,  6,  2,  6,  4,  2,  4, 12,  2,  6, 34,  6,  6,  8,\n",
       "       18, 10, 14,  4,  2,  4,  6,  8,  4,  2,  6, 12, 10,  2,  4,  2,  4,\n",
       "        6, 12, 12,  8, 12,  6,  4,  6,  8,  4,  8,  4, 14,  4,  6,  2,  4,\n",
       "        6,  2,  6, 10, 20,  6,  4,  2, 24,  4,  2, 10, 12,  2, 10,  8,  6,\n",
       "        6,  6, 18,  6,  4,  2, 12, 10, 12,  8, 16, 14,  6,  4,  2,  4,  2,\n",
       "       10, 12,  6,  6, 18,  2, 16,  2, 22,  6,  8,  6,  4,  2,  4,  8,  6,\n",
       "       10,  2, 10, 14, 10,  6, 12,  2,  4,  2, 10, 12,  2, 16,  2,  6,  4,\n",
       "        2, 10,  8, 18, 24,  4,  6,  8, 16,  2,  4,  8, 16,  2,  4,  8,  6,\n",
       "        6,  4, 12,  2, 22,  6,  2,  6,  4,  6, 14,  6,  4,  2,  6,  4,  6,\n",
       "       12,  6,  6, 14,  4,  6, 12,  8,  6,  4, 26, 18, 10,  8,  4,  6,  2,\n",
       "        6, 22, 12,  2, 16,  8,  4, 12, 14, 10,  2,  4,  8,  6,  6,  4,  2,\n",
       "        4,  6,  8,  4,  2,  6, 10,  2, 10,  8,  4, 14, 10, 12,  2,  6,  4,\n",
       "        2, 16, 14,  4,  6,  8,  6,  4, 18,  8, 10,  6,  6,  8, 10, 12, 14,\n",
       "        4,  6,  6,  2, 28,  2, 10,  8,  4, 14,  4,  8, 12,  6, 12,  4,  6,\n",
       "       20, 10,  2, 16, 26,  4,  2, 12,  6,  4, 12,  6,  8,  4,  8, 22,  2])"
      ]
     },
     "execution_count": 39,
     "metadata": {},
     "output_type": "execute_result"
    }
   ],
   "source": [
    "del_smallp[0:459]"
   ]
  },
  {
   "cell_type": "code",
   "execution_count": 40,
   "id": "0e3627ee-31a9-4653-9e33-8a07947e766b",
   "metadata": {},
   "outputs": [
    {
     "name": "stdout",
     "output_type": "stream",
     "text": [
      "pi avg 7.0983 vs mu_Eng 7.0632 vs mu_113 8.7131\n"
     ]
    }
   ],
   "source": [
    "# comparing average gap sizes for small primes, for the counterexample, and for the cycle G(113#)\n",
    "print(f\"pi avg {(3251/458):.4f} vs mu_Eng {(3242/459):.4f} vs mu_113 {(1/mu_recip):.4f}\")"
   ]
  }
 ],
 "metadata": {
  "kernelspec": {
   "display_name": "Python 3 (ipykernel)",
   "language": "python",
   "name": "python3"
  },
  "language_info": {
   "codemirror_mode": {
    "name": "ipython",
    "version": 3
   },
   "file_extension": ".py",
   "mimetype": "text/x-python",
   "name": "python",
   "nbconvert_exporter": "python",
   "pygments_lexer": "ipython3",
   "version": "3.11.5"
  }
 },
 "nbformat": 4,
 "nbformat_minor": 5
}
