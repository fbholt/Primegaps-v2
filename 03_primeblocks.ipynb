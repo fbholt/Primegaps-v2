{
 "cells": [
  {
   "cell_type": "markdown",
   "id": "f384379b-bad6-4c4f-b8c6-62dfc9957cb4",
   "metadata": {},
   "source": [
    "# Utility code for identifying primes and prime covered by $\\mathcal{G}(29^\\#)$\n",
    "This is very specific code for identifying arrays of consecutive primes within an interval.\n",
    "The interval is defined by its starting point $x_0$ and its length 2*<i>blocklength</i>.  Since our algorithm only\n",
    "searches over odd numbers, the parameter <i>blocklength</i> effects a search from $x_0$ to $x_0 + 2\\cdot {\\rm blocklength}$.\n",
    "\n",
    "The search is performed by the function <i>pblock11()</i>.  This is Eratosthenes sieve with a couple of accelerations.  We search\n",
    "only over odd numbers, each odd number is represented by a single bit in a boolean array, and we initialize the array with the\n",
    "pattern from ${\\mathcal G}(11^\\#)$.  So the iterations start from $p=13$.\n",
    "\n",
    "Our search is conducted by eliminating multiples of the primes in the array <i>smallprimes[]</i>.  So the range of our search\n",
    "wanes at <i>smallprimes[-1]**2</i>, the square of the largest prime in this array."
   ]
  },
  {
   "cell_type": "code",
   "execution_count": 1,
   "id": "cc896f02-c202-4b06-a040-0011e9a069bd",
   "metadata": {},
   "outputs": [],
   "source": [
    "import numpy as np\n",
    "import array\n",
    "import gc\n",
    "import psutil\n",
    "import sys\n",
    "import os"
   ]
  },
  {
   "cell_type": "code",
   "execution_count": 2,
   "id": "fb28b857-01d6-44ee-8e9f-891159afc566",
   "metadata": {},
   "outputs": [
    {
     "name": "stdout",
     "output_type": "stream",
     "text": [
      "Available memory: 2645.88 MB\n"
     ]
    }
   ],
   "source": [
    "# block to check the available system memory\n",
    "gc.collect()\n",
    "memory = psutil.virtual_memory()\n",
    "available_memory = memory.available\n",
    "del memory\n",
    "print(f\"Available memory: {available_memory / (1024 ** 2):.2f} MB\")"
   ]
  },
  {
   "cell_type": "code",
   "execution_count": 3,
   "id": "e1ba6058-a6cd-4e5a-b827-2bda8331d761",
   "metadata": {},
   "outputs": [
    {
     "data": {
      "text/plain": [
       "array([ True,  True, False,  True,  True, False, False, False, False,\n",
       "        True,  True, False, False,  True, False,  True,  True, False,\n",
       "        True, False, False,  True, False, False,  True,  True, False,\n",
       "       False, False, False,  True,  True, False, False,  True, False,\n",
       "        True, False, False, False, False, False, False,  True, False,\n",
       "        True,  True, False,  True,  True, False,  True, False, False,\n",
       "       False,  True, False, False,  True, False,  True, False, False,\n",
       "        True,  True, False,  True, False, False,  True,  True, False,\n",
       "       False,  True, False, False,  True, False,  True,  True, False,\n",
       "        True, False, False,  True,  True, False, False,  True, False,\n",
       "        True,  True, False,  True, False, False, False, False, False,\n",
       "        True])"
      ]
     },
     "execution_count": 3,
     "metadata": {},
     "output_type": "execute_result"
    }
   ],
   "source": [
    "# create the binary pattern for 11-rough numbers - note - we only look at the odd numbers\n",
    "try:\n",
    "    G11 = np.load(\"G11uint.npy\")\n",
    "except FileNotFoundError:\n",
    "    print(\"File G11uint.npy not found!\")\n",
    "    sys.exit()\n",
    "    \n",
    "rough11 = np.zeros(1155, dtype=bool)\n",
    "i=0\n",
    "j=0\n",
    "while (i < 1155):\n",
    "    rough11[i]=True\n",
    "    i += int(G11[j]/2)\n",
    "    j += 1\n",
    "\n",
    "rough11[-100:]"
   ]
  },
  {
   "cell_type": "code",
   "execution_count": 4,
   "id": "324ef581-9312-49c8-9c5a-5a32f610b5ea",
   "metadata": {},
   "outputs": [],
   "source": [
    "# identify the primes among odd numbers in a block of size blocklength starting at x0\n",
    "# this version repeats the pattern from G(11#) to accelerate execution.\n",
    "# \n",
    "def pblock11(x0, blocklength):\n",
    "    maxp = np.floor(np.sqrt(x0+2*blocklength))\n",
    "    if (maxp > smallprimes[-1]):\n",
    "        print(f\"ERROR: need prime {maxp} beyond available list {smallprimes[-1]}\")\n",
    "        return\n",
    "\n",
    "    if (x0 <= maxp):  # the starting point is within the range of primes needed in the calculation\n",
    "        xx0 = maxp\n",
    "    else:\n",
    "        xx0 = x0\n",
    "\n",
    "    if ((xx0 % 2) == 0):  # our starting point xx0 must be odd\n",
    "        xx0 = xx0+1\n",
    "\n",
    "    # value associated to index i is xx0+2i\n",
    "    # initialize the array with the pattern from G(11#)\n",
    "    # \n",
    "    res0 = int(xx0 % 2310)\n",
    "    i = int((res0 - 1)/2)  # map value to index in boolean block over odd numbers\n",
    "    ncopies = int(np.ceil(blocklength / 1155))\n",
    "    adj_blocklen = ncopies * 1155\n",
    "\n",
    "    # if needed, adjust the maximum prime that we need to check\n",
    "    maxp1 = np.floor(np.sqrt(xx0 + 2*adj_blocklen))\n",
    "    if maxp1 > maxp:\n",
    "        print(f\"Adjusted maxp {maxp} {blocklength} to {maxp1} {adj_blocklen}\")\n",
    "        maxp = maxp1\n",
    "    \n",
    "    if (i == 0):\n",
    "        is_prime = np.tile(rough11, ncopies)\n",
    "    else:\n",
    "        shifted_rough11 = np.concatenate((rough11[i:],rough11[0:i]))\n",
    "        is_prime = np.tile(shifted_rough11, ncopies)\n",
    "\n",
    "#    is_prime = np.ones(blocklength,dtype=bool)\n",
    "    print(f\"res0 {res0} i {i} x0 {xx0} block {len(is_prime)} pbound {maxp}\")\n",
    "\n",
    "    i=4 # index for smallprimes, start at p=13\n",
    "    j=0 # index for testlength\n",
    "    p = smallprimes[i]\n",
    "    if (p != 13):\n",
    "        print(f\"i {i} prime {p} should be 13\")\n",
    "        return\n",
    "        \n",
    "    while (p < maxp):\n",
    "        if (p < 3000000):\n",
    "            print(f\"checking {p} of {maxp}\", end='\\r')\n",
    "        elif ( (i % 1024) == 0):\n",
    "            print(f\"{i} checking {p} of {maxp}\", end='\\r')\n",
    "            \n",
    "        res0 = xx0 % p  # starting residue\n",
    "        delta0 = int(p - res0)\n",
    "        if (res0 == 0):\n",
    "            j = 0\n",
    "        elif ((delta0 % 2) ==0):\n",
    "            j = int(delta0 /2)\n",
    "        else:\n",
    "            j = int((p+delta0)/2)\n",
    "        while (j < adj_blocklen):\n",
    "            is_prime[j] = False\n",
    "            j += p\n",
    "        i += 1\n",
    "        p = smallprimes[i]\n",
    "\n",
    "    pdexes = np.array(np.where(is_prime))\n",
    "    pdexes.shape\n",
    "\n",
    "    newprimes = (2*pdexes[0]+xx0)\n",
    "    print()\n",
    "    print(f\"at {i} {len(newprimes)} primes from {newprimes[0]} to {newprimes[-1]}\")\n",
    "    return newprimes"
   ]
  },
  {
   "cell_type": "code",
   "execution_count": 5,
   "id": "391551c2-6b5b-49d3-81bc-8a092c3d486c",
   "metadata": {},
   "outputs": [
    {
     "name": "stdout",
     "output_type": "stream",
     "text": [
      "primesE9 51961553 primes from 3 to 1023094327\n"
     ]
    }
   ],
   "source": [
    "# find our starting point - \n",
    "if os.path.exists('primesE9.npy'):\n",
    "    primesE9 = np.load('primesE9.npy')\n",
    "    print(f\"primesE9 {len(primesE9)} primes from {primesE9[0]} to {primesE9[-1]}\")\n",
    "    smallprimes = primesE9\n",
    "elif os.path.exists('primes23.npy'):\n",
    "    primes23 = np.load('primes23.npy')\n",
    "    print(f\"primes23 {len(primes23)} primes from {primes23[0]} to {primes23[-1]}\")\n",
    "    smallprimes = np.concatenate(([3,5,7,11,13,19,23],primes23))\n",
    "    # Create primesE9\n",
    "    x0 = smallprimes[-1]\n",
    "    ext_length = 400000000\n",
    "    prime_extension = pblock11(x0,ext_length)\n",
    "    # store primesE9 to file for future use\n",
    "    smallprimes = np.concatenate(([3,5,7,11,13,17,19,23],primes23[0:],prime_extension[1:]))\n",
    "    np.save('primesE9.npy', smallprimes)\n",
    "else:\n",
    "    print(\"ERROR:  we need primes23.npy to start\")\n",
    "    sys.exit()"
   ]
  },
  {
   "cell_type": "markdown",
   "id": "5ca9513e-3b6b-467f-afa5-ca070daf6819",
   "metadata": {},
   "source": [
    "## Example usage of pblock11()\n",
    "We set a starting point $x_0$ for the search.  $x_0$ should be a large odd integer.\n",
    "The requested interval over which we search begins at $x_0$ and runs 2*<i>blocklength</i>.  We invoke <i>pblock11(x0, blocklength)</i>\n",
    "with the parameter <i>blocklength</i>, and since we only search over odd numbers"
   ]
  },
  {
   "cell_type": "code",
   "execution_count": 6,
   "id": "3a3f2c95-6173-4dd0-b583-6af001fd246c",
   "metadata": {},
   "outputs": [
    {
     "name": "stdout",
     "output_type": "stream",
     "text": [
      "res0 2151 i 1075 x0 1042480837758600081 block 900000255 pbound 1021019509.0\n",
      "51861504 checking 1021018513 of 1021019509.0\n",
      "43387768 primes from 1042480837758600169 to 1042480839558600569\n"
     ]
    }
   ],
   "source": [
    "# test cell\n",
    "# we want to focus on intervals of survival, so start at a prime-square and allow for the square falling in a large gap\n",
    "x0 = smallprimes[-100000]**2 - 1000  \n",
    "testlength = 900000000\n",
    "ptrial = pblock11(x0,testlength)"
   ]
  },
  {
   "cell_type": "code",
   "execution_count": 11,
   "id": "afb1ca75-9c0c-433a-b0e6-e5be2f5eb7f7",
   "metadata": {},
   "outputs": [
    {
     "name": "stdout",
     "output_type": "stream",
     "text": [
      "[1042480837758600169 1042480837758600173 1042480837758600179\n",
      " 1042480837758600209 1042480837758600211 1042480837758600223\n",
      " 1042480837758600287 1042480837758600319 1042480837758600371\n",
      " 1042480837758600403 1042480837758600463 1042480837758600473\n",
      " 1042480837758600503 1042480837758600563 1042480837758600571\n",
      " 1042480837758600593 1042480837758600629 1042480837758600671\n",
      " 1042480837758600677 1042480837758600689 1042480837758600809\n",
      " 1042480837758600841 1042480837758600923 1042480837758600949\n",
      " 1042480837758601049 1042480837758601061 1042480837758601081\n",
      " 1042480837758601121 1042480837758601237 1042480837758601301]\n",
      "\n",
      "[1042480839558599041 1042480839558599053 1042480839558599179\n",
      " 1042480839558599209 1042480839558599249 1042480839558599393\n",
      " 1042480839558599401 1042480839558599437 1042480839558599501\n",
      " 1042480839558599557 1042480839558599591 1042480839558599671\n",
      " 1042480839558599699 1042480839558599743 1042480839558599893\n",
      " 1042480839558599921 1042480839558599971 1042480839558599977\n",
      " 1042480839558600017 1042480839558600139 1042480839558600217\n",
      " 1042480839558600227 1042480839558600251 1042480839558600317\n",
      " 1042480839558600341 1042480839558600361 1042480839558600373\n",
      " 1042480839558600487 1042480839558600499 1042480839558600569]\n"
     ]
    }
   ],
   "source": [
    "# visually check the result...\n",
    "print(ptrial[0:30])\n",
    "print()\n",
    "print(ptrial[-30:])"
   ]
  },
  {
   "cell_type": "markdown",
   "id": "c6729282-6b5e-4b68-908a-f7f0e34f458b",
   "metadata": {},
   "source": [
    "## File naming convention\n",
    "To organize the files of the saved arrays of primes we use the following naming convention.\n",
    "\n",
    "Each file begins with the prefix <i>primeblock</i> followed by a reverse scientific notation, the <i>E</i> value (the exponent)\n",
    "followed by an underscore and then the first three digits of the coefficient, for the largest prime in the array."
   ]
  },
  {
   "cell_type": "code",
   "execution_count": 13,
   "id": "467d15ce-6f2c-4272-a784-124ed41bce8b",
   "metadata": {},
   "outputs": [],
   "source": [
    "# SAVE this data for use in other modules\n",
    "# we comment out these lines to prevent accidental clobbering of the existing files\n",
    "# np.save('primeblockEXX.npy',ptrial)"
   ]
  },
  {
   "cell_type": "code",
   "execution_count": null,
   "id": "619ef93b-8f12-44e2-b529-29be1d753c1f",
   "metadata": {},
   "outputs": [],
   "source": []
  },
  {
   "cell_type": "raw",
   "id": "a95e147d-8ce5-408e-b989-1cb20d768542",
   "metadata": {},
   "source": [
    "# RAW STORAGE of older versions of pblock below, for reference"
   ]
  },
  {
   "cell_type": "raw",
   "id": "401629dc-3989-4ca3-a7bb-537752123213",
   "metadata": {},
   "source": [
    "# OLDER VERSION. Using G(7#) as a pattern for initiating the search over the requested interval.\n",
    "# create the binary pattern for 7-rough numbers - note - we only look at the odd numbers\n",
    "G7 = np.array([10,2,4,2,4,6,2,6,4,2,4,6,6,2,6,4,2,6,4,6,8,4,2,4,2,4,8,6,4,6,2,4,6,2,6,6,4,2,4,6,2,6,4,2,4,2,10,2], dtype=np.uint16)\n",
    "rough7 = np.zeros(105, dtype=bool)\n",
    "i=0\n",
    "j=0\n",
    "while (i < 105):\n",
    "    rough7[i]=True\n",
    "    i += int(G7[j]/2)\n",
    "    j += 1\n",
    "\n",
    "rough7"
   ]
  },
  {
   "cell_type": "raw",
   "id": "4961a633-f583-4803-818b-dc6d9a9f334c",
   "metadata": {},
   "source": [
    "# identify the primes among odd numbers in a block of size blocklength starting at x0\n",
    "# this version repeats the pattern from G(7#) to accelerate execution.\n",
    "def pblock7(x0, blocklength):\n",
    "    maxp = np.floor(np.sqrt(x0+2*blocklength))\n",
    "\n",
    "    if (x0 <= maxp):  # the starting point is within the range of primes needed in the calculation\n",
    "        xx0 = maxp\n",
    "    else:\n",
    "        xx0 = x0\n",
    "\n",
    "    if ((xx0 % 2) == 0):  # our starting point xx0 must be odd\n",
    "        xx0 = xx0+1\n",
    "\n",
    "    # value associated to index i is xx0+2i\n",
    "    # initialize the array with the pattern from G(7#)\n",
    "    res0 = int(xx0 % 210)\n",
    "    i = int((res0 - 1)/2)  # map value to index in boolean block over odd numbers\n",
    "    ncopies = int(np.ceil(blocklength / 105))\n",
    "    adj_blocklen = ncopies * 105\n",
    "\n",
    "    # if needed, adjust the maximum prime that we need to check\n",
    "    maxp1 = np.floor(np.sqrt(xx0 + 2*adj_blocklen))\n",
    "    if maxp1 > maxp:\n",
    "        print(f\"Adjusted maxp {maxp} {blocklength} to {maxp1} {adj_blocklen}\")\n",
    "        maxp = maxp1\n",
    "    \n",
    "    if (i == 0):\n",
    "        is_prime = np.tile(rough7, ncopies)\n",
    "    else:\n",
    "        shifted_rough7 = np.concatenate((rough7[i:],rough7[0:i]))\n",
    "        is_prime = np.tile(shifted_rough7, ncopies)\n",
    "        print(shifted_rough7)\n",
    "\n",
    "#    is_prime = np.ones(blocklength,dtype=bool)\n",
    "    print(f\"res0 {res0} i {i} x0 {xx0} block {len(is_prime)} maxp {maxp}\")\n",
    "\n",
    "    i=3 # index for primeslist, start at p=11\n",
    "    j=0 # index for testlength\n",
    "    p = primeslist[i]\n",
    "\n",
    "        \n",
    "    while (p < maxp):\n",
    "        if (p < 3000000):\n",
    "            print(f\"checking {p} of {maxp}\", end='\\r')\n",
    "        elif ( (i % 1024) == 0):\n",
    "            print(f\"{i} checking {p} of {maxp}\", end='\\r')\n",
    "            \n",
    "        res0 = xx0 % p  # starting residue\n",
    "        delta0 = int(p - res0)\n",
    "        if (res0 == 0):\n",
    "            j = 0\n",
    "        elif ((delta0 % 2) ==0):\n",
    "            j = int(delta0 /2)\n",
    "        else:\n",
    "            j = int((p+delta0)/2)\n",
    "        while (j < adj_blocklen):\n",
    "            is_prime[j] = False\n",
    "            j += p\n",
    "        i += 1\n",
    "        p = primeslist[i]\n",
    "\n",
    "    pdexes = np.array(np.where(is_prime))\n",
    "    pdexes.shape\n",
    "\n",
    "    newprimes = (2*pdexes[0]+xx0)\n",
    "    print()\n",
    "    print(f\"{len(newprimes)} primes from {newprimes[0]} to {newprimes[-1]}\")\n",
    "    return newprimes"
   ]
  },
  {
   "cell_type": "raw",
   "id": "0bbb32b8-ba9e-4132-bd28-0c89fb42a421",
   "metadata": {},
   "source": [
    "# test cell for pblock7\n",
    "pfacmax = primeslist[-5]\n",
    "x0 = pfacmax**2 - 1000  # we want to focus on intervals of survival, so we start at a square and allow for starting in a large gap\n",
    "x0\n",
    "testlength = 900000000\n",
    "ptrial2 = pblock7(x0,testlength)"
   ]
  },
  {
   "cell_type": "raw",
   "id": "7439381e-3a46-4138-9cb4-334d6fdc3ba0",
   "metadata": {},
   "source": [
    "# ORIGINAL VERSION - for reference only.  Versions with more efficient starts are recorded below.\n",
    "# identify the primes among odd numbers in a block of size blocklength starting at x0\n",
    "# Versions with more efficient starts are recorded below.\n",
    "def pblock(x0, blocklength):\n",
    "    i=0 # index for primeslist, start at p=3\n",
    "    j=0 # index for testlength\n",
    "    p = primeslist[i]\n",
    "    maxp = np.sqrt(x0+2*blocklength)\n",
    "\n",
    "    # value associated to index i is xx0+2i\n",
    "    is_prime = np.ones(blocklength,dtype=bool)\n",
    "    print(f\"x0 {x0} block {len(is_prime)} maxp {maxp}\")\n",
    "\n",
    "    if (x0 <= maxp):  # the starting point is within the range of primes needed in the calculation\n",
    "        xx0 = maxp\n",
    "    else:\n",
    "        xx0 = x0\n",
    "\n",
    "    if ((xx0 % 2) == 0):  # our starting point xx0 must be odd\n",
    "        xx0 = xx0+1\n",
    "        \n",
    "    while (p < maxp):\n",
    "        if (p < 3000000):\n",
    "            print(f\"checking {p} of {maxp}\", end='\\r')\n",
    "        elif ( (i % 1024) == 0):\n",
    "            print(f\"{i} checking {p} of {maxp}\", end='\\r')\n",
    "\n",
    "        res0 = xx0 % p  # starting residue\n",
    "        delta0 = int(p - res0)\n",
    "        if (res0 == 0):\n",
    "            j = 0\n",
    "        elif ((delta0 % 2) ==0):\n",
    "            j = int(delta0 /2)\n",
    "        else:\n",
    "            j = int((p+delta0)/2)\n",
    "        while (j < blocklength):\n",
    "            is_prime[j] = False\n",
    "            j += p\n",
    "        i += 1\n",
    "        p = primeslist[i]\n",
    "\n",
    "    pdexes = np.array(np.where(is_prime))\n",
    "    pdexes.shape\n",
    "\n",
    "    newprimes = (2*pdexes[0]+xx0)\n",
    "    print(f\"{len(newprimes)} primes from {newprimes[0]} to {newprimes[-1]}\")\n",
    "    return newprimes"
   ]
  }
 ],
 "metadata": {
  "kernelspec": {
   "display_name": "Python 3 (ipykernel)",
   "language": "python",
   "name": "python3"
  },
  "language_info": {
   "codemirror_mode": {
    "name": "ipython",
    "version": 3
   },
   "file_extension": ".py",
   "mimetype": "text/x-python",
   "name": "python",
   "nbconvert_exporter": "python",
   "pygments_lexer": "ipython3",
   "version": "3.11.5"
  }
 },
 "nbformat": 4,
 "nbformat_minor": 5
}
