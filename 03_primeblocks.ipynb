{
 "cells": [
  {
   "cell_type": "markdown",
   "id": "f384379b-bad6-4c4f-b8c6-62dfc9957cb4",
   "metadata": {},
   "source": [
    "# Utility code for identifying primes within an interval\n",
    "This is very specific code for identifying arrays of consecutive primes within an interval.\n",
    "The interval is defined by its starting point $x_0$ and its length 2*<i>blocklength</i>.  Since our algorithm only\n",
    "searches over odd numbers, the parameter <i>blocklength</i> effects a search from $x_0$ to $x_0 + 2\\cdot {\\rm blocklength}$.\n",
    "\n",
    "The search is performed by the function <i>pblock11()</i>.  This is Eratosthenes sieve with a couple of accelerations.  We search\n",
    "only over odd numbers, each odd number is represented by a single bit in a boolean array, and we initialize the array with the\n",
    "pattern from ${\\mathcal G}(11^\\#)$.  So the iterations start from $p=13$.\n",
    "\n",
    "Our search is conducted by eliminating multiples of the primes in the array <i>smallprimes[]</i>.  So the range of our search\n",
    "wanes at <i>smallprimes[-1]**2</i>, the square of the largest prime in this array."
   ]
  },
  {
   "cell_type": "code",
   "execution_count": 1,
   "id": "cc896f02-c202-4b06-a040-0011e9a069bd",
   "metadata": {},
   "outputs": [],
   "source": [
    "import numpy as np\n",
    "import array\n",
    "import gc\n",
    "import psutil\n",
    "import sys\n",
    "import os"
   ]
  },
  {
   "cell_type": "code",
   "execution_count": 2,
   "id": "fb28b857-01d6-44ee-8e9f-891159afc566",
   "metadata": {},
   "outputs": [
    {
     "name": "stdout",
     "output_type": "stream",
     "text": [
      "Available memory: 3340.66 MB\n"
     ]
    }
   ],
   "source": [
    "# block to check the available system memory\n",
    "gc.collect()\n",
    "memory = psutil.virtual_memory()\n",
    "available_memory = memory.available\n",
    "del memory\n",
    "print(f\"Available memory: {available_memory / (1024 ** 2):.2f} MB\")"
   ]
  },
  {
   "cell_type": "code",
   "execution_count": 3,
   "id": "e1ba6058-a6cd-4e5a-b827-2bda8331d761",
   "metadata": {},
   "outputs": [
    {
     "data": {
      "text/plain": [
       "array([ True,  True, False,  True,  True, False, False, False, False,\n",
       "        True,  True, False, False,  True, False,  True,  True, False,\n",
       "        True, False, False,  True, False, False,  True,  True, False,\n",
       "       False, False, False,  True,  True, False, False,  True, False,\n",
       "        True, False, False, False, False, False, False,  True, False,\n",
       "        True,  True, False,  True,  True, False,  True, False, False,\n",
       "       False,  True, False, False,  True, False,  True, False, False,\n",
       "        True,  True, False,  True, False, False,  True,  True, False,\n",
       "       False,  True, False, False,  True, False,  True,  True, False,\n",
       "        True, False, False,  True,  True, False, False,  True, False,\n",
       "        True,  True, False,  True, False, False, False, False, False,\n",
       "        True])"
      ]
     },
     "execution_count": 3,
     "metadata": {},
     "output_type": "execute_result"
    }
   ],
   "source": [
    "# create the binary pattern for 11-rough numbers - note - we only look at the odd numbers\n",
    "try:\n",
    "    G11 = np.load(\"G11uint.npy\")\n",
    "except FileNotFoundError:\n",
    "    print(\"File G11uint.npy not found!\")\n",
    "    sys.exit()\n",
    "    \n",
    "rough11 = np.zeros(1155, dtype=bool)\n",
    "i=0\n",
    "j=0\n",
    "while (i < 1155):\n",
    "    rough11[i]=True\n",
    "    i += int(G11[j]/2)\n",
    "    j += 1\n",
    "\n",
    "rough11[-100:]"
   ]
  },
  {
   "cell_type": "code",
   "execution_count": 4,
   "id": "324ef581-9312-49c8-9c5a-5a32f610b5ea",
   "metadata": {},
   "outputs": [],
   "source": [
    "# identify the primes among odd numbers in a block of size blocklength starting at x0\n",
    "# this version repeats the pattern from G(11#) to accelerate execution.\n",
    "# \n",
    "def pblock11(x0, blocklength):\n",
    "    maxp = np.floor(np.sqrt(x0+2*blocklength))\n",
    "    if (maxp > smallprimes[-1]):\n",
    "        print(f\"ERROR: need prime {maxp} beyond available list {smallprimes[-1]}\")\n",
    "        return\n",
    "\n",
    "    if (x0 <= maxp):  # the starting point is within the range of primes needed in the calculation\n",
    "        xx0 = maxp\n",
    "    else:\n",
    "        xx0 = x0\n",
    "\n",
    "    if ((xx0 % 2) == 0):  # our starting point xx0 must be odd\n",
    "        xx0 = xx0+1\n",
    "\n",
    "    # value associated to index i is xx0+2i\n",
    "    # initialize the array with the pattern from G(11#)\n",
    "    # \n",
    "    res0 = int(xx0 % 2310)\n",
    "    i = int((res0 - 1)/2)  # map value to index in boolean block over odd numbers\n",
    "    ncopies = int(np.ceil(blocklength / 1155))\n",
    "    adj_blocklen = ncopies * 1155\n",
    "\n",
    "    # if needed, adjust the maximum prime that we need to check\n",
    "    maxp1 = np.floor(np.sqrt(xx0 + 2*adj_blocklen))\n",
    "    if maxp1 > maxp:\n",
    "        print(f\"Adjusted maxp {maxp} {blocklength} to {maxp1} {adj_blocklen}\")\n",
    "        maxp = maxp1\n",
    "    \n",
    "    if (i == 0):\n",
    "        is_prime = np.tile(rough11, ncopies)\n",
    "    else:\n",
    "        shifted_rough11 = np.concatenate((rough11[i:],rough11[0:i]))\n",
    "        is_prime = np.tile(shifted_rough11, ncopies)\n",
    "\n",
    "#    is_prime = np.ones(blocklength,dtype=bool)\n",
    "    print(f\"res0 {res0} i {i} x0 {xx0} block {len(is_prime)} pbound {maxp}\")\n",
    "\n",
    "    i=4 # index for smallprimes, start at p=13\n",
    "    j=0 # index for testlength\n",
    "    p = smallprimes[i]\n",
    "    if (p != 13):\n",
    "        print(f\"i {i} prime {p} should be 13\")\n",
    "        return\n",
    "        \n",
    "    while (p < maxp):\n",
    "        if (p < 3000000):\n",
    "            print(f\"checking {p} of {maxp}\", end='\\r')\n",
    "        elif ( (i % 1024) == 0):\n",
    "            print(f\"{i} checking {p} of {maxp}\", end='\\r')\n",
    "            \n",
    "        res0 = xx0 % p  # starting residue\n",
    "        delta0 = int(p - res0)\n",
    "        if (res0 == 0):\n",
    "            j = 0\n",
    "        elif ((delta0 % 2) ==0):\n",
    "            j = int(delta0 /2)\n",
    "        else:\n",
    "            j = int((p+delta0)/2)\n",
    "        while (j < adj_blocklen):\n",
    "            is_prime[j] = False\n",
    "            j += p\n",
    "        i += 1\n",
    "        p = smallprimes[i]\n",
    "\n",
    "    pdexes = np.array(np.where(is_prime))\n",
    "    pdexes.shape\n",
    "\n",
    "    newprimes = (2*pdexes[0]+xx0)\n",
    "    print()\n",
    "    print(f\"at {i} {len(newprimes)} primes from {newprimes[0]} to {newprimes[-1]}\")\n",
    "    return newprimes"
   ]
  },
  {
   "cell_type": "code",
   "execution_count": 5,
   "id": "391551c2-6b5b-49d3-81bc-8a092c3d486c",
   "metadata": {},
   "outputs": [
    {
     "name": "stdout",
     "output_type": "stream",
     "text": [
      "primesE9 51961884 primes from 3 to 1023101273\n"
     ]
    }
   ],
   "source": [
    "# generate the small primes that we need for creating sequences of consecutive primes among large numbers\n",
    "# Our searches are limited by p^2 for the largest of the small primes p.\n",
    "# Establish the small primes that we need, up over a billion - \n",
    "if os.path.exists('primesE9.npy'):\n",
    "    primesE9 = np.load('primesE9.npy')\n",
    "    print(f\"primesE9 {len(primesE9)} primes from {primesE9[0]} to {primesE9[-1]}\")\n",
    "    smallprimes = primesE9\n",
    "elif os.path.exists('primes23.npy'):\n",
    "    primes23 = np.load('primes23.npy')\n",
    "    print(f\"primes23 {len(primes23)} primes from {primes23[0]} to {primes23[-2]}\")\n",
    "    smallprimes = np.concatenate(([3,5,7,11,13,17,19,23],primes23[:-1]))\n",
    "    # Create primesE9\n",
    "    x0 = smallprimes[-2]+2\n",
    "    ext_length = 400001000\n",
    "    prime_extension = pblock11(x0,ext_length)\n",
    "    # store primesE9 to file for future use\n",
    "    smallprimes = np.concatenate((smallprimes[:-1],prime_extension))\n",
    "    np.save('primesE9.npy', smallprimes)\n",
    "elif os.path.exists('primes19.npy'):\n",
    "    primes19 = np.load('primes19.npy')\n",
    "    print(f\"primes19 {len(primes19)} primes from {primes19[0]} to {primes19[-2]}\")\n",
    "    smallprimes = np.concatenate(([3,5,7,11,13,17,19],primes19[:-1]))\n",
    "    # Create primesE9\n",
    "    x0 = smallprimes[-2]+2\n",
    "    ext_length = 506700000\n",
    "    prime_extension = pblock11(x0,ext_length)\n",
    "    # store primesE9 to file for future use\n",
    "    smallprimes = np.concatenate((smallprimes[:-1],prime_extension))\n",
    "    np.save('primesE9.npy', smallprimes)\n",
    "else:\n",
    "    print(\"ERROR:  we need at least primes19.npy to start\")\n",
    "    sys.exit()"
   ]
  },
  {
   "cell_type": "code",
   "execution_count": 6,
   "id": "744b1830-3aa6-4c7a-9925-f3c628faa6b1",
   "metadata": {},
   "outputs": [
    {
     "name": "stdout",
     "output_type": "stream",
     "text": [
      "51961884 primes from 3 to 1023101273\n"
     ]
    }
   ],
   "source": [
    "print(f\"{len(smallprimes)} primes from {smallprimes[0]} to {smallprimes[-1]}\")"
   ]
  },
  {
   "cell_type": "code",
   "execution_count": 7,
   "id": "dee8544e-c22c-4809-ba1d-66f95f4a0351",
   "metadata": {},
   "outputs": [
    {
     "data": {
      "text/plain": [
       "np.int64(447216097)"
      ]
     },
     "execution_count": 7,
     "metadata": {},
     "output_type": "execute_result"
    }
   ],
   "source": [
    "smallprimes[23713133]"
   ]
  },
  {
   "cell_type": "raw",
   "id": "150069ba-170a-4fa3-b5dd-f71fb5b78534",
   "metadata": {},
   "source": [
    "check prime values at index i=23713015\n",
    "[447213607 447213619 447213623 447213643 447213649 447213673]"
   ]
  },
  {
   "cell_type": "markdown",
   "id": "5ca9513e-3b6b-467f-afa5-ca070daf6819",
   "metadata": {},
   "source": [
    "## Example usage of pblock11()\n",
    "We set a starting point $x_0$ for the search.  $x_0$ should be a large odd integer.\n",
    "The requested interval over which we search begins at $x_0$ and runs 2*<i>blocklength</i>.  We invoke <i>pblock11(x0, blocklength)</i>\n",
    "with the parameter <i>blocklength</i>, and since we only search over odd numbers"
   ]
  },
  {
   "cell_type": "code",
   "execution_count": 71,
   "id": "3a3f2c95-6173-4dd0-b583-6af001fd246c",
   "metadata": {},
   "outputs": [
    {
     "name": "stdout",
     "output_type": "stream",
     "text": [
      "Searching for primes starting at 640001599501\n",
      "res0 1111 i 555 x0 640001599501 block 900000255 pbound 801125.0\n",
      "checking 801107 of 801125.0\n",
      "at 64045 66214780 primes from 640001599543 to 641801599973\n"
     ]
    }
   ],
   "source": [
    "# test cell\n",
    "# we want to focus on intervals of survival, so start at a prime-square and allow for the square falling in a large gap\n",
    "# x0 = smallprimes[-200]**2 - 1000  \n",
    "# x0 = smallprimes[-8]**2 - 600  # this value starts a gap of 2\n",
    "# x0 = smallprimes[1496935]**2-600  # this value starts a constellation of 2 4\n",
    "# x0 = smallprimes[23713133]**2-600  # this value starts a constellation of 4 2\n",
    "x0 = 800001**2-500\n",
    "testlength = 900000000\n",
    "print(f\"Searching for primes starting at {x0}\")\n",
    "ptrial = pblock11(x0,testlength)"
   ]
  },
  {
   "cell_type": "code",
   "execution_count": 72,
   "id": "afb1ca75-9c0c-433a-b0e6-e5be2f5eb7f7",
   "metadata": {},
   "outputs": [
    {
     "name": "stdout",
     "output_type": "stream",
     "text": [
      "from E11.806181 to E11.807401\n",
      "[640001599543 640001599571 640001599591 640001599607 640001599663\n",
      " 640001599697 640001599703 640001599729 640001599747 640001599777\n",
      " 640001599781 640001599801 640001599843 640001599847 640001599883\n",
      " 640001599903 640001599969 640001600023 640001600057 640001600081\n",
      " 640001600089 640001600113 640001600159 640001600221 640001600237\n",
      " 640001600263 640001600327 640001600333 640001600377 640001600389]\n",
      "\n",
      "[641801599379 641801599429 641801599457 641801599459 641801599463\n",
      " 641801599501 641801599513 641801599519 641801599529 641801599547\n",
      " 641801599597 641801599603 641801599627 641801599631 641801599643\n",
      " 641801599667 641801599687 641801599723 641801599729 641801599781\n",
      " 641801599787 641801599793 641801599847 641801599853 641801599877\n",
      " 641801599891 641801599909 641801599939 641801599961 641801599973]\n"
     ]
    }
   ],
   "source": [
    "# visually check the result...\n",
    "print(f\"from E{np.log10(ptrial[0]):8f} to E{np.log10(ptrial[-1]):8f}\")\n",
    "print(ptrial[0:30])\n",
    "print()\n",
    "print(ptrial[-30:])\n"
   ]
  },
  {
   "cell_type": "markdown",
   "id": "e388df89-c0a5-45b7-8a2d-81a7d67371e4",
   "metadata": {},
   "source": [
    "### Extending a block\n",
    "The function <i>extendblock()</i> takes an array of primes as input and appends the block of primes that follows"
   ]
  },
  {
   "cell_type": "code",
   "execution_count": 8,
   "id": "55327198-eb78-45f7-b217-785f144527f1",
   "metadata": {},
   "outputs": [],
   "source": [
    "def extendblock(prefix_block, blocklength):\n",
    "    # for large samples \n",
    "    x0 = prefix_block[-1]+2\n",
    "    extension_block = pblock11(x0, blocklength)\n",
    "    primecombined = np.concatenate((prefix_block,extension_block))\n",
    "    print(f\"prefix length {len(prefix_block)} min {np.sqrt(prefix_block[0]):.2f}:{prefix_block[0]} max {np.sqrt(prefix_block[-1]):.2f}:{prefix_block[-1]}\")\n",
    "    print(f\"extension length {len(extension_block)} min {np.sqrt(extension_block[0]):.2f}:{extension_block[0]} max {np.sqrt(extension_block[-1]):.2f}:{extension_block[-1]}\")\n",
    "    print(f\"combined length {len(primecombined)} min {np.sqrt(primecombined[0]):.2f}:{primecombined[0]} max {np.sqrt(primecombined[-1]):.2f}:{primecombined[-1]}\")\n",
    "\n",
    "    return primecombined"
   ]
  },
  {
   "cell_type": "code",
   "execution_count": 73,
   "id": "2df958f7-d008-4ca5-8425-74e0ffa08736",
   "metadata": {},
   "outputs": [],
   "source": [
    "# we comment out the save commands to protect existing files\n",
    "# np.save('primeblockE11_640.npy',ptrial)"
   ]
  },
  {
   "cell_type": "code",
   "execution_count": 9,
   "id": "335bc20c-7eef-47a5-bb01-8d40e9ae0da5",
   "metadata": {},
   "outputs": [
    {
     "data": {
      "text/plain": [
       "(51961884, np.int64(1023101273))"
      ]
     },
     "execution_count": 9,
     "metadata": {},
     "output_type": "execute_result"
    }
   ],
   "source": [
    "# Using extendblock() to increase the array of small primes\n",
    "len(smallprimes), smallprimes[-1]"
   ]
  },
  {
   "cell_type": "code",
   "execution_count": 10,
   "id": "cb857a11-1d1c-44a5-8567-2f2bee56a068",
   "metadata": {},
   "outputs": [
    {
     "name": "stdout",
     "output_type": "stream",
     "text": [
      "res0 2275 i 1137 x0 1023101275 block 900000255 pbound 53132.0\n",
      "checking 53129 of 53132.0\n",
      "at 5420 84370830 primes from 1023101357 to 2823101783\n",
      "prefix length 51961884 min 1.73:3 max 31985.95:1023101273\n",
      "extension length 84370830 min 31985.96:1023101357 max 53132.87:2823101783\n",
      "combined length 136332714 min 1.73:3 max 53132.87:2823101783\n"
     ]
    }
   ],
   "source": [
    "smallprimesB = extendblock(smallprimes, 900000000)"
   ]
  },
  {
   "cell_type": "code",
   "execution_count": 15,
   "id": "1eb6fca6-ec18-4cdb-8185-33513c4a7c2f",
   "metadata": {},
   "outputs": [
    {
     "data": {
      "text/plain": [
       "(136332714,\n",
       " np.int64(2823101783),\n",
       " array([1023101269, 1023101273, 1023101357, 1023101363, 1023101377,\n",
       "        1023101383]))"
      ]
     },
     "execution_count": 15,
     "metadata": {},
     "output_type": "execute_result"
    }
   ],
   "source": [
    "len(smallprimesB), smallprimesB[-1], smallprimesB[51961882:51961888]"
   ]
  },
  {
   "cell_type": "code",
   "execution_count": 16,
   "id": "932f0050-16bf-498e-a804-20c24f4dbb0e",
   "metadata": {},
   "outputs": [
    {
     "name": "stdout",
     "output_type": "stream",
     "text": [
      "res0 2275 i 1137 x0 2823101785 block 900000255 pbound 67993.0\n",
      "checking 67987 of 67993.0\n",
      "at 6772 81716615 primes from 2823101791 to 4623102269\n",
      "prefix length 136332714 min 1.73:3 max 53132.87:2823101783\n",
      "extension length 81716615 min 53132.87:2823101791 max 67993.40:4623102269\n",
      "combined length 218049329 min 1.73:3 max 67993.40:4623102269\n"
     ]
    }
   ],
   "source": [
    "smallprimesC = extendblock(smallprimesB, 900000000)"
   ]
  },
  {
   "cell_type": "code",
   "execution_count": 17,
   "id": "4f7e55b0-6af6-489b-9a9b-fbc61bbf3819",
   "metadata": {},
   "outputs": [
    {
     "data": {
      "text/plain": [
       "(218049329, np.int64(4623102269))"
      ]
     },
     "execution_count": 17,
     "metadata": {},
     "output_type": "execute_result"
    }
   ],
   "source": [
    "len(smallprimesC), smallprimesC[-1]"
   ]
  },
  {
   "cell_type": "code",
   "execution_count": 18,
   "id": "0c6b1816-2dc7-4470-b5ea-1eff20490859",
   "metadata": {},
   "outputs": [],
   "source": [
    "# np.save('primesE9_46.np', smallprimesC)"
   ]
  },
  {
   "cell_type": "markdown",
   "id": "25f37a5c-a331-43aa-8614-d16b29e1d76f",
   "metadata": {},
   "source": [
    "### Note: 2 Jun 2025 - constellations toward end of small primes\n",
    "We would like our samples of primes to include complete intervals of survival $\\Delta H(p)$.  Let $q$ be the next prime above $p$,\n",
    "and let $g=q-p$ be the gap between them.\n",
    "\n",
    "Then $\\Delta H(p) = [p^2,\\; q^2]$ with length\n",
    "$$| \\Delta H(p)| \\; = \\; q^2-p^2 \\; = \\; g \\cdot (2p+g) \\approx 2gp$$\n",
    "When $g << p$, the interval $\\Delta H(p)$ has length approximately proportional to $g$.\n",
    "\n",
    "Assuming the average gap size within $\\Delta H(p)$ does not vary significantly for nearby primes, the number of primes within adjacent\n",
    "intervals of survival will also be approximately proportional to $g$.  In $\\Delta H(p)$ we would expect the number of primes\n",
    "to be roughly\n",
    "$$ \\frac{q^2-p^2}{\\mu} \\; \\approx \\; \\frac{g \\cdot (2p+g)}{\\mu}$$.\n",
    "\n",
    "For the current array <i>smallprimes</i>, toward the largest of these primes, $q=1023094327$ and $\\mu \\approx 36.95036$.\n",
    "\n",
    "The gap $g=q-p$ is an even number, and for the smallest value $g=2$ we expect $\\Delta H(p)$ in this range to contain over 110 million\n",
    "primes.\n",
    "\n",
    "### An approach\n",
    "1. Pick a range for small prime $p$ for which we want to obtain a sample $\\Delta H(p)$.  <i>Example:</i> if we want a sample around $3.6E15$, we need to work with small primes $p \\approx 6E7$.\n",
    "2. Find a small prime $p$ in this range and get its index in the array <i>smallprimes[]</i>.\n",
    "3. Calculate a range of gaps around $p$\n",
    "4. Look for manageable gap sizes for which to create $\\Delta H(p_0)$.  Remember that the expected number of gaps in $\\Delta H(p_0)$ is $\\frac{g \\cdot (2p_0+g)}{\\mu}$"
   ]
  },
  {
   "cell_type": "code",
   "execution_count": 48,
   "id": "5b313298-62c6-422b-8431-87c998ae8cf9",
   "metadata": {},
   "outputs": [
    {
     "data": {
      "text/plain": [
       "array([ 2, 28, 72, 50, 16,  2, 12, 10, 20, 30,  6, 10, 12, 42,  6, 20, 10,\n",
       "       12,  2,  6, 10, 38,  6, 24, 12, 10,  8, 10, 24, 12, 14, 16,  6, 14,\n",
       "       58,  2, 28, 30,  8, 22, 20, 30, 10, 18, 14,  4,  6, 20, 18, 42, 36,\n",
       "       24,  4,  2, 18, 36,  4,  2, 34, 18,  8, 22,  8, 18,  4,  8, 12, 16,\n",
       "       26,  4, 24,  2, 40,  6,  2, 18,  4, 24,  2, 82, 30, 18,  8, 22, 30,\n",
       "       20, 12, 10,  6,  2, 10,  8,  6, 58, 18,  2,  6,  6, 16, 54, 24, 20])"
      ]
     },
     "execution_count": 48,
     "metadata": {},
     "output_type": "execute_result"
    }
   ],
   "source": [
    "smallprimes[-102:]-smallprimes[-103:-1]"
   ]
  },
  {
   "cell_type": "markdown",
   "id": "c6729282-6b5e-4b68-908a-f7f0e34f458b",
   "metadata": {},
   "source": [
    "## File naming convention\n",
    "To organize the files of the saved arrays of primes we use the following naming convention.\n",
    "\n",
    "Each file begins with the prefix <i>primeblock</i> followed by a reverse scientific notation, the <i>E</i> value (the exponent)\n",
    "followed by an underscore and then the first three digits of the coefficient, for the largest prime in the array."
   ]
  },
  {
   "cell_type": "code",
   "execution_count": 20,
   "id": "467d15ce-6f2c-4272-a784-124ed41bce8b",
   "metadata": {},
   "outputs": [],
   "source": [
    "# SAVE this data for use in other modules\n",
    "# we comment out these lines to prevent accidental clobbering of the existing files\n",
    "# np.save('primeblockEXX_nnn.npy',ptrial)"
   ]
  },
  {
   "cell_type": "markdown",
   "id": "89066ca1-a280-4467-9c82-b55d91ebbb9e",
   "metadata": {},
   "source": [
    "## OLDER VERSIONS OF CODE BELOW - "
   ]
  },
  {
   "cell_type": "raw",
   "id": "a95e147d-8ce5-408e-b989-1cb20d768542",
   "metadata": {},
   "source": [
    "# RAW STORAGE of older versions of pblock below, for reference"
   ]
  },
  {
   "cell_type": "raw",
   "id": "401629dc-3989-4ca3-a7bb-537752123213",
   "metadata": {},
   "source": [
    "# OLDER VERSION. Using G(7#) as a pattern for initiating the search over the requested interval.\n",
    "# create the binary pattern for 7-rough numbers - note - we only look at the odd numbers\n",
    "G7 = np.array([10,2,4,2,4,6,2,6,4,2,4,6,6,2,6,4,2,6,4,6,8,4,2,4,2,4,8,6,4,6,2,4,6,2,6,6,4,2,4,6,2,6,4,2,4,2,10,2], dtype=np.uint16)\n",
    "rough7 = np.zeros(105, dtype=bool)\n",
    "i=0\n",
    "j=0\n",
    "while (i < 105):\n",
    "    rough7[i]=True\n",
    "    i += int(G7[j]/2)\n",
    "    j += 1\n",
    "\n",
    "rough7"
   ]
  },
  {
   "cell_type": "raw",
   "id": "4961a633-f583-4803-818b-dc6d9a9f334c",
   "metadata": {},
   "source": [
    "# identify the primes among odd numbers in a block of size blocklength starting at x0\n",
    "# this version repeats the pattern from G(7#) to accelerate execution.\n",
    "def pblock7(x0, blocklength):\n",
    "    maxp = np.floor(np.sqrt(x0+2*blocklength))\n",
    "\n",
    "    if (x0 <= maxp):  # the starting point is within the range of primes needed in the calculation\n",
    "        xx0 = maxp\n",
    "    else:\n",
    "        xx0 = x0\n",
    "\n",
    "    if ((xx0 % 2) == 0):  # our starting point xx0 must be odd\n",
    "        xx0 = xx0+1\n",
    "\n",
    "    # value associated to index i is xx0+2i\n",
    "    # initialize the array with the pattern from G(7#)\n",
    "    res0 = int(xx0 % 210)\n",
    "    i = int((res0 - 1)/2)  # map value to index in boolean block over odd numbers\n",
    "    ncopies = int(np.ceil(blocklength / 105))\n",
    "    adj_blocklen = ncopies * 105\n",
    "\n",
    "    # if needed, adjust the maximum prime that we need to check\n",
    "    maxp1 = np.floor(np.sqrt(xx0 + 2*adj_blocklen))\n",
    "    if maxp1 > maxp:\n",
    "        print(f\"Adjusted maxp {maxp} {blocklength} to {maxp1} {adj_blocklen}\")\n",
    "        maxp = maxp1\n",
    "    \n",
    "    if (i == 0):\n",
    "        is_prime = np.tile(rough7, ncopies)\n",
    "    else:\n",
    "        shifted_rough7 = np.concatenate((rough7[i:],rough7[0:i]))\n",
    "        is_prime = np.tile(shifted_rough7, ncopies)\n",
    "        print(shifted_rough7)\n",
    "\n",
    "#    is_prime = np.ones(blocklength,dtype=bool)\n",
    "    print(f\"res0 {res0} i {i} x0 {xx0} block {len(is_prime)} maxp {maxp}\")\n",
    "\n",
    "    i=3 # index for primeslist, start at p=11\n",
    "    j=0 # index for testlength\n",
    "    p = primeslist[i]\n",
    "\n",
    "        \n",
    "    while (p < maxp):\n",
    "        if (p < 3000000):\n",
    "            print(f\"checking {p} of {maxp}\", end='\\r')\n",
    "        elif ( (i % 1024) == 0):\n",
    "            print(f\"{i} checking {p} of {maxp}\", end='\\r')\n",
    "            \n",
    "        res0 = xx0 % p  # starting residue\n",
    "        delta0 = int(p - res0)\n",
    "        if (res0 == 0):\n",
    "            j = 0\n",
    "        elif ((delta0 % 2) ==0):\n",
    "            j = int(delta0 /2)\n",
    "        else:\n",
    "            j = int((p+delta0)/2)\n",
    "        while (j < adj_blocklen):\n",
    "            is_prime[j] = False\n",
    "            j += p\n",
    "        i += 1\n",
    "        p = primeslist[i]\n",
    "\n",
    "    pdexes = np.array(np.where(is_prime))\n",
    "    pdexes.shape\n",
    "\n",
    "    newprimes = (2*pdexes[0]+xx0)\n",
    "    print()\n",
    "    print(f\"{len(newprimes)} primes from {newprimes[0]} to {newprimes[-1]}\")\n",
    "    return newprimes"
   ]
  },
  {
   "cell_type": "raw",
   "id": "0bbb32b8-ba9e-4132-bd28-0c89fb42a421",
   "metadata": {},
   "source": [
    "# test cell for pblock7\n",
    "pfacmax = primeslist[-5]\n",
    "x0 = pfacmax**2 - 1000  # we want to focus on intervals of survival, so we start at a square and allow for starting in a large gap\n",
    "x0\n",
    "testlength = 900000000\n",
    "ptrial2 = pblock7(x0,testlength)"
   ]
  },
  {
   "cell_type": "raw",
   "id": "7439381e-3a46-4138-9cb4-334d6fdc3ba0",
   "metadata": {},
   "source": [
    "# ORIGINAL VERSION - for reference only.  Versions with more efficient starts are recorded below.\n",
    "# identify the primes among odd numbers in a block of size blocklength starting at x0\n",
    "# Versions with more efficient starts are recorded below.\n",
    "def pblock(x0, blocklength):\n",
    "    i=0 # index for primeslist, start at p=3\n",
    "    j=0 # index for testlength\n",
    "    p = primeslist[i]\n",
    "    maxp = np.sqrt(x0+2*blocklength)\n",
    "\n",
    "    # value associated to index i is xx0+2i\n",
    "    is_prime = np.ones(blocklength,dtype=bool)\n",
    "    print(f\"x0 {x0} block {len(is_prime)} maxp {maxp}\")\n",
    "\n",
    "    if (x0 <= maxp):  # the starting point is within the range of primes needed in the calculation\n",
    "        xx0 = maxp\n",
    "    else:\n",
    "        xx0 = x0\n",
    "\n",
    "    if ((xx0 % 2) == 0):  # our starting point xx0 must be odd\n",
    "        xx0 = xx0+1\n",
    "        \n",
    "    while (p < maxp):\n",
    "        if (p < 3000000):\n",
    "            print(f\"checking {p} of {maxp}\", end='\\r')\n",
    "        elif ( (i % 1024) == 0):\n",
    "            print(f\"{i} checking {p} of {maxp}\", end='\\r')\n",
    "\n",
    "        res0 = xx0 % p  # starting residue\n",
    "        delta0 = int(p - res0)\n",
    "        if (res0 == 0):\n",
    "            j = 0\n",
    "        elif ((delta0 % 2) ==0):\n",
    "            j = int(delta0 /2)\n",
    "        else:\n",
    "            j = int((p+delta0)/2)\n",
    "        while (j < blocklength):\n",
    "            is_prime[j] = False\n",
    "            j += p\n",
    "        i += 1\n",
    "        p = primeslist[i]\n",
    "\n",
    "    pdexes = np.array(np.where(is_prime))\n",
    "    pdexes.shape\n",
    "\n",
    "    newprimes = (2*pdexes[0]+xx0)\n",
    "    print(f\"{len(newprimes)} primes from {newprimes[0]} to {newprimes[-1]}\")\n",
    "    return newprimes"
   ]
  }
 ],
 "metadata": {
  "kernelspec": {
   "display_name": "Python 3 (ipykernel)",
   "language": "python",
   "name": "python3"
  },
  "language_info": {
   "codemirror_mode": {
    "name": "ipython",
    "version": 3
   },
   "file_extension": ".py",
   "mimetype": "text/x-python",
   "name": "python",
   "nbconvert_exporter": "python",
   "pygments_lexer": "ipython3",
   "version": "3.11.5"
  }
 },
 "nbformat": 4,
 "nbformat_minor": 5
}
