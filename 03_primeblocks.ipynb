{
 "cells": [
  {
   "cell_type": "markdown",
   "id": "f384379b-bad6-4c4f-b8c6-62dfc9957cb4",
   "metadata": {},
   "source": [
    "# Utility code for identifying primes and prime covered by $\\mathcal{G}(29^\\#)$\n",
    "This is very specific code for building arrays of gaps between primes covered by the\n",
    "cycle $\\mathcal{G}(29^\\#)$ and beyond"
   ]
  },
  {
   "cell_type": "code",
   "execution_count": 1,
   "id": "cc896f02-c202-4b06-a040-0011e9a069bd",
   "metadata": {},
   "outputs": [],
   "source": [
    "import numpy as np\n",
    "import array\n",
    "import gc\n",
    "import psutil\n",
    "import sys"
   ]
  },
  {
   "cell_type": "code",
   "execution_count": 2,
   "id": "fb28b857-01d6-44ee-8e9f-891159afc566",
   "metadata": {},
   "outputs": [
    {
     "name": "stdout",
     "output_type": "stream",
     "text": [
      "Available memory: 5351.89 MB\n"
     ]
    }
   ],
   "source": [
    "# block to check the available system memory\n",
    "gc.collect()\n",
    "memory = psutil.virtual_memory()\n",
    "available_memory = memory.available\n",
    "del memory\n",
    "print(f\"Available memory: {available_memory / (1024 ** 2):.2f} MB\")"
   ]
  },
  {
   "cell_type": "code",
   "execution_count": 3,
   "id": "391551c2-6b5b-49d3-81bc-8a092c3d486c",
   "metadata": {},
   "outputs": [
    {
     "name": "stdout",
     "output_type": "stream",
     "text": [
      "12283522 primes from 29 to 223092827\n"
     ]
    }
   ],
   "source": [
    "primes23 = np.load('primes23.npy')\n",
    "print(f\"{len(primes23)} primes from {primes23[0]} to {primes23[-1]}\")"
   ]
  },
  {
   "cell_type": "code",
   "execution_count": 4,
   "id": "4992be35-63d3-4460-9d5c-59d60f5ca47e",
   "metadata": {},
   "outputs": [
    {
     "name": "stdout",
     "output_type": "stream",
     "text": [
      " 2500008 primes from 3 to 41161949\n"
     ]
    }
   ],
   "source": [
    "firstprimes = np.array((3,5,7,11,13,17,19,23))\n",
    "primeslist = np.concatenate((firstprimes,primes23[0:2500000]))\n",
    "print(f\" {len(primeslist)} primes from {primeslist[0]} to {primeslist[-1]}\")"
   ]
  },
  {
   "cell_type": "code",
   "execution_count": 5,
   "id": "efba421c-3485-44f2-838b-48f362573171",
   "metadata": {},
   "outputs": [
    {
     "data": {
      "text/plain": [
       "array([34995413, 34995449, 34995463, 34995479, 34995487, 34995491,\n",
       "       34995523, 34995533, 34995553, 34995577, 34995617, 34995659,\n",
       "       34995661, 34995677, 34995713, 34995749, 34995767, 34995781,\n",
       "       34995787, 34995797, 34995799, 34995803, 34995817, 34995823,\n",
       "       34995881, 34995889, 34995899, 34995913, 34995923, 34995943,\n",
       "       34995959, 34996033, 34996051, 34996057, 34996061, 34996079,\n",
       "       34996103, 34996121, 34996123, 34996139, 34996141, 34996147,\n",
       "       34996151, 34996163, 34996187, 34996189, 34996193, 34996201,\n",
       "       34996211, 34996223])"
      ]
     },
     "execution_count": 5,
     "metadata": {},
     "output_type": "execute_result"
    }
   ],
   "source": [
    "# just sampling the primes around 3.4E7 : the square is above 1E15\n",
    "primeslist[2146500:2146550]"
   ]
  },
  {
   "cell_type": "code",
   "execution_count": 6,
   "id": "10743f1b-3956-4fa8-956c-b9732018427f",
   "metadata": {},
   "outputs": [],
   "source": [
    "# identify the primes among odd numbers in a block of size blocklength starting at x0\n",
    "def pblock(x0, blocklength):\n",
    "    i=0 # index for primeslist, start at p=3\n",
    "    j=0 # index for testlength\n",
    "    p = primeslist[i]\n",
    "    maxp = np.sqrt(x0+2*blocklength)\n",
    "\n",
    "    # value associated to index i is xx0+2i\n",
    "    is_prime = np.ones(blocklength,dtype=bool)\n",
    "    print(f\"x0 {x0} block {len(is_prime)} maxp {maxp}\")\n",
    "\n",
    "    if (x0 <= maxp):  # the starting point is within the range of primes needed in the calculation\n",
    "        xx0 = maxp\n",
    "    else:\n",
    "        xx0 = x0\n",
    "\n",
    "    if ((xx0 % 2) == 0):  # our starting point xx0 must be odd\n",
    "        xx0 = xx0+1\n",
    "    else:\n",
    "        xx0 = xx0\n",
    "        \n",
    "    while (p < maxp):\n",
    "        print(f\"checking {p} of {maxp}\", end='\\r')\n",
    "        res0 = xx0 % p  # starting residue\n",
    "        delta0 = int(p - res0)\n",
    "        if (res0 == 0):\n",
    "            j = 0\n",
    "        elif ((delta0 % 2) ==0):\n",
    "            j = int(delta0 /2)\n",
    "        else:\n",
    "            j = int((p+delta0)/2)\n",
    "        while (j < blocklength):\n",
    "            is_prime[j] = False\n",
    "            j += p\n",
    "        i += 1\n",
    "        p = primeslist[i]\n",
    "\n",
    "    pdexes = np.array(np.where(is_prime))\n",
    "    pdexes.shape\n",
    "\n",
    "    newprimes = (2*pdexes[0]+xx0)\n",
    "    print(f\"{len(newprimes)} primes from {newprimes[0]} to {newprimes[-1]}\")\n",
    "    return newprimes"
   ]
  },
  {
   "cell_type": "markdown",
   "id": "c6729282-6b5e-4b68-908a-f7f0e34f458b",
   "metadata": {},
   "source": [
    "## Example use\n",
    "We set a large value for a starting point $x_0$ and a large interval over which to search.\n",
    "The range of our search is bounded by the square of the largest prime we have available in primeslist[]."
   ]
  },
  {
   "cell_type": "code",
   "execution_count": 7,
   "id": "bfaaee93-d55d-406e-be2e-3f5f795bc748",
   "metadata": {},
   "outputs": [
    {
     "data": {
      "text/plain": [
       "np.int64(1694296166624241)"
      ]
     },
     "execution_count": 7,
     "metadata": {},
     "output_type": "execute_result"
    }
   ],
   "source": [
    "pfacmax = primeslist[-5]\n",
    "x0 = pfacmax**2 - 1000  # we want to focus on intervals of survival, so we start at a square and allow for starting in a large gap\n",
    "x0"
   ]
  },
  {
   "cell_type": "code",
   "execution_count": 8,
   "id": "19ed42aa-d47c-448d-95fb-58975b386db0",
   "metadata": {},
   "outputs": [],
   "source": [
    "testlength = 900000000"
   ]
  },
  {
   "cell_type": "code",
   "execution_count": 9,
   "id": "b66d92ea-7c63-4166-8bfc-9a44e05d8457",
   "metadata": {},
   "outputs": [
    {
     "name": "stdout",
     "output_type": "stream",
     "text": [
      "x0 1694296166624241 block 900000000 maxp 41161850.86489966\n",
      "checking 2831329 of 41161850.86489966"
     ]
    },
    {
     "name": "stderr",
     "output_type": "stream",
     "text": [
      "IOPub data rate exceeded.\n",
      "The Jupyter server will temporarily stop sending output\n",
      "to the client in order to avoid crashing it.\n",
      "To change this limit, set the config variable\n",
      "`--ServerApp.iopub_data_rate_limit`.\n",
      "\n",
      "Current values:\n",
      "ServerApp.iopub_data_rate_limit=1000000.0 (bytes/sec)\n",
      "ServerApp.rate_limit_window=3.0 (secs)\n",
      "\n"
     ]
    },
    {
     "name": "stdout",
     "output_type": "stream",
     "text": [
      "checking 4123099 of 41161850.86489966"
     ]
    },
    {
     "name": "stderr",
     "output_type": "stream",
     "text": [
      "IOPub data rate exceeded.\n",
      "The Jupyter server will temporarily stop sending output\n",
      "to the client in order to avoid crashing it.\n",
      "To change this limit, set the config variable\n",
      "`--ServerApp.iopub_data_rate_limit`.\n",
      "\n",
      "Current values:\n",
      "ServerApp.iopub_data_rate_limit=1000000.0 (bytes/sec)\n",
      "ServerApp.rate_limit_window=3.0 (secs)\n",
      "\n"
     ]
    },
    {
     "name": "stdout",
     "output_type": "stream",
     "text": [
      "checking 6415007 of 41161850.86489966"
     ]
    },
    {
     "name": "stderr",
     "output_type": "stream",
     "text": [
      "IOPub data rate exceeded.\n",
      "The Jupyter server will temporarily stop sending output\n",
      "to the client in order to avoid crashing it.\n",
      "To change this limit, set the config variable\n",
      "`--ServerApp.iopub_data_rate_limit`.\n",
      "\n",
      "Current values:\n",
      "ServerApp.iopub_data_rate_limit=1000000.0 (bytes/sec)\n",
      "ServerApp.rate_limit_window=3.0 (secs)\n",
      "\n"
     ]
    },
    {
     "name": "stdout",
     "output_type": "stream",
     "text": [
      "checking 10103363 of 41161850.86489966"
     ]
    },
    {
     "name": "stderr",
     "output_type": "stream",
     "text": [
      "IOPub data rate exceeded.\n",
      "The Jupyter server will temporarily stop sending output\n",
      "to the client in order to avoid crashing it.\n",
      "To change this limit, set the config variable\n",
      "`--ServerApp.iopub_data_rate_limit`.\n",
      "\n",
      "Current values:\n",
      "ServerApp.iopub_data_rate_limit=1000000.0 (bytes/sec)\n",
      "ServerApp.rate_limit_window=3.0 (secs)\n",
      "\n"
     ]
    },
    {
     "name": "stdout",
     "output_type": "stream",
     "text": [
      "checking 15281053 of 41161850.86489966"
     ]
    },
    {
     "name": "stderr",
     "output_type": "stream",
     "text": [
      "IOPub data rate exceeded.\n",
      "The Jupyter server will temporarily stop sending output\n",
      "to the client in order to avoid crashing it.\n",
      "To change this limit, set the config variable\n",
      "`--ServerApp.iopub_data_rate_limit`.\n",
      "\n",
      "Current values:\n",
      "ServerApp.iopub_data_rate_limit=1000000.0 (bytes/sec)\n",
      "ServerApp.rate_limit_window=3.0 (secs)\n",
      "\n"
     ]
    },
    {
     "name": "stdout",
     "output_type": "stream",
     "text": [
      "checking 22308863 of 41161850.86489966"
     ]
    },
    {
     "name": "stderr",
     "output_type": "stream",
     "text": [
      "IOPub data rate exceeded.\n",
      "The Jupyter server will temporarily stop sending output\n",
      "to the client in order to avoid crashing it.\n",
      "To change this limit, set the config variable\n",
      "`--ServerApp.iopub_data_rate_limit`.\n",
      "\n",
      "Current values:\n",
      "ServerApp.iopub_data_rate_limit=1000000.0 (bytes/sec)\n",
      "ServerApp.rate_limit_window=3.0 (secs)\n",
      "\n"
     ]
    },
    {
     "name": "stdout",
     "output_type": "stream",
     "text": [
      "checking 30968293 of 41161850.86489966"
     ]
    },
    {
     "name": "stderr",
     "output_type": "stream",
     "text": [
      "IOPub data rate exceeded.\n",
      "The Jupyter server will temporarily stop sending output\n",
      "to the client in order to avoid crashing it.\n",
      "To change this limit, set the config variable\n",
      "`--ServerApp.iopub_data_rate_limit`.\n",
      "\n",
      "Current values:\n",
      "ServerApp.iopub_data_rate_limit=1000000.0 (bytes/sec)\n",
      "ServerApp.rate_limit_window=3.0 (secs)\n",
      "\n"
     ]
    },
    {
     "name": "stdout",
     "output_type": "stream",
     "text": [
      "51337046 primes from 1694296166624249 to 1694297966624161\n"
     ]
    }
   ],
   "source": [
    "ptrial = pblock(x0,testlength)"
   ]
  },
  {
   "cell_type": "code",
   "execution_count": 10,
   "id": "3cfc6e76-8294-4c83-a81b-6d323a224801",
   "metadata": {},
   "outputs": [
    {
     "data": {
      "text/plain": [
       "array([1694297966623687, 1694297966623723, 1694297966623753,\n",
       "       1694297966623831, 1694297966623943, 1694297966623957,\n",
       "       1694297966623963, 1694297966624099, 1694297966624143,\n",
       "       1694297966624161])"
      ]
     },
     "execution_count": 10,
     "metadata": {},
     "output_type": "execute_result"
    }
   ],
   "source": [
    "ptrial[-10:]"
   ]
  },
  {
   "cell_type": "code",
   "execution_count": 12,
   "id": "4558fd7e-c87a-45bc-a868-91d48f224ce6",
   "metadata": {},
   "outputs": [
    {
     "data": {
      "text/plain": [
       "array([ 14,  24,  42,  60,   4,  26,  10,  98,   4,  26,   6,  60,  64,\n",
       "        72,  42,  38,  12,  48,   4, 206])"
      ]
     },
     "execution_count": 12,
     "metadata": {},
     "output_type": "execute_result"
    }
   ],
   "source": [
    "newpgaps= ptrial[1:len(ptrial)]-ptrial[0:(len(ptrial)-1)]\n",
    "newpgaps[0:20]"
   ]
  },
  {
   "cell_type": "code",
   "execution_count": 14,
   "id": "467d15ce-6f2c-4272-a784-124ed41bce8b",
   "metadata": {},
   "outputs": [],
   "source": [
    "# SAVE this data for use in other modules\n",
    "# we comment out these lines to prevent accidental clobbering of the existing files\n",
    "#np.save('primeblock111.npy',ptrial)\n",
    "#np.save('pgapblock111.npy',newpgaps)"
   ]
  },
  {
   "cell_type": "code",
   "execution_count": 20,
   "id": "eebffb1a-901f-430d-9b5b-6be649310e11",
   "metadata": {},
   "outputs": [
    {
     "data": {
      "text/plain": [
       "np.float64(41161850.86489869)"
      ]
     },
     "execution_count": 20,
     "metadata": {},
     "output_type": "execute_result"
    }
   ],
   "source": [
    "# comparing the largest prime found to the tail of primeslist\n",
    "np.sqrt(ptrial[-1])"
   ]
  },
  {
   "cell_type": "code",
   "execution_count": 19,
   "id": "f9a31c0f-a65d-4ce6-8eb9-74b7ea658676",
   "metadata": {},
   "outputs": [
    {
     "data": {
      "text/plain": [
       "array([41161823, 41161829, 41161849, 41161859, 41161943, 41161949])"
      ]
     },
     "execution_count": 19,
     "metadata": {},
     "output_type": "execute_result"
    }
   ],
   "source": [
    "primeslist[-6:]"
   ]
  },
  {
   "cell_type": "code",
   "execution_count": null,
   "id": "6e05dcff-5dbb-471c-9a07-4bdb695a9a3a",
   "metadata": {},
   "outputs": [],
   "source": []
  }
 ],
 "metadata": {
  "kernelspec": {
   "display_name": "Python 3 (ipykernel)",
   "language": "python",
   "name": "python3"
  },
  "language_info": {
   "codemirror_mode": {
    "name": "ipython",
    "version": 3
   },
   "file_extension": ".py",
   "mimetype": "text/x-python",
   "name": "python",
   "nbconvert_exporter": "python",
   "pygments_lexer": "ipython3",
   "version": "3.11.5"
  }
 },
 "nbformat": 4,
 "nbformat_minor": 5
}
